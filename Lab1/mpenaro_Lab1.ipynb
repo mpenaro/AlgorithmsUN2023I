{
  "cells": [
    {
      "cell_type": "markdown",
      "metadata": {
        "id": "view-in-github",
        "colab_type": "text"
      },
      "source": [
        "<a href=\"https://colab.research.google.com/github/mpenaro/AlgorithmsUN2023II/blob/main/Lab1/mpenaro_Lab1.ipynb\" target=\"_parent\"><img src=\"https://colab.research.google.com/assets/colab-badge.svg\" alt=\"Open In Colab\"/></a>"
      ]
    },
    {
      "cell_type": "markdown",
      "source": [
        "# Lectura 1"
      ],
      "metadata": {
        "id": "FZKBsp3dwQKc"
      }
    },
    {
      "cell_type": "markdown",
      "metadata": {
        "id": "REzZ0rwiZLeR"
      },
      "source": [
        "My own example 1"
      ]
    },
    {
      "cell_type": "code",
      "execution_count": null,
      "metadata": {
        "colab": {
          "base_uri": "https://localhost:8080/"
        },
        "id": "46uvzhALZeHf",
        "outputId": "6e337104-166a-40be-9b4e-efba581d91b1"
      },
      "outputs": [
        {
          "data": {
            "text/plain": [
              "8"
            ]
          },
          "execution_count": 1,
          "metadata": {},
          "output_type": "execute_result"
        }
      ],
      "source": [
        "4 + 4"
      ]
    },
    {
      "cell_type": "markdown",
      "metadata": {
        "id": "5fYdXcr0ZVXC"
      },
      "source": [
        "My own example 2"
      ]
    },
    {
      "cell_type": "code",
      "execution_count": null,
      "metadata": {
        "id": "TGzlmSzSZ4xP"
      },
      "outputs": [],
      "source": [
        "y = 4"
      ]
    },
    {
      "cell_type": "markdown",
      "metadata": {
        "id": "lNCsnKPMZWb1"
      },
      "source": [
        "My own example 3"
      ]
    },
    {
      "cell_type": "code",
      "execution_count": null,
      "metadata": {
        "colab": {
          "base_uri": "https://localhost:8080/"
        },
        "id": "1mVuTVFwZ_Nj",
        "outputId": "6d140cbb-050d-42ff-a94e-c1df01f9cd5a"
      },
      "outputs": [
        {
          "data": {
            "text/plain": [
              "7"
            ]
          },
          "execution_count": 4,
          "metadata": {},
          "output_type": "execute_result"
        }
      ],
      "source": [
        "2 + 6\n",
        "3 + 4"
      ]
    },
    {
      "cell_type": "markdown",
      "metadata": {
        "id": "46barN41ZWea"
      },
      "source": [
        "My own example 4"
      ]
    },
    {
      "cell_type": "code",
      "execution_count": null,
      "metadata": {
        "colab": {
          "base_uri": "https://localhost:8080/"
        },
        "id": "Pzwnc3LzaD-N",
        "outputId": "327a0dc8-02de-442f-fa6b-f9161b052e25"
      },
      "outputs": [
        {
          "name": "stdout",
          "output_type": "stream",
          "text": [
            "7\n"
          ]
        },
        {
          "data": {
            "text/plain": [
              "9"
            ]
          },
          "execution_count": 8,
          "metadata": {},
          "output_type": "execute_result"
        }
      ],
      "source": [
        "print(6 + 1)\n",
        "4 +5"
      ]
    },
    {
      "cell_type": "markdown",
      "metadata": {
        "id": "PCHG7CREZWg6"
      },
      "source": [
        "My own example 5"
      ]
    },
    {
      "cell_type": "code",
      "execution_count": null,
      "metadata": {
        "colab": {
          "base_uri": "https://localhost:8080/"
        },
        "id": "ryg_F_DraU4a",
        "outputId": "4f2ae443-980a-43a1-ad2b-8c9dcb339170"
      },
      "outputs": [
        {
          "data": {
            "text/plain": [
              "45"
            ]
          },
          "execution_count": 15,
          "metadata": {},
          "output_type": "execute_result"
        }
      ],
      "source": [
        "b = 0\n",
        "for i in range(10):\n",
        "    b = b + i\n",
        "b"
      ]
    },
    {
      "cell_type": "markdown",
      "metadata": {
        "id": "O4RpARntZWjG"
      },
      "source": [
        "My own example 5"
      ]
    },
    {
      "cell_type": "code",
      "execution_count": null,
      "metadata": {
        "id": "aebIBdkaXtiw"
      },
      "outputs": [],
      "source": [
        "import numpy as np\n",
        "import pandas as pd\n",
        "import matplotlib.pyplot as plt"
      ]
    },
    {
      "cell_type": "markdown",
      "metadata": {
        "id": "4nlZsXZGbpJw"
      },
      "source": [
        "My own example 6\n"
      ]
    },
    {
      "cell_type": "code",
      "execution_count": null,
      "metadata": {
        "id": "VdteQE4XcM2E"
      },
      "outputs": [],
      "source": [
        "np.random.binomial?"
      ]
    },
    {
      "cell_type": "markdown",
      "metadata": {
        "id": "_LI35tGAbxOR"
      },
      "source": [
        "My own example 7\n"
      ]
    },
    {
      "cell_type": "code",
      "execution_count": null,
      "metadata": {
        "id": "qyi8tzbYclZp"
      },
      "outputs": [],
      "source": [
        "X = np.random.normal(2, 5, 50) #Usa ditribucion normal"
      ]
    },
    {
      "cell_type": "markdown",
      "metadata": {
        "id": "yUztLan8bxRF"
      },
      "source": [
        "My own example 8\n"
      ]
    },
    {
      "cell_type": "code",
      "execution_count": null,
      "metadata": {
        "colab": {
          "base_uri": "https://localhost:8080/",
          "height": 284
        },
        "id": "-AKs_pkxc47p",
        "outputId": "e200c103-76a0-4c0f-aa9f-8783c1f289f9"
      },
      "outputs": [
        {
          "output_type": "execute_result",
          "data": {
            "text/plain": [
              "[<matplotlib.lines.Line2D at 0x7fc2c4b7bed0>]"
            ]
          },
          "metadata": {},
          "execution_count": 11
        },
        {
          "output_type": "display_data",
          "data": {
            "text/plain": [
              "<Figure size 432x288 with 1 Axes>"
            ],
            "image/png": "[encoded data removed]"
          },
          "metadata": {
            "needs_background": "light"
          }
        }
      ],
      "source": [
        "plt.plot(X)"
      ]
    },
    {
      "cell_type": "markdown",
      "metadata": {
        "id": "u7cL6P4ZbxTl"
      },
      "source": [
        "My own example 9\n"
      ]
    },
    {
      "cell_type": "code",
      "execution_count": null,
      "metadata": {
        "colab": {
          "base_uri": "https://localhost:8080/",
          "height": 279
        },
        "id": "l9U3v964dReJ",
        "outputId": "f0d42804-da34-4b5a-8fdb-f41c2d3e5c24"
      },
      "outputs": [
        {
          "output_type": "display_data",
          "data": {
            "text/plain": [
              "<Figure size 432x288 with 1 Axes>"
            ],
            "image/png": "[encoded data removed]"
          },
          "metadata": {
            "needs_background": "light"
          }
        }
      ],
      "source": [
        "X = np.random.normal(1, 2, 30)\n",
        "X2 = np.random.normal(2, 4, 30)\n",
        "\n",
        "plt.plot(X);\n",
        "plt.plot(X2);\n",
        "plt.xlabel('Tiempo')\n",
        "plt.ylabel('Devuelve')\n",
        "plt.legend(['X', 'X2']);"
      ]
    },
    {
      "cell_type": "markdown",
      "metadata": {
        "id": "AJ5c4w89bxWA"
      },
      "source": [
        "My own example 10\n"
      ]
    },
    {
      "cell_type": "code",
      "execution_count": null,
      "metadata": {
        "id": "oTeB24DwdnjK",
        "colab": {
          "base_uri": "https://localhost:8080/"
        },
        "outputId": "fd4ed63e-b90d-4e4f-c23e-0f6f094e4834"
      },
      "outputs": [
        {
          "output_type": "execute_result",
          "data": {
            "text/plain": [
              "2.4752220563124023"
            ]
          },
          "metadata": {},
          "execution_count": 12
        }
      ],
      "source": [
        "np.mean(X) #Calcula media"
      ]
    },
    {
      "cell_type": "markdown",
      "metadata": {
        "id": "V_JIgLWMbxt7"
      },
      "source": [
        "My own example 11\n"
      ]
    },
    {
      "cell_type": "code",
      "execution_count": null,
      "metadata": {
        "colab": {
          "base_uri": "https://localhost:8080/"
        },
        "id": "UBrzQQgRdxJI",
        "outputId": "70ad9250-9f4f-4c0f-cd1d-bccaa7e13ae7"
      },
      "outputs": [
        {
          "output_type": "execute_result",
          "data": {
            "text/plain": [
              "3.2905497422548917"
            ]
          },
          "metadata": {},
          "execution_count": 13
        }
      ],
      "source": [
        "np.std(X2) #calcula desviación estandar"
      ]
    },
    {
      "cell_type": "markdown",
      "source": [
        "My own example 12"
      ],
      "metadata": {
        "id": "Ph0hMEHnDMg5"
      }
    },
    {
      "cell_type": "code",
      "source": [
        "!pip install yfinance\n",
        "\n",
        "import yfinance as yf\n",
        "\n",
        "data = yf.download(\"MSFT\", start=\"2012-1-1\", end=\"2015-6-1\")"
      ],
      "metadata": {
        "colab": {
          "base_uri": "https://localhost:8080/"
        },
        "id": "v_dETU7KDnOU",
        "outputId": "3f2ac8c2-e4eb-4eeb-af0d-2c62a6f7b5f4"
      },
      "execution_count": null,
      "outputs": [
        {
          "output_type": "stream",
          "name": "stdout",
          "text": [
            "Looking in indexes: https://pypi.org/simple, https://us-python.pkg.dev/colab-wheels/public/simple/\n",
            "Requirement already satisfied: yfinance in /usr/local/lib/python3.7/dist-packages (0.1.74)\n",
            "Requirement already satisfied: lxml>=4.5.1 in /usr/local/lib/python3.7/dist-packages (from yfinance) (4.9.1)\n",
            "Requirement already satisfied: numpy>=1.15 in /usr/local/lib/python3.7/dist-packages (from yfinance) (1.21.6)\n",
            "Requirement already satisfied: multitasking>=0.0.7 in /usr/local/lib/python3.7/dist-packages (from yfinance) (0.0.11)\n",
            "Requirement already satisfied: pandas>=0.24.0 in /usr/local/lib/python3.7/dist-packages (from yfinance) (1.3.5)\n",
            "Requirement already satisfied: requests>=2.26 in /usr/local/lib/python3.7/dist-packages (from yfinance) (2.28.1)\n",
            "Requirement already satisfied: python-dateutil>=2.7.3 in /usr/local/lib/python3.7/dist-packages (from pandas>=0.24.0->yfinance) (2.8.2)\n",
            "Requirement already satisfied: pytz>=2017.3 in /usr/local/lib/python3.7/dist-packages (from pandas>=0.24.0->yfinance) (2022.2.1)\n",
            "Requirement already satisfied: six>=1.5 in /usr/local/lib/python3.7/dist-packages (from python-dateutil>=2.7.3->pandas>=0.24.0->yfinance) (1.15.0)\n",
            "Requirement already satisfied: idna<4,>=2.5 in /usr/local/lib/python3.7/dist-packages (from requests>=2.26->yfinance) (2.10)\n",
            "Requirement already satisfied: urllib3<1.27,>=1.21.1 in /usr/local/lib/python3.7/dist-packages (from requests>=2.26->yfinance) (1.24.3)\n",
            "Requirement already satisfied: charset-normalizer<3,>=2 in /usr/local/lib/python3.7/dist-packages (from requests>=2.26->yfinance) (2.1.1)\n",
            "Requirement already satisfied: certifi>=2017.4.17 in /usr/local/lib/python3.7/dist-packages (from requests>=2.26->yfinance) (2022.6.15)\n",
            "[*********************100%***********************]  1 of 1 completed\n"
          ]
        }
      ]
    },
    {
      "cell_type": "markdown",
      "source": [
        "My own example 13"
      ],
      "metadata": {
        "id": "qF1NBeoODPUy"
      }
    },
    {
      "cell_type": "code",
      "source": [
        "data"
      ],
      "metadata": {
        "colab": {
          "base_uri": "https://localhost:8080/",
          "height": 455
        },
        "id": "85ZtYCoqDu4K",
        "outputId": "4541dc3a-4ef8-4e8e-b4ad-44718a8430c0"
      },
      "execution_count": null,
      "outputs": [
        {
          "output_type": "execute_result",
          "data": {
            "text/plain": [
              "                 Open       High        Low      Close  Adj Close    Volume\n",
              "Date                                                                       \n",
              "2012-01-03  26.549999  26.959999  26.389999  26.770000  21.527189  64731500\n",
              "2012-01-04  26.820000  27.469999  26.780001  27.400000  22.033815  80516100\n",
              "2012-01-05  27.379999  27.730000  27.290001  27.680000  22.258974  56081400\n",
              "2012-01-06  27.530001  28.190001  27.530001  28.110001  22.604767  99455500\n",
              "2012-01-09  28.049999  28.100000  27.719999  27.740000  22.307222  59706800\n",
              "...               ...        ...        ...        ...        ...       ...\n",
              "2015-05-22  47.299999  47.349998  46.820000  46.900002  41.609779  25720600\n",
              "2015-05-26  46.830002  46.880001  46.189999  46.590000  41.334747  29581900\n",
              "2015-05-27  46.820000  47.770000  46.619999  47.610001  42.239693  27335600\n",
              "2015-05-28  47.500000  48.020000  47.389999  47.450001  42.097733  19283700\n",
              "2015-05-29  47.430000  47.570000  46.590000  46.860001  41.574291  36519600\n",
              "\n",
              "[856 rows x 6 columns]"
            ],
            "text/html": [
              "\n",
              "  <div id=\"df-d3c9b379-de41-46e7-994b-c72da6595fb2\">\n",
              "    <div class=\"colab-df-container\">\n",
              "      <div>\n",
              "<style scoped>\n",
              "    .dataframe tbody tr th:only-of-type {\n",
              "        vertical-align: middle;\n",
              "    }\n",
              "\n",
              "    .dataframe tbody tr th {\n",
              "        vertical-align: top;\n",
              "    }\n",
              "\n",
              "    .dataframe thead th {\n",
              "        text-align: right;\n",
              "    }\n",
              "</style>\n",
              "<table border=\"1\" class=\"dataframe\">\n",
              "  <thead>\n",
              "    <tr style=\"text-align: right;\">\n",
              "      <th></th>\n",
              "      <th>Open</th>\n",
              "      <th>High</th>\n",
              "      <th>Low</th>\n",
              "      <th>Close</th>\n",
              "      <th>Adj Close</th>\n",
              "      <th>Volume</th>\n",
              "    </tr>\n",
              "    <tr>\n",
              "      <th>Date</th>\n",
              "      <th></th>\n",
              "      <th></th>\n",
              "      <th></th>\n",
              "      <th></th>\n",
              "      <th></th>\n",
              "      <th></th>\n",
              "    </tr>\n",
              "  </thead>\n",
              "  <tbody>\n",
              "    <tr>\n",
              "      <th>2012-01-03</th>\n",
              "      <td>26.549999</td>\n",
              "      <td>26.959999</td>\n",
              "      <td>26.389999</td>\n",
              "      <td>26.770000</td>\n",
              "      <td>21.527189</td>\n",
              "      <td>64731500</td>\n",
              "    </tr>\n",
              "    <tr>\n",
              "      <th>2012-01-04</th>\n",
              "      <td>26.820000</td>\n",
              "      <td>27.469999</td>\n",
              "      <td>26.780001</td>\n",
              "      <td>27.400000</td>\n",
              "      <td>22.033815</td>\n",
              "      <td>80516100</td>\n",
              "    </tr>\n",
              "    <tr>\n",
              "      <th>2012-01-05</th>\n",
              "      <td>27.379999</td>\n",
              "      <td>27.730000</td>\n",
              "      <td>27.290001</td>\n",
              "      <td>27.680000</td>\n",
              "      <td>22.258974</td>\n",
              "      <td>56081400</td>\n",
              "    </tr>\n",
              "    <tr>\n",
              "      <th>2012-01-06</th>\n",
              "      <td>27.530001</td>\n",
              "      <td>28.190001</td>\n",
              "      <td>27.530001</td>\n",
              "      <td>28.110001</td>\n",
              "      <td>22.604767</td>\n",
              "      <td>99455500</td>\n",
              "    </tr>\n",
              "    <tr>\n",
              "      <th>2012-01-09</th>\n",
              "      <td>28.049999</td>\n",
              "      <td>28.100000</td>\n",
              "      <td>27.719999</td>\n",
              "      <td>27.740000</td>\n",
              "      <td>22.307222</td>\n",
              "      <td>59706800</td>\n",
              "    </tr>\n",
              "    <tr>\n",
              "      <th>...</th>\n",
              "      <td>...</td>\n",
              "      <td>...</td>\n",
              "      <td>...</td>\n",
              "      <td>...</td>\n",
              "      <td>...</td>\n",
              "      <td>...</td>\n",
              "    </tr>\n",
              "    <tr>\n",
              "      <th>2015-05-22</th>\n",
              "      <td>47.299999</td>\n",
              "      <td>47.349998</td>\n",
              "      <td>46.820000</td>\n",
              "      <td>46.900002</td>\n",
              "      <td>41.609779</td>\n",
              "      <td>25720600</td>\n",
              "    </tr>\n",
              "    <tr>\n",
              "      <th>2015-05-26</th>\n",
              "      <td>46.830002</td>\n",
              "      <td>46.880001</td>\n",
              "      <td>46.189999</td>\n",
              "      <td>46.590000</td>\n",
              "      <td>41.334747</td>\n",
              "      <td>29581900</td>\n",
              "    </tr>\n",
              "    <tr>\n",
              "      <th>2015-05-27</th>\n",
              "      <td>46.820000</td>\n",
              "      <td>47.770000</td>\n",
              "      <td>46.619999</td>\n",
              "      <td>47.610001</td>\n",
              "      <td>42.239693</td>\n",
              "      <td>27335600</td>\n",
              "    </tr>\n",
              "    <tr>\n",
              "      <th>2015-05-28</th>\n",
              "      <td>47.500000</td>\n",
              "      <td>48.020000</td>\n",
              "      <td>47.389999</td>\n",
              "      <td>47.450001</td>\n",
              "      <td>42.097733</td>\n",
              "      <td>19283700</td>\n",
              "    </tr>\n",
              "    <tr>\n",
              "      <th>2015-05-29</th>\n",
              "      <td>47.430000</td>\n",
              "      <td>47.570000</td>\n",
              "      <td>46.590000</td>\n",
              "      <td>46.860001</td>\n",
              "      <td>41.574291</td>\n",
              "      <td>36519600</td>\n",
              "    </tr>\n",
              "  </tbody>\n",
              "</table>\n",
              "<p>856 rows × 6 columns</p>\n",
              "</div>\n",
              "      <button class=\"colab-df-convert\" onclick=\"convertToInteractive('df-d3c9b379-de41-46e7-994b-c72da6595fb2')\"\n",
              "              title=\"Convert this dataframe to an interactive table.\"\n",
              "              style=\"display:none;\">\n",
              "        \n",
              "  <svg xmlns=\"http://www.w3.org/2000/svg\" height=\"24px\"viewBox=\"0 0 24 24\"\n",
              "       width=\"24px\">\n",
              "    <path d=\"M0 0h24v24H0V0z\" fill=\"none\"/>\n",
              "    <path d=\"M18.56 5.44l.94 2.06.94-2.06 2.06-.94-2.06-.94-.94-2.06-.94 2.06-2.06.94zm-11 1L8.5 8.5l.94-2.06 2.06-.94-2.06-.94L8.5 2.5l-.94 2.06-2.06.94zm10 10l.94 2.06.94-2.06 2.06-.94-2.06-.94-.94-2.06-.94 2.06-2.06.94z\"/><path d=\"M17.41 7.96l-1.37-1.37c-.4-.4-.92-.59-1.43-.59-.52 0-1.04.2-1.43.59L10.3 9.45l-7.72 7.72c-.78.78-.78 2.05 0 2.83L4 21.41c.39.39.9.59 1.41.59.51 0 1.02-.2 1.41-.59l7.78-7.78 2.81-2.81c.8-.78.8-2.07 0-2.86zM5.41 20L4 18.59l7.72-7.72 1.47 1.35L5.41 20z\"/>\n",
              "  </svg>\n",
              "      </button>\n",
              "      \n",
              "  <style>\n",
              "    .colab-df-container {\n",
              "      display:flex;\n",
              "      flex-wrap:wrap;\n",
              "      gap: 12px;\n",
              "    }\n",
              "\n",
              "    .colab-df-convert {\n",
              "      background-color: #E8F0FE;\n",
              "      border: none;\n",
              "      border-radius: 50%;\n",
              "      cursor: pointer;\n",
              "      display: none;\n",
              "      fill: #1967D2;\n",
              "      height: 32px;\n",
              "      padding: 0 0 0 0;\n",
              "      width: 32px;\n",
              "    }\n",
              "\n",
              "    .colab-df-convert:hover {\n",
              "      background-color: #E2EBFA;\n",
              "      box-shadow: 0px 1px 2px rgba(60, 64, 67, 0.3), 0px 1px 3px 1px rgba(60, 64, 67, 0.15);\n",
              "      fill: #174EA6;\n",
              "    }\n",
              "\n",
              "    [theme=dark] .colab-df-convert {\n",
              "      background-color: #3B4455;\n",
              "      fill: #D2E3FC;\n",
              "    }\n",
              "\n",
              "    [theme=dark] .colab-df-convert:hover {\n",
              "      background-color: #434B5C;\n",
              "      box-shadow: 0px 1px 3px 1px rgba(0, 0, 0, 0.15);\n",
              "      filter: drop-shadow(0px 1px 2px rgba(0, 0, 0, 0.3));\n",
              "      fill: #FFFFFF;\n",
              "    }\n",
              "  </style>\n",
              "\n",
              "      <script>\n",
              "        const buttonEl =\n",
              "          document.querySelector('#df-d3c9b379-de41-46e7-994b-c72da6595fb2 button.colab-df-convert');\n",
              "        buttonEl.style.display =\n",
              "          google.colab.kernel.accessAllowed ? 'block' : 'none';\n",
              "\n",
              "        async function convertToInteractive(key) {\n",
              "          const element = document.querySelector('#df-d3c9b379-de41-46e7-994b-c72da6595fb2');\n",
              "          const dataTable =\n",
              "            await google.colab.kernel.invokeFunction('convertToInteractive',\n",
              "                                                     [key], {});\n",
              "          if (!dataTable) return;\n",
              "\n",
              "          const docLinkHtml = 'Like what you see? Visit the ' +\n",
              "            '<a target=\"_blank\" href=https://colab.research.google.com/notebooks/data_table.ipynb>data table notebook</a>'\n",
              "            + ' to learn more about interactive tables.';\n",
              "          element.innerHTML = '';\n",
              "          dataTable['output_type'] = 'display_data';\n",
              "          await google.colab.output.renderOutput(dataTable, element);\n",
              "          const docLink = document.createElement('div');\n",
              "          docLink.innerHTML = docLinkHtml;\n",
              "          element.appendChild(docLink);\n",
              "        }\n",
              "      </script>\n",
              "    </div>\n",
              "  </div>\n",
              "  "
            ]
          },
          "metadata": {},
          "execution_count": 3
        }
      ]
    },
    {
      "cell_type": "markdown",
      "source": [
        "My own example 14"
      ],
      "metadata": {
        "id": "DZG5mX8oDRuF"
      }
    },
    {
      "cell_type": "code",
      "source": [
        "X = data['Open']\n",
        "\n",
        "plt.plot(X.index, X.values)\n",
        "plt.ylabel('Price')\n",
        "plt.legend(['MSFT']);"
      ],
      "metadata": {
        "colab": {
          "base_uri": "https://localhost:8080/",
          "height": 265
        },
        "id": "imZFJWjOD1KR",
        "outputId": "06d4d050-8617-4e18-94df-b6066ebe1d27"
      },
      "execution_count": null,
      "outputs": [
        {
          "output_type": "display_data",
          "data": {
            "text/plain": [
              "<Figure size 432x288 with 1 Axes>"
            ],
            "image/png": "[encoded data removed]"
          },
          "metadata": {
            "needs_background": "light"
          }
        }
      ]
    },
    {
      "cell_type": "markdown",
      "source": [
        "My own example 15\n"
      ],
      "metadata": {
        "id": "wWQxXPsSDTGa"
      }
    },
    {
      "cell_type": "code",
      "source": [
        "np.std(X)"
      ],
      "metadata": {
        "colab": {
          "base_uri": "https://localhost:8080/"
        },
        "id": "LfRIZjevEQO9",
        "outputId": "0b28ddd7-efc2-4bd9-f3b4-094468769899"
      },
      "execution_count": null,
      "outputs": [
        {
          "output_type": "execute_result",
          "data": {
            "text/plain": [
              "6.680600126689821"
            ]
          },
          "metadata": {},
          "execution_count": 25
        }
      ]
    },
    {
      "cell_type": "markdown",
      "source": [
        "My own example 16"
      ],
      "metadata": {
        "id": "-FLjNZZBDUbx"
      }
    },
    {
      "cell_type": "code",
      "source": [
        "np.mean(X)"
      ],
      "metadata": {
        "colab": {
          "base_uri": "https://localhost:8080/"
        },
        "id": "um8bD2CaEoMJ",
        "outputId": "87f0d42b-0a4b-46e5-cf69-c8c7c748f441"
      },
      "execution_count": null,
      "outputs": [
        {
          "output_type": "execute_result",
          "data": {
            "text/plain": [
              "36.02814254805306"
            ]
          },
          "metadata": {},
          "execution_count": 26
        }
      ]
    },
    {
      "cell_type": "markdown",
      "source": [
        "My own example 17"
      ],
      "metadata": {
        "id": "CCvzMyCHDV9S"
      }
    },
    {
      "cell_type": "code",
      "source": [
        "R = X.pct_change()[1:]"
      ],
      "metadata": {
        "id": "U1785sHWE4nm"
      },
      "execution_count": null,
      "outputs": []
    },
    {
      "cell_type": "markdown",
      "source": [
        "My own example 18"
      ],
      "metadata": {
        "id": "ERtw9KC8DXF-"
      }
    },
    {
      "cell_type": "code",
      "source": [
        "plt.hist(R, bins=5)\n",
        "plt.xlabel('Return')\n",
        "plt.ylabel('Frequency')\n",
        "plt.legend(['MSFT Returns']);"
      ],
      "metadata": {
        "colab": {
          "base_uri": "https://localhost:8080/",
          "height": 279
        },
        "id": "VHguIOoHE5-9",
        "outputId": "825bf3b5-8e54-474c-d631-eb64bed13811"
      },
      "execution_count": null,
      "outputs": [
        {
          "output_type": "display_data",
          "data": {
            "text/plain": [
              "<Figure size 432x288 with 1 Axes>"
            ],
            "image/png": "[encoded data removed]"
          },
          "metadata": {
            "needs_background": "light"
          }
        }
      ]
    },
    {
      "cell_type": "markdown",
      "source": [
        "My own example 19"
      ],
      "metadata": {
        "id": "Zmc8fGqSDYYA"
      }
    },
    {
      "cell_type": "code",
      "source": [
        "np.std(R)"
      ],
      "metadata": {
        "colab": {
          "base_uri": "https://localhost:8080/"
        },
        "id": "lJaWe0UyFI5t",
        "outputId": "8c421880-ee25-4ebb-87ca-a883049adb92"
      },
      "execution_count": null,
      "outputs": [
        {
          "output_type": "execute_result",
          "data": {
            "text/plain": [
              "0.0142322614702387"
            ]
          },
          "metadata": {},
          "execution_count": 27
        }
      ]
    },
    {
      "cell_type": "markdown",
      "source": [
        "My own example 20"
      ],
      "metadata": {
        "id": "ue86slRZDZfb"
      }
    },
    {
      "cell_type": "code",
      "source": [
        "np.mean(R)"
      ],
      "metadata": {
        "colab": {
          "base_uri": "https://localhost:8080/"
        },
        "id": "ARrGF2ZcFLw2",
        "outputId": "12bd980a-aa39-4802-c0fd-66db5342757b"
      },
      "execution_count": null,
      "outputs": [
        {
          "output_type": "execute_result",
          "data": {
            "text/plain": [
              "0.0007802153842721553"
            ]
          },
          "metadata": {},
          "execution_count": 28
        }
      ]
    },
    {
      "cell_type": "markdown",
      "source": [
        "My own example 21"
      ],
      "metadata": {
        "id": "w_ETP6_fDa0K"
      }
    },
    {
      "cell_type": "code",
      "source": [
        "plt.hist(np.random.normal(np.mean(R), np.std(R), 100), bins=5)\n",
        "plt.xlabel('Return')\n",
        "plt.ylabel('Frequency')\n",
        "plt.legend(['Normally Distributed ']);"
      ],
      "metadata": {
        "colab": {
          "base_uri": "https://localhost:8080/",
          "height": 279
        },
        "id": "tx27nKnyFRKY",
        "outputId": "9e3f14e6-4b1f-4a5f-cd25-5589ad8516bb"
      },
      "execution_count": null,
      "outputs": [
        {
          "output_type": "display_data",
          "data": {
            "text/plain": [
              "<Figure size 432x288 with 1 Axes>"
            ],
            "image/png": "[encoded data removed]"
          },
          "metadata": {
            "needs_background": "light"
          }
        }
      ]
    },
    {
      "cell_type": "markdown",
      "source": [
        "My own example 22"
      ],
      "metadata": {
        "id": "Z_D0oSLBDe_7"
      }
    },
    {
      "cell_type": "code",
      "source": [
        "MAVG = X.rolling(2).mean()\n",
        "plt.plot(X.index, X.values)\n",
        "plt.plot(MAVG.index, MAVG.values)\n",
        "plt.ylabel('Price')\n",
        "plt.legend(['MSFT', '60-day MAVG']);"
      ],
      "metadata": {
        "colab": {
          "base_uri": "https://localhost:8080/",
          "height": 265
        },
        "id": "rVYpUN2WFWNg",
        "outputId": "f60f4797-a804-4efe-92f2-3923e264e908"
      },
      "execution_count": null,
      "outputs": [
        {
          "output_type": "display_data",
          "data": {
            "text/plain": [
              "<Figure size 432x288 with 1 Axes>"
            ],
            "image/png": "[encoded data removed]"
          },
          "metadata": {
            "needs_background": "light"
          }
        }
      ]
    },
    {
      "cell_type": "markdown",
      "metadata": {
        "id": "7ITLlEP53ug3"
      },
      "source": [
        "# Lectura 2"
      ]
    },
    {
      "cell_type": "markdown",
      "metadata": {
        "id": "nAyJloePbxwI"
      },
      "source": [
        "My own example 23\n"
      ]
    },
    {
      "cell_type": "code",
      "execution_count": null,
      "metadata": {
        "colab": {
          "base_uri": "https://localhost:8080/",
          "height": 35
        },
        "id": "IEVQX-VPegZg",
        "outputId": "3e7c6848-8d07-4f69-a0cb-7a6598fe4e2e"
      },
      "outputs": [
        {
          "data": {
            "application/vnd.google.colaboratory.intrinsic+json": {
              "type": "string"
            },
            "text/plain": [
              "' Esta es un string especial '"
            ]
          },
          "execution_count": 49,
          "metadata": {},
          "output_type": "execute_result"
        }
      ],
      "source": [
        "\"\"\" Esta es un string especial \"\"\""
      ]
    },
    {
      "cell_type": "markdown",
      "metadata": {
        "id": "V34b1EFhbxyO"
      },
      "source": [
        "My own example 24\n",
        "\n"
      ]
    },
    {
      "cell_type": "code",
      "execution_count": null,
      "metadata": {
        "colab": {
          "base_uri": "https://localhost:8080/"
        },
        "id": "GgIbFMGggrF6",
        "outputId": "47c05674-2394-4dac-c11d-fbacf702fbd4"
      },
      "outputs": [
        {
          "name": "stdout",
          "output_type": "stream",
          "text": [
            "5 <class 'int'>\n"
          ]
        }
      ],
      "source": [
        "mi_entero = 5\n",
        "print (mi_entero, type(mi_entero))"
      ]
    },
    {
      "cell_type": "markdown",
      "metadata": {
        "id": "QsADdU2pbx0b"
      },
      "source": [
        "My own example 25\n"
      ]
    },
    {
      "cell_type": "code",
      "execution_count": null,
      "metadata": {
        "colab": {
          "base_uri": "https://localhost:8080/"
        },
        "id": "xNyZ0CVIhOnq",
        "outputId": "703bb0e6-6c63-4dc3-ddbe-e2efdfd449a2"
      },
      "outputs": [
        {
          "name": "stdout",
          "output_type": "stream",
          "text": [
            "3\n"
          ]
        }
      ],
      "source": [
        "tres = 3\n",
        "print(tres)"
      ]
    },
    {
      "cell_type": "markdown",
      "metadata": {
        "id": "g27F34xEbx2r"
      },
      "source": [
        "My own example 26\n"
      ]
    },
    {
      "cell_type": "code",
      "execution_count": null,
      "metadata": {
        "colab": {
          "base_uri": "https://localhost:8080/"
        },
        "id": "HRiSkUmKhWKA",
        "outputId": "51520349-a255-4760-c5cb-56154dc32a26"
      },
      "outputs": [
        {
          "name": "stdout",
          "output_type": "stream",
          "text": [
            "5.5 <class 'float'>\n",
            "1.0 <class 'float'>\n"
          ]
        }
      ],
      "source": [
        "my_float = 5.5\n",
        "print (my_float, type(my_float))\n",
        "my_float = float(1)\n",
        "print (my_float, type(my_float))"
      ]
    },
    {
      "cell_type": "markdown",
      "metadata": {
        "id": "Ur-JMXlrbx49"
      },
      "source": [
        "My own example 27\n"
      ]
    },
    {
      "cell_type": "code",
      "execution_count": null,
      "metadata": {
        "colab": {
          "base_uri": "https://localhost:8080/"
        },
        "id": "20rIF8tohfAs",
        "outputId": "e6e8ab85-1988-4ec9-dd38-06f2c4397055"
      },
      "outputs": [
        {
          "name": "stdout",
          "output_type": "stream",
          "text": [
            "5 <class 'int'>\n"
          ]
        }
      ],
      "source": [
        "mi_entero = int(5.5)\n",
        "print(mi_entero, type(mi_entero))"
      ]
    },
    {
      "cell_type": "markdown",
      "metadata": {
        "id": "YmiiHozMbx7d"
      },
      "source": [
        "My own example 28\n"
      ]
    },
    {
      "cell_type": "code",
      "execution_count": null,
      "metadata": {
        "colab": {
          "base_uri": "https://localhost:8080/"
        },
        "id": "xP7wvr0ai70I",
        "outputId": "a4b1cb4b-620e-491c-8c00-683158682141"
      },
      "outputs": [
        {
          "name": "stdout",
          "output_type": "stream",
          "text": [
            "String con comillas simples\n",
            "String con comillas dobles\n"
          ]
        }
      ],
      "source": [
        "mi_string = 'String con comillas simples'\n",
        "print (mi_string)\n",
        "mi_string = \"String con comillas dobles\"\n",
        "print (mi_string)"
      ]
    },
    {
      "cell_type": "markdown",
      "metadata": {
        "id": "jGSptoCybyNr"
      },
      "source": [
        "My own example 29\n"
      ]
    },
    {
      "cell_type": "code",
      "execution_count": null,
      "metadata": {
        "colab": {
          "base_uri": "https://localhost:8080/"
        },
        "id": "372i34j43II0",
        "outputId": "43e317e6-0bad-4311-849e-72f7f66d199b"
      },
      "outputs": [
        {
          "name": "stdout",
          "output_type": "stream",
          "text": [
            "\"Texto en comillas dobles\",  dentro de comillas simples\n",
            "'Texto en comillas simples dentor de dobles\n"
          ]
        }
      ],
      "source": [
        "mi_string = '\"Texto en comillas dobles\",  dentro de comillas simples'\n",
        "print (mi_string)\n",
        "mi_string = \"'Texto en comillas simples dentor de dobles\"\n",
        "print (mi_string)"
      ]
    },
    {
      "cell_type": "markdown",
      "metadata": {
        "id": "nFnvoxt4byQV"
      },
      "source": [
        "My own example 30\n"
      ]
    },
    {
      "cell_type": "code",
      "execution_count": null,
      "metadata": {
        "colab": {
          "background_save": true,
          "base_uri": "https://localhost:8080/",
          "height": 131
        },
        "id": "btx9sZlr5KPm",
        "outputId": "d4dbbb12-5eeb-4751-b042-58d4c47482ed"
      },
      "outputs": [
        {
          "name": "stdout",
          "output_type": "stream",
          "text": [
            "True <class 'bool'>\n"
          ]
        }
      ],
      "source": [
        "mi_bool = True\n",
        "print(mi_bool, type(mi_bool))"
      ]
    },
    {
      "cell_type": "markdown",
      "metadata": {
        "id": "PuUpyxbCbyTr"
      },
      "source": [
        "My own example 31\n"
      ]
    },
    {
      "cell_type": "code",
      "execution_count": null,
      "metadata": {
        "id": "JVt0AgYHbtYk",
        "colab": {
          "base_uri": "https://localhost:8080/"
        },
        "outputId": "7348c22b-104f-4a5d-b3be-f9a260915210"
      },
      "outputs": [
        {
          "output_type": "stream",
          "name": "stdout",
          "text": [
            "Resta:  11\n",
            "Division:  5.0\n",
            "Multiplicacion:  10\n",
            "Suma:  4\n",
            "Potencia:  9\n"
          ]
        }
      ],
      "source": [
        "print ('Resta: ', 15 - 4)\n",
        "print ('Division: ', 10 / 2)\n",
        "print ('Multiplicacion: ', 2 * 5)\n",
        "print ('Suma: ', 2 + 2)\n",
        "print ('Potencia: ', 3**2)"
      ]
    },
    {
      "cell_type": "markdown",
      "source": [
        "My own example 32\n"
      ],
      "metadata": {
        "id": "akavhhQc-kAl"
      }
    },
    {
      "cell_type": "code",
      "source": [
        "print ('Modulo: ', 10 % 3)"
      ],
      "metadata": {
        "colab": {
          "base_uri": "https://localhost:8080/"
        },
        "id": "87Kymrz8-C2k",
        "outputId": "cfa2b94a-841c-4506-dfbc-f91b1e218588"
      },
      "execution_count": null,
      "outputs": [
        {
          "output_type": "stream",
          "name": "stdout",
          "text": [
            "Modulo:  1\n"
          ]
        }
      ]
    },
    {
      "cell_type": "markdown",
      "source": [
        "My own example 33\n"
      ],
      "metadata": {
        "id": "-afGwfgk_ESo"
      }
    },
    {
      "cell_type": "code",
      "source": [
        "entero_uno = 6\n",
        "entero_dos = 7\n",
        "print (entero_uno * entero_dos)"
      ],
      "metadata": {
        "colab": {
          "base_uri": "https://localhost:8080/"
        },
        "id": "C82rJHGd-uvl",
        "outputId": "50c2dc8c-6d35-47b5-f9c7-ccbb48b05b8f"
      },
      "execution_count": null,
      "outputs": [
        {
          "output_type": "stream",
          "name": "stdout",
          "text": [
            "42\n"
          ]
        }
      ]
    },
    {
      "cell_type": "markdown",
      "source": [
        "My own example 34\n"
      ],
      "metadata": {
        "id": "P2tBVG15_Bpk"
      }
    },
    {
      "cell_type": "code",
      "source": [
        "primero = 12.4\n",
        "segundo = 3.4\n",
        "print (primero / segundo)"
      ],
      "metadata": {
        "colab": {
          "base_uri": "https://localhost:8080/"
        },
        "id": "VEjKSR9L-9d0",
        "outputId": "2e2e3e7e-c34c-44e4-8bbb-8d88b05f57a3"
      },
      "execution_count": null,
      "outputs": [
        {
          "output_type": "stream",
          "name": "stdout",
          "text": [
            "3.647058823529412\n"
          ]
        }
      ]
    },
    {
      "cell_type": "markdown",
      "source": [
        "My own example 35\n"
      ],
      "metadata": {
        "id": "0MQ45V_0_IfI"
      }
    },
    {
      "cell_type": "code",
      "source": [
        "import math\n",
        "\n",
        "print (\"COnstante de euler\", math.e)"
      ],
      "metadata": {
        "colab": {
          "base_uri": "https://localhost:8080/"
        },
        "id": "33VqSs_4_dEz",
        "outputId": "6bd861b9-d6fa-4642-9470-b5cac798fb6a"
      },
      "execution_count": null,
      "outputs": [
        {
          "output_type": "stream",
          "name": "stdout",
          "text": [
            "COnstante de euler 2.718281828459045\n"
          ]
        }
      ]
    },
    {
      "cell_type": "markdown",
      "source": [
        "My own example 36\n"
      ],
      "metadata": {
        "id": "ogJQsJqA_IqY"
      }
    },
    {
      "cell_type": "code",
      "source": [
        "print ('Coseno de pi: ', math.cos(math.pi))"
      ],
      "metadata": {
        "colab": {
          "base_uri": "https://localhost:8080/"
        },
        "id": "K_cOSoqG_yJr",
        "outputId": "6d58ec8c-ad11-4d2e-9af3-604c2ee76874"
      },
      "execution_count": null,
      "outputs": [
        {
          "output_type": "stream",
          "name": "stdout",
          "text": [
            "Coseno de pi:  -1.0\n"
          ]
        }
      ]
    },
    {
      "cell_type": "markdown",
      "source": [
        "My own example 37\n"
      ],
      "metadata": {
        "id": "PCl2pp1b_It5"
      }
    },
    {
      "cell_type": "code",
      "source": [
        "lista = [1, 3, 5, 7, 11, 13]\n",
        "print (lista)"
      ],
      "metadata": {
        "colab": {
          "base_uri": "https://localhost:8080/"
        },
        "id": "Jlo8Wz88AZEC",
        "outputId": "c07defdd-41e7-4f79-eea9-5ac0eee911eb"
      },
      "execution_count": null,
      "outputs": [
        {
          "output_type": "stream",
          "name": "stdout",
          "text": [
            "[1, 3, 5, 7, 11, 13]\n"
          ]
        }
      ]
    },
    {
      "cell_type": "markdown",
      "source": [
        "My own example 38\n"
      ],
      "metadata": {
        "id": "tcrxWQaP_Iwl"
      }
    },
    {
      "cell_type": "code",
      "source": [
        "print (lista[0])\n",
        "print (lista[5])"
      ],
      "metadata": {
        "colab": {
          "base_uri": "https://localhost:8080/"
        },
        "id": "VQEGy2G2AujC",
        "outputId": "b2066671-3992-4b71-8efb-e95ff0867ec3"
      },
      "execution_count": null,
      "outputs": [
        {
          "output_type": "stream",
          "name": "stdout",
          "text": [
            "1\n",
            "13\n"
          ]
        }
      ]
    },
    {
      "cell_type": "markdown",
      "source": [
        "My own example 39\n"
      ],
      "metadata": {
        "id": "QAR2O6Ef_IzV"
      }
    },
    {
      "cell_type": "code",
      "source": [
        "print (len(lista))"
      ],
      "metadata": {
        "colab": {
          "base_uri": "https://localhost:8080/"
        },
        "id": "SrwZVZiNBEnK",
        "outputId": "b6df440b-6280-4acd-c86c-af771db4eb12"
      },
      "execution_count": null,
      "outputs": [
        {
          "output_type": "stream",
          "name": "stdout",
          "text": [
            "6\n"
          ]
        }
      ]
    },
    {
      "cell_type": "markdown",
      "source": [
        "My own example 40\n"
      ],
      "metadata": {
        "id": "rpi5-y-aAF0U"
      }
    },
    {
      "cell_type": "code",
      "source": [
        "print (lista)\n",
        "lista[3] = 24\n",
        "print (lista)"
      ],
      "metadata": {
        "colab": {
          "base_uri": "https://localhost:8080/"
        },
        "id": "JNgzYYkRBMBY",
        "outputId": "a3912444-4a81-4f47-9a83-4f7ff98b270f"
      },
      "execution_count": null,
      "outputs": [
        {
          "output_type": "stream",
          "name": "stdout",
          "text": [
            "[1, 3, 5, 7, 11, 13]\n",
            "[1, 3, 5, 24, 11, 13]\n"
          ]
        }
      ]
    },
    {
      "cell_type": "markdown",
      "source": [
        "My own example 41\n"
      ],
      "metadata": {
        "id": "tYI2B0IbAGI2"
      }
    },
    {
      "cell_type": "code",
      "source": [
        "lista_2 = ['one', 'two', 'three']\n",
        "lista_3 = [True, 'False', 42]\n",
        "\n",
        "lista_4 = lista + lista_2 + lista_3\n",
        "print (lista_4)"
      ],
      "metadata": {
        "colab": {
          "base_uri": "https://localhost:8080/"
        },
        "id": "ao5yrdMsBYSh",
        "outputId": "90f82acf-e9a1-429e-982a-980563bbec08"
      },
      "execution_count": null,
      "outputs": [
        {
          "output_type": "stream",
          "name": "stdout",
          "text": [
            "[1, 3, 5, 24, 11, 13, 'one', 'two', 'three', True, 'False', 42]\n"
          ]
        }
      ]
    },
    {
      "cell_type": "markdown",
      "source": [
        "My own example 42\n"
      ],
      "metadata": {
        "id": "UKewmNlzAGQY"
      }
    },
    {
      "cell_type": "code",
      "source": [
        "print (lista[1:5])"
      ],
      "metadata": {
        "colab": {
          "base_uri": "https://localhost:8080/"
        },
        "id": "deMZt-Z7CAzb",
        "outputId": "2c495c53-a4ca-46ec-f2ea-88740a259144"
      },
      "execution_count": null,
      "outputs": [
        {
          "output_type": "stream",
          "name": "stdout",
          "text": [
            "[3, 5, 24, 11]\n"
          ]
        }
      ]
    },
    {
      "cell_type": "markdown",
      "source": [
        "My own example 43\n"
      ],
      "metadata": {
        "id": "2mS5Iog2AGXk"
      }
    },
    {
      "cell_type": "code",
      "source": [
        "print (lista[1:])"
      ],
      "metadata": {
        "colab": {
          "base_uri": "https://localhost:8080/"
        },
        "id": "1SuvnKPyANKC",
        "outputId": "2e75eee8-e5f2-478a-b89b-7bf0478314bc"
      },
      "execution_count": null,
      "outputs": [
        {
          "output_type": "stream",
          "name": "stdout",
          "text": [
            "[3, 5, 24, 11, 13]\n"
          ]
        }
      ]
    },
    {
      "cell_type": "markdown",
      "source": [
        "My own example 44"
      ],
      "metadata": {
        "id": "UJen5R9aGW1D"
      }
    },
    {
      "cell_type": "code",
      "source": [
        "print (lista[::-1])"
      ],
      "metadata": {
        "colab": {
          "base_uri": "https://localhost:8080/"
        },
        "id": "SnFsMhNXGajs",
        "outputId": "85c9a463-7ad7-4db6-f5c4-8be9ff665408"
      },
      "execution_count": null,
      "outputs": [
        {
          "output_type": "stream",
          "name": "stdout",
          "text": [
            "[13, 11, 24, 5, 3, 1]\n"
          ]
        }
      ]
    },
    {
      "cell_type": "markdown",
      "source": [
        "# Tutotial 1"
      ],
      "metadata": {
        "id": "fRsUza7oCYsF"
      }
    },
    {
      "cell_type": "markdown",
      "source": [
        "My own example 45"
      ],
      "metadata": {
        "id": "6vkCD3-ECfGk"
      }
    },
    {
      "cell_type": "code",
      "source": [
        "texto_1 = 'Bienvenido'\n",
        "texto_2 = \"a python\"\n",
        "print(texto_1 + ' ' + texto_2)"
      ],
      "metadata": {
        "colab": {
          "base_uri": "https://localhost:8080/"
        },
        "id": "IJ7Do_REC2-1",
        "outputId": "2490d8f6-4c48-468c-96cb-c8e1f299d0fe"
      },
      "execution_count": null,
      "outputs": [
        {
          "output_type": "stream",
          "name": "stdout",
          "text": [
            "Bienvenido a python\n"
          ]
        }
      ]
    },
    {
      "cell_type": "markdown",
      "source": [
        "My own example 46"
      ],
      "metadata": {
        "id": "JqyjeEsLCjip"
      }
    },
    {
      "cell_type": "code",
      "source": [
        "numero_string = \"100\"\n",
        "print(type(numero_string))\n",
        "numero_int = int(numero_string)\n",
        "print(type(numero_int))"
      ],
      "metadata": {
        "colab": {
          "base_uri": "https://localhost:8080/"
        },
        "id": "4rRKVXW8DtWa",
        "outputId": "950e0271-0043-4172-d475-c9242dcf6781"
      },
      "execution_count": null,
      "outputs": [
        {
          "output_type": "stream",
          "name": "stdout",
          "text": [
            "<class 'str'>\n",
            "<class 'int'>\n"
          ]
        }
      ]
    },
    {
      "cell_type": "markdown",
      "source": [
        "My own example 47"
      ],
      "metadata": {
        "id": "BsUiSGHMCjn2"
      }
    },
    {
      "cell_type": "code",
      "source": [
        "numero_string = \"100\"\n",
        "print(type(numero_string))\n",
        "numero_float = float(numero_string)\n",
        "print(type(numero_float))"
      ],
      "metadata": {
        "colab": {
          "base_uri": "https://localhost:8080/"
        },
        "id": "cIxAB_tfEXRK",
        "outputId": "5a0375a4-a0ea-48bb-f8d8-932f77902d81"
      },
      "execution_count": null,
      "outputs": [
        {
          "output_type": "stream",
          "name": "stdout",
          "text": [
            "<class 'str'>\n",
            "<class 'float'>\n"
          ]
        }
      ]
    },
    {
      "cell_type": "markdown",
      "source": [
        "My own example 48"
      ],
      "metadata": {
        "id": "isRRYSjqCjuh"
      }
    },
    {
      "cell_type": "code",
      "source": [
        "print(12/6)\n",
        "print(1.5/2)"
      ],
      "metadata": {
        "colab": {
          "base_uri": "https://localhost:8080/"
        },
        "id": "KD_BtrvEEtZp",
        "outputId": "2b363d53-4d25-45a9-9119-b1df7a13d2db"
      },
      "execution_count": null,
      "outputs": [
        {
          "output_type": "stream",
          "name": "stdout",
          "text": [
            "2.0\n",
            "0.75\n"
          ]
        }
      ]
    },
    {
      "cell_type": "markdown",
      "source": [
        "My own example 49"
      ],
      "metadata": {
        "id": "fumdjaTUCj0I"
      }
    },
    {
      "cell_type": "code",
      "source": [
        "lista = ['Hola', 'Bienvenido', 1,3,5]\n",
        "print(len(lista))\n",
        "print(lista[len(lista) -2])"
      ],
      "metadata": {
        "colab": {
          "base_uri": "https://localhost:8080/"
        },
        "id": "n1NY4XCfE5iY",
        "outputId": "d32af0e5-e81c-49b5-f4d8-d99c83e98d66"
      },
      "execution_count": null,
      "outputs": [
        {
          "output_type": "stream",
          "name": "stdout",
          "text": [
            "5\n",
            "3\n"
          ]
        }
      ]
    },
    {
      "cell_type": "markdown",
      "source": [
        "My own example 50"
      ],
      "metadata": {
        "id": "6jGZYEDWCj4X"
      }
    },
    {
      "cell_type": "code",
      "source": [
        "print(lista[0:3])"
      ],
      "metadata": {
        "colab": {
          "base_uri": "https://localhost:8080/"
        },
        "id": "feEnFrRuFOJD",
        "outputId": "ee549356-81d1-45c3-ebaf-1a03e137174d"
      },
      "execution_count": null,
      "outputs": [
        {
          "output_type": "stream",
          "name": "stdout",
          "text": [
            "['Hola', 'Bienvenido', 1]\n"
          ]
        }
      ]
    },
    {
      "cell_type": "markdown",
      "source": [
        "My own example 51"
      ],
      "metadata": {
        "id": "SJMo6OKDCkl4"
      }
    },
    {
      "cell_type": "code",
      "source": [
        "print(lista[:2])"
      ],
      "metadata": {
        "id": "3aOggB6cFhOd",
        "colab": {
          "base_uri": "https://localhost:8080/"
        },
        "outputId": "000f98b9-3ebf-4f5c-c12a-49dacc18a14f"
      },
      "execution_count": null,
      "outputs": [
        {
          "output_type": "stream",
          "name": "stdout",
          "text": [
            "['Hola', 'Bienvenido']\n"
          ]
        }
      ]
    },
    {
      "cell_type": "markdown",
      "source": [
        "My own example 52"
      ],
      "metadata": {
        "id": "AUbd82RnCktW"
      }
    },
    {
      "cell_type": "code",
      "source": [
        "lista.append('astro')\n",
        "print(lista)"
      ],
      "metadata": {
        "colab": {
          "base_uri": "https://localhost:8080/"
        },
        "id": "Qlu6yUEOFu52",
        "outputId": "b49646e7-22d2-4200-86b5-aad519085f84"
      },
      "execution_count": null,
      "outputs": [
        {
          "output_type": "stream",
          "name": "stdout",
          "text": [
            "['Hola', 'Bienvenido', 1, 3, 5, 'astro']\n"
          ]
        }
      ]
    },
    {
      "cell_type": "markdown",
      "source": [
        "My own example 53"
      ],
      "metadata": {
        "id": "FSCmTCDVCk0o"
      }
    },
    {
      "cell_type": "code",
      "source": [
        "lista.remove('Hola')\n",
        "print(lista)"
      ],
      "metadata": {
        "colab": {
          "base_uri": "https://localhost:8080/"
        },
        "id": "PKVhC9siF3yL",
        "outputId": "83ac84cc-6ae2-4006-a5a7-838d8994affd"
      },
      "execution_count": null,
      "outputs": [
        {
          "output_type": "stream",
          "name": "stdout",
          "text": [
            "['Bienvenido', 1, 3, 5, 'astro']\n"
          ]
        }
      ]
    },
    {
      "cell_type": "markdown",
      "source": [
        "My own example 54"
      ],
      "metadata": {
        "id": "zZmHMkvyCk7j"
      }
    },
    {
      "cell_type": "code",
      "source": [
        "tupla = ('Hola','te','conectaste')"
      ],
      "metadata": {
        "id": "LEmdZEYsGBJp"
      },
      "execution_count": null,
      "outputs": []
    },
    {
      "cell_type": "markdown",
      "source": [
        "My own example 55"
      ],
      "metadata": {
        "id": "n5mV8bz0ClDY"
      }
    },
    {
      "cell_type": "code",
      "source": [
        "print(tupla[1:])"
      ],
      "metadata": {
        "colab": {
          "base_uri": "https://localhost:8080/"
        },
        "id": "dBNZKdXNGKOZ",
        "outputId": "33e8b677-9355-464e-c50c-c9dbbffa95ba"
      },
      "execution_count": null,
      "outputs": [
        {
          "output_type": "stream",
          "name": "stdout",
          "text": [
            "('te', 'conectaste')\n"
          ]
        }
      ]
    },
    {
      "cell_type": "markdown",
      "source": [
        "My own example 56"
      ],
      "metadata": {
        "id": "bomkQjgsClJY"
      }
    },
    {
      "cell_type": "code",
      "source": [
        "lista_stock = ['AAPL','GOOG','IBM','AAPL','IBM','FB','F','GOOG']\n",
        "stock_set = set(lista_stock)\n",
        "print(stock_set) #Elimina elementos duplicados"
      ],
      "metadata": {
        "colab": {
          "base_uri": "https://localhost:8080/"
        },
        "id": "jQT5vTzLGUXw",
        "outputId": "75dba3f1-99c8-46be-da65-42f5b069efe1"
      },
      "execution_count": null,
      "outputs": [
        {
          "output_type": "stream",
          "name": "stdout",
          "text": [
            "{'FB', 'GOOG', 'IBM', 'AAPL', 'F'}\n"
          ]
        }
      ]
    },
    {
      "cell_type": "markdown",
      "source": [
        "My own example 57"
      ],
      "metadata": {
        "id": "Wk0wDjk9ClQR"
      }
    },
    {
      "cell_type": "code",
      "source": [
        "diccionario = {'APP':'Aplicacion', 'FB':'FaceBook', 'SOAP':'Servicio web'}"
      ],
      "metadata": {
        "id": "EMMPqTl7LVGk"
      },
      "execution_count": null,
      "outputs": []
    },
    {
      "cell_type": "markdown",
      "source": [
        "My own example 58"
      ],
      "metadata": {
        "id": "jssqpccGClXV"
      }
    },
    {
      "cell_type": "code",
      "source": [
        "print(diccionario['SOAP'])"
      ],
      "metadata": {
        "colab": {
          "base_uri": "https://localhost:8080/"
        },
        "id": "qrjUj6xgLYTT",
        "outputId": "efae52c7-f3bd-47e5-9d23-738410a04bdb"
      },
      "execution_count": null,
      "outputs": [
        {
          "output_type": "stream",
          "name": "stdout",
          "text": [
            "Servicio web\n"
          ]
        }
      ]
    },
    {
      "cell_type": "markdown",
      "source": [
        "My own example 59"
      ],
      "metadata": {
        "id": "1G8Qbd_eCldm"
      }
    },
    {
      "cell_type": "code",
      "source": [
        "diccionario['APP'] = 'Aplicacion web'\n",
        "print(diccionario['APP'])"
      ],
      "metadata": {
        "colab": {
          "base_uri": "https://localhost:8080/"
        },
        "id": "JOy1eCvAtBsf",
        "outputId": "ec5b6b46-0547-4ece-d140-424630de9ab9"
      },
      "execution_count": null,
      "outputs": [
        {
          "output_type": "stream",
          "name": "stdout",
          "text": [
            "Aplicacion web\n"
          ]
        }
      ]
    },
    {
      "cell_type": "markdown",
      "source": [
        "My own example 60"
      ],
      "metadata": {
        "id": "aS8WJz02CllY"
      }
    },
    {
      "cell_type": "code",
      "source": [
        "print(diccionario.keys())"
      ],
      "metadata": {
        "colab": {
          "base_uri": "https://localhost:8080/"
        },
        "id": "NECLmHVvtXLr",
        "outputId": "5924d052-7c1b-429c-8485-9155930bfb2d"
      },
      "execution_count": null,
      "outputs": [
        {
          "output_type": "stream",
          "name": "stdout",
          "text": [
            "dict_keys(['APP', 'FB', 'SOAP'])\n"
          ]
        }
      ]
    },
    {
      "cell_type": "markdown",
      "source": [
        "My own example 61"
      ],
      "metadata": {
        "id": "f0XaupmwCltc"
      }
    },
    {
      "cell_type": "code",
      "source": [
        "frase_bienvenida = 'Bienvenido al juego'\n",
        "print(frase_bienvenida[8:])"
      ],
      "metadata": {
        "colab": {
          "base_uri": "https://localhost:8080/"
        },
        "id": "oZlaAULItbzC",
        "outputId": "6b895a5a-a0b0-4a3b-8a46-a5f52987cb65"
      },
      "execution_count": null,
      "outputs": [
        {
          "output_type": "stream",
          "name": "stdout",
          "text": [
            "do al juego\n"
          ]
        }
      ]
    },
    {
      "cell_type": "markdown",
      "source": [
        "My own example 62"
      ],
      "metadata": {
        "id": "OFZ5OwDJCl1Y"
      }
    },
    {
      "cell_type": "code",
      "source": [
        "frase = 'Vamos a probar find y count'\n",
        "print(frase.find('a'))\n",
        "print(frase.count('a'))"
      ],
      "metadata": {
        "colab": {
          "base_uri": "https://localhost:8080/"
        },
        "id": "xF-d7n8buaw7",
        "outputId": "ef896993-4de5-4287-d3f5-ea736324727d"
      },
      "execution_count": null,
      "outputs": [
        {
          "output_type": "stream",
          "name": "stdout",
          "text": [
            "1\n",
            "3\n"
          ]
        }
      ]
    },
    {
      "cell_type": "markdown",
      "source": [
        "My own example 63"
      ],
      "metadata": {
        "id": "uBacevJ6Cl9I"
      }
    },
    {
      "cell_type": "code",
      "source": [
        "print('Se va a remplazar la letra a'.replace('a', 'e'))"
      ],
      "metadata": {
        "colab": {
          "base_uri": "https://localhost:8080/"
        },
        "id": "pTDcCPTAu7sS",
        "outputId": "acd09ded-a59c-4552-9850-d504a72371c5"
      },
      "execution_count": null,
      "outputs": [
        {
          "output_type": "stream",
          "name": "stdout",
          "text": [
            "Se ve e remplezer le letre e\n"
          ]
        }
      ]
    },
    {
      "cell_type": "markdown",
      "source": [
        "My own example 64"
      ],
      "metadata": {
        "id": "7ckLv1PKCmEG"
      }
    },
    {
      "cell_type": "code",
      "source": [
        "Fecha_hora = '2022-08-01 06:40:00'\n",
        "Fecha_hora_dividida = Fecha_hora.split(' ')\n",
        "Fecha = Fecha_hora_dividida[0]\n",
        "Hora = Fecha_hora_dividida[1]\n",
        "print(Fecha, Hora)\n",
        "minutos = Hora.split(':')[1]\n",
        "print(minutos)"
      ],
      "metadata": {
        "colab": {
          "base_uri": "https://localhost:8080/"
        },
        "id": "LbAz1ScmvFy0",
        "outputId": "e16fc424-70dd-47fb-c8d2-8ca4284727fd"
      },
      "execution_count": null,
      "outputs": [
        {
          "output_type": "stream",
          "name": "stdout",
          "text": [
            "2022-08-01 06:40:00\n",
            "40\n"
          ]
        }
      ]
    },
    {
      "cell_type": "markdown",
      "source": [
        "My own example 65"
      ],
      "metadata": {
        "id": "BNS0Y8W-CmLm"
      }
    },
    {
      "cell_type": "code",
      "source": [
        "tiempo = 'Hour: {}, Minute:{}'.format('06','40')\n",
        "print(tiempo)"
      ],
      "metadata": {
        "colab": {
          "base_uri": "https://localhost:8080/"
        },
        "id": "2ZP5HH_XvlfT",
        "outputId": "6514690a-5184-4a53-bc7f-e64666ec8dda"
      },
      "execution_count": null,
      "outputs": [
        {
          "output_type": "stream",
          "name": "stdout",
          "text": [
            "Hour: 06, Minute:40\n"
          ]
        }
      ]
    },
    {
      "cell_type": "markdown",
      "source": [
        "My own example 66"
      ],
      "metadata": {
        "id": "41JTinDGCmSY"
      }
    },
    {
      "cell_type": "code",
      "source": [
        "print('El numero pi es %f'%3.14)\n",
        "print('%s gamer %s'%('Hola','xd'))"
      ],
      "metadata": {
        "id": "KhHglQFiCeqU",
        "colab": {
          "base_uri": "https://localhost:8080/"
        },
        "outputId": "d3caa951-e671-4fa1-ed97-cac08f220a42"
      },
      "execution_count": null,
      "outputs": [
        {
          "output_type": "stream",
          "name": "stdout",
          "text": [
            "El numero pi es 3.140000\n",
            "Hola gamer xd\n"
          ]
        }
      ]
    },
    {
      "cell_type": "markdown",
      "source": [
        "# Tutorial 2\n"
      ],
      "metadata": {
        "id": "IsBNVNehv9il"
      }
    },
    {
      "cell_type": "markdown",
      "source": [
        "My own example 67"
      ],
      "metadata": {
        "id": "Zx7UW_7LwHol"
      }
    },
    {
      "cell_type": "code",
      "source": [
        "print(2 == 0)\n",
        "print(3 == 3)"
      ],
      "metadata": {
        "colab": {
          "base_uri": "https://localhost:8080/"
        },
        "id": "iRI-eEhhwJ1y",
        "outputId": "a519d039-fbf0-4500-bbf7-acfc04589f58"
      },
      "execution_count": null,
      "outputs": [
        {
          "output_type": "stream",
          "name": "stdout",
          "text": [
            "False\n",
            "True\n"
          ]
        }
      ]
    },
    {
      "cell_type": "markdown",
      "source": [
        "My own example 68"
      ],
      "metadata": {
        "id": "g3hKObbiwvyD"
      }
    },
    {
      "cell_type": "code",
      "source": [
        "print(4 != 3.5)"
      ],
      "metadata": {
        "colab": {
          "base_uri": "https://localhost:8080/"
        },
        "id": "Xni2wJ6PwqEb",
        "outputId": "88651ed9-ec53-4b39-dafa-e31fcb2a749d"
      },
      "execution_count": null,
      "outputs": [
        {
          "output_type": "stream",
          "name": "stdout",
          "text": [
            "True\n"
          ]
        }
      ]
    },
    {
      "cell_type": "markdown",
      "source": [
        "My own example 69"
      ],
      "metadata": {
        "id": "3EryosaSwySK"
      }
    },
    {
      "cell_type": "code",
      "source": [
        "print(5.0 >= 5)\n",
        "print(5 >= 8)"
      ],
      "metadata": {
        "colab": {
          "base_uri": "https://localhost:8080/"
        },
        "id": "tcUbWqIMwu7j",
        "outputId": "6dda5df0-cb2d-4ef2-c56d-79571c888dfc"
      },
      "execution_count": null,
      "outputs": [
        {
          "output_type": "stream",
          "name": "stdout",
          "text": [
            "True\n",
            "False\n"
          ]
        }
      ]
    },
    {
      "cell_type": "markdown",
      "source": [
        "My own example 70\n"
      ],
      "metadata": {
        "id": "sDF99Vmfw7QE"
      }
    },
    {
      "cell_type": "code",
      "source": [
        "print(2 > 1 and 6 > 2)\n",
        "print(3 > 1 and 5 < 2)"
      ],
      "metadata": {
        "colab": {
          "base_uri": "https://localhost:8080/"
        },
        "id": "I96hankyw4Py",
        "outputId": "c19edebd-2af5-4754-a6f4-fd580334bf6e"
      },
      "execution_count": null,
      "outputs": [
        {
          "output_type": "stream",
          "name": "stdout",
          "text": [
            "True\n",
            "False\n"
          ]
        }
      ]
    },
    {
      "cell_type": "markdown",
      "source": [
        "My own example 71"
      ],
      "metadata": {
        "id": "BZAk1RQIxIKL"
      }
    },
    {
      "cell_type": "code",
      "source": [
        "print(2.5 > 1 or 1.2 < 2)"
      ],
      "metadata": {
        "colab": {
          "base_uri": "https://localhost:8080/"
        },
        "id": "Qq13wOaaxF6j",
        "outputId": "8c52073b-b61c-420d-8a14-b4f78f19d8bf"
      },
      "execution_count": null,
      "outputs": [
        {
          "output_type": "stream",
          "name": "stdout",
          "text": [
            "True\n"
          ]
        }
      ]
    },
    {
      "cell_type": "markdown",
      "source": [
        "My own example 72"
      ],
      "metadata": {
        "id": "RNj-8lVSxKnk"
      }
    },
    {
      "cell_type": "code",
      "source": [
        "print((4 > 1 or 1 < 3) and (1!=1.1 and 4>3) and not ( 3 < 2 or 2 < 3 and (1!=3 and 4>3)))\n",
        "print(3 > 1 or 1 < 2 and (1!=3 and 4>3) and not ( 7 < 2 or 1 < 3 and (1!=3 and 5>3)))"
      ],
      "metadata": {
        "colab": {
          "base_uri": "https://localhost:8080/"
        },
        "id": "oQZjmnYDxLmj",
        "outputId": "430e6c8c-9bb3-4668-b0ce-1e2fa9482e8f"
      },
      "execution_count": null,
      "outputs": [
        {
          "output_type": "stream",
          "name": "stdout",
          "text": [
            "False\n",
            "True\n"
          ]
        }
      ]
    },
    {
      "cell_type": "markdown",
      "source": [
        "\n",
        "My own example 73"
      ],
      "metadata": {
        "id": "W9Fy_aloxMRr"
      }
    },
    {
      "cell_type": "code",
      "source": [
        "i = 5\n",
        "if i != 0:\n",
        "    print('El número es mayor que 0')"
      ],
      "metadata": {
        "colab": {
          "base_uri": "https://localhost:8080/"
        },
        "id": "Gei70jV7xNZD",
        "outputId": "87b42114-ff9b-4066-fd7c-eb558d147673"
      },
      "execution_count": null,
      "outputs": [
        {
          "output_type": "stream",
          "name": "stdout",
          "text": [
            "El número es mayor que 0\n"
          ]
        }
      ]
    },
    {
      "cell_type": "markdown",
      "source": [
        "My own example 74"
      ],
      "metadata": {
        "id": "lxuK4UmmxPI1"
      }
    },
    {
      "cell_type": "code",
      "source": [
        "p = 1 > 0\n",
        "q = 2 > 3\n",
        "if p and q:\n",
        "    print('Ambos son true')\n",
        "elif p and not q:\n",
        "    print('Son distintos')\n",
        "elif q and not p:\n",
        "    print('P quedó falso')\n",
        "else:\n",
        "    print('Ninguno de los valores son verdaderos')"
      ],
      "metadata": {
        "colab": {
          "base_uri": "https://localhost:8080/"
        },
        "id": "35wtzq_zxQIz",
        "outputId": "4e7acbb2-088a-4801-a507-58246d96bac1"
      },
      "execution_count": null,
      "outputs": [
        {
          "output_type": "stream",
          "name": "stdout",
          "text": [
            "Son distintos\n"
          ]
        }
      ]
    },
    {
      "cell_type": "markdown",
      "source": [
        "My own example 75"
      ],
      "metadata": {
        "id": "Ht8cn0h20BDC"
      }
    },
    {
      "cell_type": "code",
      "source": [
        "i = 1\n",
        "while i < 4:\n",
        "    print(i)\n",
        "    i += 1"
      ],
      "metadata": {
        "colab": {
          "base_uri": "https://localhost:8080/"
        },
        "id": "IKx9VRzbz_pb",
        "outputId": "cf54a1b2-272b-49e7-aca6-d37bbb0ddf3e"
      },
      "execution_count": null,
      "outputs": [
        {
          "output_type": "stream",
          "name": "stdout",
          "text": [
            "1\n",
            "2\n",
            "3\n"
          ]
        }
      ]
    },
    {
      "cell_type": "markdown",
      "source": [
        "My own example 76"
      ],
      "metadata": {
        "id": "YBVCZFzf0Djq"
      }
    },
    {
      "cell_type": "code",
      "source": [
        "for i in [1,2,3,4]:\n",
        "    print(i)"
      ],
      "metadata": {
        "colab": {
          "base_uri": "https://localhost:8080/"
        },
        "id": "SeAHkf2y0EkE",
        "outputId": "fb13c9c2-f4e9-4eac-88b5-5c05aca8ba18"
      },
      "execution_count": null,
      "outputs": [
        {
          "output_type": "stream",
          "name": "stdout",
          "text": [
            "1\n",
            "2\n",
            "3\n",
            "4\n"
          ]
        }
      ]
    },
    {
      "cell_type": "markdown",
      "source": [
        "My own example 77"
      ],
      "metadata": {
        "id": "nXdzc8mT0FCq"
      }
    },
    {
      "cell_type": "code",
      "source": [
        "apps = ['APP','FB','IG']\n",
        "seleccionadas = ['APP','FB']\n",
        "lista = []\n",
        "for i in apps:\n",
        "    if i not in seleccionadas:\n",
        "        lista.append(i)\n",
        "print(apps)"
      ],
      "metadata": {
        "colab": {
          "base_uri": "https://localhost:8080/"
        },
        "id": "RmfPda0u0F_C",
        "outputId": "524240b8-1f91-48b5-9eef-1ea78f49371e"
      },
      "execution_count": null,
      "outputs": [
        {
          "output_type": "stream",
          "name": "stdout",
          "text": [
            "['APP', 'FB', 'IG']\n"
          ]
        }
      ]
    },
    {
      "cell_type": "markdown",
      "source": [
        "My own example 78"
      ],
      "metadata": {
        "id": "WYdMbfV_0GjK"
      }
    },
    {
      "cell_type": "code",
      "source": [
        "for i in lista:\n",
        "  print(lista)"
      ],
      "metadata": {
        "colab": {
          "base_uri": "https://localhost:8080/"
        },
        "id": "zkykoI_C0HRi",
        "outputId": "c5086d82-c1df-4748-c4b1-c5b5e64f805a"
      },
      "execution_count": null,
      "outputs": [
        {
          "output_type": "stream",
          "name": "stdout",
          "text": [
            "['IG']\n"
          ]
        }
      ]
    },
    {
      "cell_type": "markdown",
      "source": [
        "My own example 79"
      ],
      "metadata": {
        "id": "orxE6TTh0H3_"
      }
    },
    {
      "cell_type": "code",
      "source": [
        "for i in apps:\n",
        "    print(i)\n",
        "    if i == 'FB':\n",
        "        break"
      ],
      "metadata": {
        "colab": {
          "base_uri": "https://localhost:8080/"
        },
        "id": "obohee1E0I9C",
        "outputId": "85540385-a04a-4e0d-9455-f14d31beac44"
      },
      "execution_count": null,
      "outputs": [
        {
          "output_type": "stream",
          "name": "stdout",
          "text": [
            "APP\n",
            "FB\n"
          ]
        }
      ]
    },
    {
      "cell_type": "markdown",
      "source": [
        "My own example 80"
      ],
      "metadata": {
        "id": "mKC7PK1n0JqC"
      }
    },
    {
      "cell_type": "code",
      "source": [
        "for i in apps:\n",
        "    if i == 'FB':\n",
        "        continue\n",
        "    print(i)"
      ],
      "metadata": {
        "colab": {
          "base_uri": "https://localhost:8080/"
        },
        "id": "2mwCxKWq0LpC",
        "outputId": "65d721b7-14fb-4e9b-b4ab-34125c176f40"
      },
      "execution_count": null,
      "outputs": [
        {
          "output_type": "stream",
          "name": "stdout",
          "text": [
            "APP\n",
            "IG\n"
          ]
        }
      ]
    },
    {
      "cell_type": "markdown",
      "source": [
        "My own example 81\n"
      ],
      "metadata": {
        "id": "uNXiPzTY0NXS"
      }
    },
    {
      "cell_type": "code",
      "source": [
        "potencias = []\n",
        "for i in [1,2,3]:\n",
        "    potencias.append(i**2)\n",
        "print(potencias)"
      ],
      "metadata": {
        "colab": {
          "base_uri": "https://localhost:8080/"
        },
        "id": "oqukm7bJ0W9i",
        "outputId": "15d3b9a5-0ebf-4de8-9818-72f8119318c9"
      },
      "execution_count": null,
      "outputs": [
        {
          "output_type": "stream",
          "name": "stdout",
          "text": [
            "[1, 4, 9]\n"
          ]
        }
      ]
    },
    {
      "cell_type": "markdown",
      "source": [
        "My own example 82"
      ],
      "metadata": {
        "id": "uLuGEttY0Xbj"
      }
    },
    {
      "cell_type": "code",
      "source": [
        "for i in potencias:\n",
        "  if i < 2:\n",
        "    continue\n",
        "  print(i)"
      ],
      "metadata": {
        "colab": {
          "base_uri": "https://localhost:8080/"
        },
        "id": "MGwFj-5w0YOS",
        "outputId": "4dcb1a24-7e2f-4416-cd07-2282d2c1ecb8"
      },
      "execution_count": null,
      "outputs": [
        {
          "output_type": "stream",
          "name": "stdout",
          "text": [
            "4\n",
            "9\n"
          ]
        }
      ]
    },
    {
      "cell_type": "markdown",
      "source": [
        "My own example 83"
      ],
      "metadata": {
        "id": "Fd-vG5Gz0Ysb"
      }
    },
    {
      "cell_type": "code",
      "source": [
        "numeros = [1,3,5]\n",
        "potencias = [x**2 for x in numeros]\n",
        "print(potencias)"
      ],
      "metadata": {
        "colab": {
          "base_uri": "https://localhost:8080/"
        },
        "id": "CXGm4JfZ0ZcS",
        "outputId": "0787f281-53c3-40e1-d078-81d7e8882b3a"
      },
      "execution_count": null,
      "outputs": [
        {
          "output_type": "stream",
          "name": "stdout",
          "text": [
            "[1, 9, 25]\n"
          ]
        }
      ]
    },
    {
      "cell_type": "markdown",
      "source": [
        "My own example 84"
      ],
      "metadata": {
        "id": "RwxqqD_70Z7D"
      }
    },
    {
      "cell_type": "code",
      "source": [
        "potencias = [x*2 for x in potencias]\n",
        "print(potencias)"
      ],
      "metadata": {
        "colab": {
          "base_uri": "https://localhost:8080/"
        },
        "id": "zlfU7zTv0awS",
        "outputId": "97fd26df-d547-47ef-b602-640dabc5dfeb"
      },
      "execution_count": null,
      "outputs": [
        {
          "output_type": "stream",
          "name": "stdout",
          "text": [
            "[2, 18, 50]\n"
          ]
        }
      ]
    },
    {
      "cell_type": "markdown",
      "source": [
        "My own example 85"
      ],
      "metadata": {
        "id": "TdzaA-d20bKj"
      }
    },
    {
      "cell_type": "code",
      "source": [
        "nueva_lista = [x for x in apps if x in seleccionadas]\n",
        "print(nueva_lista)"
      ],
      "metadata": {
        "colab": {
          "base_uri": "https://localhost:8080/"
        },
        "id": "Cv_7grBk0cAi",
        "outputId": "3b1bbc4e-beca-4774-b747-eb99a24521d6"
      },
      "execution_count": null,
      "outputs": [
        {
          "output_type": "stream",
          "name": "stdout",
          "text": [
            "['APP', 'FB']\n"
          ]
        }
      ]
    },
    {
      "cell_type": "markdown",
      "source": [
        "My own example 86"
      ],
      "metadata": {
        "id": "pmgVpSRp0clj"
      }
    },
    {
      "cell_type": "code",
      "source": [
        "print([(x, y) for x in [1,2,3] for y in [3,1,4] if x != y])"
      ],
      "metadata": {
        "colab": {
          "base_uri": "https://localhost:8080/"
        },
        "id": "9J9uMsyz0dgD",
        "outputId": "31bf8d94-c3ee-41b6-c8eb-5a0c5fdf539a"
      },
      "execution_count": null,
      "outputs": [
        {
          "output_type": "stream",
          "name": "stdout",
          "text": [
            "[(1, 3), (1, 4), (2, 3), (2, 1), (2, 4), (3, 1), (3, 4)]\n"
          ]
        }
      ]
    },
    {
      "cell_type": "markdown",
      "source": [
        "My own example 87"
      ],
      "metadata": {
        "id": "MyODvQZh0d0q"
      }
    },
    {
      "cell_type": "code",
      "source": [
        "print([str(x)+' vs '+str(y) for x in apps for y in ['F','V','G'] if x!=y])"
      ],
      "metadata": {
        "colab": {
          "base_uri": "https://localhost:8080/"
        },
        "id": "QvLVw4mK0e9y",
        "outputId": "4c7f652d-3024-4ffe-f5b3-6ebaceb4b083"
      },
      "execution_count": null,
      "outputs": [
        {
          "output_type": "stream",
          "name": "stdout",
          "text": [
            "['APP vs F', 'APP vs V', 'APP vs G', 'FB vs F', 'FB vs V', 'FB vs G', 'IG vs F', 'IG vs V', 'IG vs G']\n"
          ]
        }
      ]
    },
    {
      "cell_type": "markdown",
      "source": [
        "My own example 88"
      ],
      "metadata": {
        "id": "nCTEA0RY0fcS"
      }
    },
    {
      "cell_type": "code",
      "source": [
        "print([x+' como '+y for x in apps for y in ['A','F','I'] if x[0]==y])"
      ],
      "metadata": {
        "colab": {
          "base_uri": "https://localhost:8080/"
        },
        "id": "FFFUWOVZ0gxS",
        "outputId": "91263581-db33-4a9d-acac-64b93ef76f3a"
      },
      "execution_count": null,
      "outputs": [
        {
          "output_type": "stream",
          "name": "stdout",
          "text": [
            "['APP como A', 'FB como F', 'IG como I']\n"
          ]
        }
      ]
    },
    {
      "cell_type": "markdown",
      "source": [
        "# Tutorial 3\n"
      ],
      "metadata": {
        "id": "jh7BeEFtIu-R"
      }
    },
    {
      "cell_type": "markdown",
      "source": [
        "My own example 89\n",
        "\n"
      ],
      "metadata": {
        "id": "rvmcSxI6Iyy0"
      }
    },
    {
      "cell_type": "code",
      "source": [
        "def product(x,y):\n",
        "    return x*y\n",
        "print(product(4,8))\n",
        "print(product(1,10.2))"
      ],
      "metadata": {
        "colab": {
          "base_uri": "https://localhost:8080/"
        },
        "id": "CQzNdFPbJbUe",
        "outputId": "e2b1381f-e3b8-4b4f-ad04-e11c5424e5e8"
      },
      "execution_count": null,
      "outputs": [
        {
          "output_type": "stream",
          "name": "stdout",
          "text": [
            "32\n",
            "10.2\n"
          ]
        }
      ]
    },
    {
      "cell_type": "markdown",
      "source": [
        "My own example 90"
      ],
      "metadata": {
        "id": "wWx3gv1SI9Pm"
      }
    },
    {
      "cell_type": "code",
      "source": [
        "def say_hi():\n",
        "    print('Bienvenido')\n",
        "say_hi()"
      ],
      "metadata": {
        "colab": {
          "base_uri": "https://localhost:8080/"
        },
        "id": "ab6o6NjMJf3_",
        "outputId": "46142bb4-23c9-4d64-b948-812c30a9fa1f"
      },
      "execution_count": null,
      "outputs": [
        {
          "output_type": "stream",
          "name": "stdout",
          "text": [
            "Bienvenido\n"
          ]
        }
      ]
    },
    {
      "cell_type": "markdown",
      "source": [
        "My own example 91"
      ],
      "metadata": {
        "id": "ifuZOQmHI9tU"
      }
    },
    {
      "cell_type": "code",
      "source": [
        "print(range(5))\n",
        "print(range(1,15))\n",
        "print(range(2,10,2))"
      ],
      "metadata": {
        "colab": {
          "base_uri": "https://localhost:8080/"
        },
        "id": "7-crGAxYJnbe",
        "outputId": "963bdccd-b080-4a57-f63d-81445d68126f"
      },
      "execution_count": null,
      "outputs": [
        {
          "output_type": "stream",
          "name": "stdout",
          "text": [
            "range(0, 5)\n",
            "range(1, 15)\n",
            "range(2, 10, 2)\n"
          ]
        }
      ]
    },
    {
      "cell_type": "markdown",
      "source": [
        "My own example 92"
      ],
      "metadata": {
        "id": "cF3n0pdgI9yj"
      }
    },
    {
      "cell_type": "code",
      "source": [
        "tickers = ['AAPL','GOOG','IBM','FB','F','V', 'G', 'GE']\n",
        "print('La longitud de tickers es {}'.format(len(tickers)))\n",
        "for i in range(len(tickers)):\n",
        "    print(tickers[i])"
      ],
      "metadata": {
        "colab": {
          "base_uri": "https://localhost:8080/"
        },
        "id": "qoi0k84BJuyi",
        "outputId": "bfcb7244-4768-4b95-9de5-07aab0e4e1da"
      },
      "execution_count": null,
      "outputs": [
        {
          "output_type": "stream",
          "name": "stdout",
          "text": [
            "La longitud de tickers es 8\n",
            "AAPL\n",
            "GOOG\n",
            "IBM\n",
            "FB\n",
            "F\n",
            "V\n",
            "G\n",
            "GE\n"
          ]
        }
      ]
    },
    {
      "cell_type": "markdown",
      "source": [
        "My own example 93"
      ],
      "metadata": {
        "id": "Ro3Pob3pI940"
      }
    },
    {
      "cell_type": "code",
      "source": [
        "tickers = ['AAP','OG','IBM','FB', 'G', 'GE']\n",
        "print(list(map(len,tickers)))"
      ],
      "metadata": {
        "colab": {
          "base_uri": "https://localhost:8080/"
        },
        "id": "_-TpN1hQJ8GB",
        "outputId": "44d6a2f1-f6c8-48a6-d988-ace1c878b61d"
      },
      "execution_count": null,
      "outputs": [
        {
          "output_type": "stream",
          "name": "stdout",
          "text": [
            "[3, 2, 3, 2, 1, 2]\n"
          ]
        }
      ]
    },
    {
      "cell_type": "markdown",
      "source": [
        "My own example 94"
      ],
      "metadata": {
        "id": "O1Mm3FAYI9_f"
      }
    },
    {
      "cell_type": "code",
      "source": [
        "list(map(lambda x: x**3, range(8)))"
      ],
      "metadata": {
        "colab": {
          "base_uri": "https://localhost:8080/"
        },
        "id": "tcnEbQ0bKCWX",
        "outputId": "0ddf70f5-cce8-43d5-a476-6c2b3de11071"
      },
      "execution_count": null,
      "outputs": [
        {
          "output_type": "execute_result",
          "data": {
            "text/plain": [
              "[0, 1, 8, 27, 64, 125, 216, 343]"
            ]
          },
          "metadata": {},
          "execution_count": 110
        }
      ]
    },
    {
      "cell_type": "markdown",
      "source": [
        "My own example 95"
      ],
      "metadata": {
        "id": "kJMkNrwnI-GG"
      }
    },
    {
      "cell_type": "code",
      "source": [
        "list(map(lambda x, y: x+y, [1,2,4,4,5],[1,4,3,2,1]))"
      ],
      "metadata": {
        "colab": {
          "base_uri": "https://localhost:8080/"
        },
        "id": "HXQ3pcHsKO_x",
        "outputId": "445e3f2c-f986-4f21-d505-c811db71b411"
      },
      "execution_count": null,
      "outputs": [
        {
          "output_type": "execute_result",
          "data": {
            "text/plain": [
              "[2, 6, 7, 6, 6]"
            ]
          },
          "metadata": {},
          "execution_count": 112
        }
      ]
    },
    {
      "cell_type": "markdown",
      "source": [
        "My own example 96"
      ],
      "metadata": {
        "id": "31SffbXlI-Mc"
      }
    },
    {
      "cell_type": "code",
      "source": [
        "sorted([5.2,2,98,5,1])"
      ],
      "metadata": {
        "colab": {
          "base_uri": "https://localhost:8080/"
        },
        "id": "Q6XIeRkIKUH7",
        "outputId": "7c6a6935-1034-48cb-bf70-6040be638920"
      },
      "execution_count": null,
      "outputs": [
        {
          "output_type": "execute_result",
          "data": {
            "text/plain": [
              "[1, 2, 5, 5.2, 98]"
            ]
          },
          "metadata": {},
          "execution_count": 114
        }
      ]
    },
    {
      "cell_type": "markdown",
      "source": [
        "My own example 97"
      ],
      "metadata": {
        "id": "fO5w88CyI-TH"
      }
    },
    {
      "cell_type": "code",
      "source": [
        "price_list = [('AAPL',14.09),('GOOG',91.71),('MSFT',69),('FB',150),('WMT',75.32)]\n",
        "sorted(price_list, key = lambda x: x[1])"
      ],
      "metadata": {
        "colab": {
          "base_uri": "https://localhost:8080/"
        },
        "id": "Ls5orSqYKYVS",
        "outputId": "70b62f8d-2f63-4851-d209-2be79148d152"
      },
      "execution_count": null,
      "outputs": [
        {
          "output_type": "execute_result",
          "data": {
            "text/plain": [
              "[('AAPL', 14.09), ('MSFT', 69), ('WMT', 75.32), ('GOOG', 91.71), ('FB', 150)]"
            ]
          },
          "metadata": {},
          "execution_count": 117
        }
      ]
    },
    {
      "cell_type": "markdown",
      "source": [
        "My own example 98"
      ],
      "metadata": {
        "id": "trEqQjgNI-bE"
      }
    },
    {
      "cell_type": "code",
      "source": [
        "price_list = [('AAPL',144.0),('GOOG',11.71),('MSFT',69),('FB',150),('WMT',75.32)]\n",
        "sorted(price_list, key = lambda x: x[1],reverse = True)"
      ],
      "metadata": {
        "colab": {
          "base_uri": "https://localhost:8080/"
        },
        "id": "4Q20bXKWKgji",
        "outputId": "b120c258-90ef-4428-bea2-8305a459ea89"
      },
      "execution_count": null,
      "outputs": [
        {
          "output_type": "execute_result",
          "data": {
            "text/plain": [
              "[('FB', 150), ('AAPL', 144.0), ('WMT', 75.32), ('MSFT', 69), ('GOOG', 11.71)]"
            ]
          },
          "metadata": {},
          "execution_count": 118
        }
      ]
    },
    {
      "cell_type": "markdown",
      "source": [
        "My own example 99"
      ],
      "metadata": {
        "id": "1NXN4LumI-iv"
      }
    },
    {
      "cell_type": "code",
      "source": [
        "price_list = [('AAL',144.09),('GOG',11.71),('MSFT',69),('FB',150),('WMT',75.32)]\n",
        "price_list.sort(key = lambda x: x[1])\n",
        "print(price_list)"
      ],
      "metadata": {
        "colab": {
          "base_uri": "https://localhost:8080/"
        },
        "id": "by5EPmAKKnLD",
        "outputId": "286f77b5-afbc-4939-bf31-5909d9a94a39"
      },
      "execution_count": null,
      "outputs": [
        {
          "output_type": "stream",
          "name": "stdout",
          "text": [
            "[('GOG', 11.71), ('MSFT', 69), ('WMT', 75.32), ('AAL', 144.09), ('FB', 150)]\n"
          ]
        }
      ]
    },
    {
      "cell_type": "markdown",
      "source": [
        "My own example 100"
      ],
      "metadata": {
        "id": "r05L52dvI-pz"
      }
    },
    {
      "cell_type": "code",
      "source": [
        "class stock:\n",
        "    def __init__(self, ticker, open, close, volume):\n",
        "        self.ticker = ticker\n",
        "        self.open = open\n",
        "        self.close = close\n",
        "        self.volume = volume\n",
        "        self.rate_return = float(close)/open - 1\n",
        "\n",
        "    def update(self, open, close):\n",
        "        self.open = open\n",
        "        self.close = close\n",
        "        self.rate_return = float(self.close)/self.open - 1\n",
        "\n",
        "    def print_return(self):\n",
        "        print(self.rate_return)"
      ],
      "metadata": {
        "id": "_xdC9KJ_KvGr"
      },
      "execution_count": null,
      "outputs": []
    },
    {
      "cell_type": "markdown",
      "source": [
        "My own example 101"
      ],
      "metadata": {
        "id": "2My6OropI-xO"
      }
    },
    {
      "cell_type": "code",
      "source": [
        "apple = stock('AAPL', 143.69, 144.09, 20109375)\n",
        "google = stock('GOOG', 898.7, 911.7, 1561616)"
      ],
      "metadata": {
        "id": "BTJSPqdvK1wS"
      },
      "execution_count": null,
      "outputs": []
    },
    {
      "cell_type": "markdown",
      "source": [
        "My own example 102"
      ],
      "metadata": {
        "id": "on39yvDeI-3v"
      }
    },
    {
      "cell_type": "code",
      "source": [
        "apple.ticker\n"
      ],
      "metadata": {
        "colab": {
          "base_uri": "https://localhost:8080/",
          "height": 35
        },
        "id": "Qsy7YS_6K6YE",
        "outputId": "686a512d-604f-407b-a30e-7755019b5f63"
      },
      "execution_count": null,
      "outputs": [
        {
          "output_type": "execute_result",
          "data": {
            "text/plain": [
              "'AAPL'"
            ],
            "application/vnd.google.colaboratory.intrinsic+json": {
              "type": "string"
            }
          },
          "metadata": {},
          "execution_count": 125
        }
      ]
    },
    {
      "cell_type": "markdown",
      "source": [
        "My own example 103"
      ],
      "metadata": {
        "id": "QKffXIo2I-_O"
      }
    },
    {
      "cell_type": "code",
      "source": [
        "google.print_return()\n",
        "google.update(92.8,13.4)\n",
        "google.print_return()"
      ],
      "metadata": {
        "colab": {
          "base_uri": "https://localhost:8080/"
        },
        "id": "VyRKjBthLJ3M",
        "outputId": "35f0c789-bebf-49cf-fd87-79e31b17c5ab"
      },
      "execution_count": null,
      "outputs": [
        {
          "output_type": "stream",
          "name": "stdout",
          "text": [
            "0.0006573181419806673\n",
            "-0.8556034482758621\n"
          ]
        }
      ]
    },
    {
      "cell_type": "markdown",
      "source": [
        "My own example 104"
      ],
      "metadata": {
        "id": "PA99nfcRI_Gg"
      }
    },
    {
      "cell_type": "code",
      "source": [
        "apple.ceo = 'Tim Cook'\n",
        "apple.ceo"
      ],
      "metadata": {
        "colab": {
          "base_uri": "https://localhost:8080/",
          "height": 35
        },
        "id": "Sruln3HQLVrb",
        "outputId": "3a5434d3-401c-40af-9987-241899a2c1d6"
      },
      "execution_count": null,
      "outputs": [
        {
          "output_type": "execute_result",
          "data": {
            "text/plain": [
              "'Tim Cook'"
            ],
            "application/vnd.google.colaboratory.intrinsic+json": {
              "type": "string"
            }
          },
          "metadata": {},
          "execution_count": 128
        }
      ]
    },
    {
      "cell_type": "markdown",
      "source": [
        "My own example 105"
      ],
      "metadata": {
        "id": "AZ4O89kPI_N7"
      }
    },
    {
      "cell_type": "code",
      "source": [
        "dir(apple)"
      ],
      "metadata": {
        "colab": {
          "base_uri": "https://localhost:8080/"
        },
        "id": "pKFM6MACLZ2R",
        "outputId": "7ef58b71-d2f4-4f8c-8bab-82a2bbc2fae9"
      },
      "execution_count": null,
      "outputs": [
        {
          "output_type": "execute_result",
          "data": {
            "text/plain": [
              "['__class__',\n",
              " '__delattr__',\n",
              " '__dict__',\n",
              " '__dir__',\n",
              " '__doc__',\n",
              " '__eq__',\n",
              " '__format__',\n",
              " '__ge__',\n",
              " '__getattribute__',\n",
              " '__gt__',\n",
              " '__hash__',\n",
              " '__init__',\n",
              " '__init_subclass__',\n",
              " '__le__',\n",
              " '__lt__',\n",
              " '__module__',\n",
              " '__ne__',\n",
              " '__new__',\n",
              " '__reduce__',\n",
              " '__reduce_ex__',\n",
              " '__repr__',\n",
              " '__setattr__',\n",
              " '__sizeof__',\n",
              " '__str__',\n",
              " '__subclasshook__',\n",
              " '__weakref__',\n",
              " 'ceo',\n",
              " 'close',\n",
              " 'open',\n",
              " 'print_return',\n",
              " 'rate_return',\n",
              " 'ticker',\n",
              " 'update',\n",
              " 'volume']"
            ]
          },
          "metadata": {},
          "execution_count": 129
        }
      ]
    },
    {
      "cell_type": "markdown",
      "source": [
        "My own example 106"
      ],
      "metadata": {
        "id": "56XlM2_9I_UG"
      }
    },
    {
      "cell_type": "code",
      "source": [
        "class child(stock):\n",
        "    def __init__(self,name):\n",
        "        self.name = name"
      ],
      "metadata": {
        "id": "m5FHKrmHLbqL"
      },
      "execution_count": null,
      "outputs": []
    },
    {
      "cell_type": "markdown",
      "source": [
        "My own example 107"
      ],
      "metadata": {
        "id": "-qnDtO3BI_bs"
      }
    },
    {
      "cell_type": "code",
      "source": [
        "aa = child('aa')\n",
        "print(aa.name)"
      ],
      "metadata": {
        "colab": {
          "base_uri": "https://localhost:8080/"
        },
        "id": "cRsdNFcXLffp",
        "outputId": "4943e4a4-dda1-4eb5-c608-8eef0b74cf1f"
      },
      "execution_count": null,
      "outputs": [
        {
          "output_type": "stream",
          "name": "stdout",
          "text": [
            "aa\n"
          ]
        }
      ]
    },
    {
      "cell_type": "markdown",
      "source": [
        "My own example 108"
      ],
      "metadata": {
        "id": "zDNDGtdUI_jA"
      }
    },
    {
      "cell_type": "code",
      "source": [
        "aa.update(10,102)\n",
        "print(aa.open)\n",
        "print(aa.close)\n",
        "print(aa.print_return())"
      ],
      "metadata": {
        "colab": {
          "base_uri": "https://localhost:8080/"
        },
        "id": "kVEF1wg2LiUc",
        "outputId": "0a5353e6-104b-4004-cad3-0be2dfc5815d"
      },
      "execution_count": null,
      "outputs": [
        {
          "output_type": "stream",
          "name": "stdout",
          "text": [
            "10\n",
            "102\n",
            "9.2\n",
            "None\n"
          ]
        }
      ]
    },
    {
      "cell_type": "markdown",
      "source": [
        "My own example 109"
      ],
      "metadata": {
        "id": "SqEc3MLiI_pk"
      }
    },
    {
      "cell_type": "code",
      "source": [
        "ab = child('ab')"
      ],
      "metadata": {
        "id": "L_hH1GkuLqYs"
      },
      "execution_count": null,
      "outputs": []
    },
    {
      "cell_type": "markdown",
      "source": [
        "My own example 110"
      ],
      "metadata": {
        "id": "n745zEYHI_w0"
      }
    },
    {
      "cell_type": "code",
      "source": [
        "print(ab.print_return)"
      ],
      "metadata": {
        "colab": {
          "base_uri": "https://localhost:8080/"
        },
        "id": "CiU73gOyMPW3",
        "outputId": "96d45a89-fa1c-4909-bff7-5efc38f5f689"
      },
      "execution_count": null,
      "outputs": [
        {
          "output_type": "stream",
          "name": "stdout",
          "text": [
            "<bound method stock.print_return of <__main__.child object at 0x7fc2c4570410>>\n"
          ]
        }
      ]
    },
    {
      "cell_type": "markdown",
      "source": [
        "# Lectura 3"
      ],
      "metadata": {
        "id": "9eUB7d9X5uFj"
      }
    },
    {
      "cell_type": "markdown",
      "source": [
        "My own example 111"
      ],
      "metadata": {
        "id": "sn4Z3euz6S9S"
      }
    },
    {
      "cell_type": "code",
      "source": [
        "import numpy as np\n",
        "import matplotlib.pyplot as plt"
      ],
      "metadata": {
        "id": "CNY7sqIe6Sey"
      },
      "execution_count": null,
      "outputs": []
    },
    {
      "cell_type": "markdown",
      "source": [
        "My own example 112"
      ],
      "metadata": {
        "id": "Yt_86_Sl6Yqy"
      }
    },
    {
      "cell_type": "code",
      "source": [
        "valores = [3.1, 1, 5, 9.1, 4.2]\n",
        "arraynp = np.array(valores)\n",
        "print (arraynp, type(arraynp))"
      ],
      "metadata": {
        "colab": {
          "base_uri": "https://localhost:8080/"
        },
        "id": "oIeenyXL6Zii",
        "outputId": "647ebb04-c0d9-4123-fdea-f88ea1fff2d1"
      },
      "execution_count": null,
      "outputs": [
        {
          "output_type": "stream",
          "name": "stdout",
          "text": [
            "[3.1 1.  5.  9.1 4.2] <class 'numpy.ndarray'>\n"
          ]
        }
      ]
    },
    {
      "cell_type": "markdown",
      "source": [
        "My own example 113"
      ],
      "metadata": {
        "id": "CWlRFynI6Z4l"
      }
    },
    {
      "cell_type": "code",
      "source": [
        "matriz = np.array([[1, 2], [3, 4]])\n",
        "print (matriz, type(matriz))"
      ],
      "metadata": {
        "colab": {
          "base_uri": "https://localhost:8080/"
        },
        "id": "U_jjOo8Q6arS",
        "outputId": "61d6a5bf-50db-4b5e-aa16-e6a123c62345"
      },
      "execution_count": null,
      "outputs": [
        {
          "output_type": "stream",
          "name": "stdout",
          "text": [
            "[[1 2]\n",
            " [3 4]] <class 'numpy.ndarray'>\n"
          ]
        }
      ]
    },
    {
      "cell_type": "markdown",
      "source": [
        "My own example 114"
      ],
      "metadata": {
        "id": "S1a-GpZq6c1i"
      }
    },
    {
      "cell_type": "code",
      "source": [
        "print (matriz.shape)"
      ],
      "metadata": {
        "colab": {
          "base_uri": "https://localhost:8080/"
        },
        "id": "V4H_ruYO6dkh",
        "outputId": "94a92337-7479-4d3b-ab5a-4061ed72640e"
      },
      "execution_count": null,
      "outputs": [
        {
          "output_type": "stream",
          "name": "stdout",
          "text": [
            "(2, 2)\n"
          ]
        }
      ]
    },
    {
      "cell_type": "markdown",
      "source": [
        "My own example 115"
      ],
      "metadata": {
        "id": "-kw4sR_g6eEq"
      }
    },
    {
      "cell_type": "code",
      "source": [
        "print (arraynp[0], arraynp[len(arraynp) - 1])"
      ],
      "metadata": {
        "colab": {
          "base_uri": "https://localhost:8080/"
        },
        "id": "-WmkhZFp6e7C",
        "outputId": "bc1e1ff6-3cef-4b35-be64-362c4e6a8aab"
      },
      "execution_count": null,
      "outputs": [
        {
          "output_type": "stream",
          "name": "stdout",
          "text": [
            "3.1 4.2\n"
          ]
        }
      ]
    },
    {
      "cell_type": "markdown",
      "source": [
        "My own example 116"
      ],
      "metadata": {
        "id": "nwA-2d0F8Oa8"
      }
    },
    {
      "cell_type": "code",
      "source": [
        "print (matriz[:, 0])\n"
      ],
      "metadata": {
        "colab": {
          "base_uri": "https://localhost:8080/"
        },
        "id": "xivlN9Fv8Fky",
        "outputId": "95b29548-0f36-4b93-bcac-2bb9c59362d2"
      },
      "execution_count": null,
      "outputs": [
        {
          "output_type": "stream",
          "name": "stdout",
          "text": [
            "[1 3]\n"
          ]
        }
      ]
    },
    {
      "cell_type": "markdown",
      "source": [
        "My own example 117"
      ],
      "metadata": {
        "id": "GYoekpqu8RNq"
      }
    },
    {
      "cell_type": "code",
      "source": [
        "print (type(matriz[0,:]))"
      ],
      "metadata": {
        "colab": {
          "base_uri": "https://localhost:8080/"
        },
        "id": "CqiOKlYn8SJi",
        "outputId": "c4f9aa9a-9f1a-4618-ac3d-6b41ce8d4ad1"
      },
      "execution_count": null,
      "outputs": [
        {
          "output_type": "stream",
          "name": "stdout",
          "text": [
            "<class 'numpy.ndarray'>\n"
          ]
        }
      ]
    },
    {
      "cell_type": "markdown",
      "source": [
        "My own example 118"
      ],
      "metadata": {
        "id": "OTyXHDEJ8TBS"
      }
    },
    {
      "cell_type": "code",
      "source": [
        "print (matriz[0, 1])"
      ],
      "metadata": {
        "colab": {
          "base_uri": "https://localhost:8080/"
        },
        "id": "Qn6_ALCY8Txi",
        "outputId": "2254c0a9-c282-4eeb-f409-bd2d3a8d8699"
      },
      "execution_count": null,
      "outputs": [
        {
          "output_type": "stream",
          "name": "stdout",
          "text": [
            "2\n"
          ]
        }
      ]
    },
    {
      "cell_type": "markdown",
      "source": [
        "My own example 119"
      ],
      "metadata": {
        "id": "pllgNzEg8UBz"
      }
    },
    {
      "cell_type": "code",
      "source": [
        "print (np.log(arraynp))"
      ],
      "metadata": {
        "colab": {
          "base_uri": "https://localhost:8080/"
        },
        "id": "kIm2rHnz8Uxy",
        "outputId": "f0f68351-b18a-4ecb-d7d9-8dbb8fb61c23"
      },
      "execution_count": null,
      "outputs": [
        {
          "output_type": "stream",
          "name": "stdout",
          "text": [
            "[1.13140211 0.         1.60943791 2.20827441 1.43508453]\n"
          ]
        }
      ]
    },
    {
      "cell_type": "markdown",
      "source": [
        "My own example 120"
      ],
      "metadata": {
        "id": "gjecbEAG8VRq"
      }
    },
    {
      "cell_type": "code",
      "source": [
        "print (np.max(arraynp))"
      ],
      "metadata": {
        "colab": {
          "base_uri": "https://localhost:8080/"
        },
        "id": "d8OVBV8G8WVy",
        "outputId": "59d4d39e-9859-40c6-f743-f3e8f0a3abbe"
      },
      "execution_count": null,
      "outputs": [
        {
          "output_type": "stream",
          "name": "stdout",
          "text": [
            "9.1\n"
          ]
        }
      ]
    },
    {
      "cell_type": "markdown",
      "source": [
        "My own example 121"
      ],
      "metadata": {
        "id": "k1cpE9wC9dEK"
      }
    },
    {
      "cell_type": "code",
      "source": [
        "arraynp*5.4 + 1"
      ],
      "metadata": {
        "colab": {
          "base_uri": "https://localhost:8080/"
        },
        "id": "txppGmGk9Swi",
        "outputId": "31863553-0895-4e67-89a8-388824402b8d"
      },
      "execution_count": null,
      "outputs": [
        {
          "output_type": "execute_result",
          "data": {
            "text/plain": [
              "array([17.74,  6.4 , 28.  , 50.14, 23.68])"
            ]
          },
          "metadata": {},
          "execution_count": 96
        }
      ]
    },
    {
      "cell_type": "markdown",
      "source": [
        "My own example 122"
      ],
      "metadata": {
        "id": "xphIu69w9ili"
      }
    },
    {
      "cell_type": "code",
      "source": [
        "N = 15\n",
        "assets = np.zeros((N, 100))\n",
        "returns = np.zeros((N, 100))"
      ],
      "metadata": {
        "id": "_H6cNz7k9jbx"
      },
      "execution_count": null,
      "outputs": []
    },
    {
      "cell_type": "markdown",
      "source": [
        "My own example 123"
      ],
      "metadata": {
        "id": "MMLBEUu39j07"
      }
    },
    {
      "cell_type": "code",
      "source": [
        "random_1 = np.random.normal(1.01, 0.03, 100)\n",
        "returns[0] = random_1\n",
        "assets[0] = np.cumprod(random_1)"
      ],
      "metadata": {
        "id": "fx0Cm9dT9ksx"
      },
      "execution_count": null,
      "outputs": []
    },
    {
      "cell_type": "markdown",
      "source": [
        "My own example 124"
      ],
      "metadata": {
        "id": "AF5IBJg29lPK"
      }
    },
    {
      "cell_type": "code",
      "source": [
        "for i in range(1, N):\n",
        "    random_i = random_1 + np.random.normal(0.001, 0.02, 100)\n",
        "    returns[i] = random_i\n",
        "    assets[i] = np.cumprod(random_i)\n",
        "\n",
        "media_returns = [(np.mean(R) - 1)*100 for R in returns]\n",
        "return_volatilities = [np.std(R) for R in returns]"
      ],
      "metadata": {
        "id": "X903a5FZ9mCC"
      },
      "execution_count": null,
      "outputs": []
    },
    {
      "cell_type": "markdown",
      "source": [
        "My own example 125"
      ],
      "metadata": {
        "id": "5j6d8VbU9mk6"
      }
    },
    {
      "cell_type": "code",
      "source": [
        "plt.bar(np.arange(len(media_returns)), media_returns)\n",
        "plt.xlabel('Lista')\n",
        "plt.ylabel('Returns')\n",
        "plt.title('Returns para {0} Assets random'.format(N));"
      ],
      "metadata": {
        "colab": {
          "base_uri": "https://localhost:8080/",
          "height": 295
        },
        "id": "-wSwAjTw9nXB",
        "outputId": "f6bad273-525a-43cb-e5d6-5f238272cf39"
      },
      "execution_count": null,
      "outputs": [
        {
          "output_type": "display_data",
          "data": {
            "text/plain": [
              "<Figure size 432x288 with 1 Axes>"
            ],
            "image/png": "[encoded data removed]"
          },
          "metadata": {
            "needs_background": "light"
          }
        }
      ]
    },
    {
      "cell_type": "code",
      "source": [],
      "metadata": {
        "id": "EJdmuMn5_MaB"
      },
      "execution_count": null,
      "outputs": []
    },
    {
      "cell_type": "markdown",
      "source": [
        "My own example 126"
      ],
      "metadata": {
        "id": "F6uFVr4iIBcx"
      }
    },
    {
      "cell_type": "code",
      "source": [
        "pesos = np.random.uniform(0, 1, N)\n",
        "pesos = weights/np.sum(weights)"
      ],
      "metadata": {
        "id": "12CMisp5Nnrx"
      },
      "execution_count": null,
      "outputs": []
    },
    {
      "cell_type": "markdown",
      "source": [
        "My own example 127"
      ],
      "metadata": {
        "id": "q5boNxoLIFMH"
      }
    },
    {
      "cell_type": "code",
      "source": [
        "p_returns = np.dot(pesos, media_returns)\n",
        "print (\"Expected return of the portfolio: \", p_returns)"
      ],
      "metadata": {
        "colab": {
          "base_uri": "https://localhost:8080/"
        },
        "id": "-eDk0b-INtuO",
        "outputId": "479fddde-f2f8-4128-b097-ba7cd59d2093"
      },
      "execution_count": null,
      "outputs": [
        {
          "output_type": "stream",
          "name": "stdout",
          "text": [
            "Expected return of the portfolio:  0.9138626594377522\n"
          ]
        }
      ]
    },
    {
      "cell_type": "markdown",
      "source": [
        "My own example 128"
      ],
      "metadata": {
        "id": "S9v8ij2TIFSv"
      }
    },
    {
      "cell_type": "code",
      "source": [
        "v = np.array([2, 4, np.nan, 6, 5])\n",
        "print(v)"
      ],
      "metadata": {
        "colab": {
          "base_uri": "https://localhost:8080/"
        },
        "id": "1ByEKq07N8L1",
        "outputId": "a18dfbf8-cc88-4124-88d4-22868a55c17a"
      },
      "execution_count": null,
      "outputs": [
        {
          "output_type": "stream",
          "name": "stdout",
          "text": [
            "[ 2.  4. nan  6.  5.]\n"
          ]
        }
      ]
    },
    {
      "cell_type": "markdown",
      "source": [
        "My own example 129"
      ],
      "metadata": {
        "id": "r4_Jt0WUIF4d"
      }
    },
    {
      "cell_type": "code",
      "source": [
        "np.isnan(v)"
      ],
      "metadata": {
        "colab": {
          "base_uri": "https://localhost:8080/"
        },
        "id": "j7dT3opcOCtY",
        "outputId": "5efce395-95c5-4f5a-b028-b420f8bba027"
      },
      "execution_count": null,
      "outputs": [
        {
          "output_type": "execute_result",
          "data": {
            "text/plain": [
              "array([False, False,  True, False, False])"
            ]
          },
          "metadata": {},
          "execution_count": 154
        }
      ]
    },
    {
      "cell_type": "markdown",
      "source": [
        "My own example 130"
      ],
      "metadata": {
        "id": "c7d2js_DIGA5"
      }
    },
    {
      "cell_type": "code",
      "source": [
        "ix = ~np.isnan(v)\n",
        "print (v[ix])"
      ],
      "metadata": {
        "colab": {
          "base_uri": "https://localhost:8080/"
        },
        "id": "h7OeY6odNN4H",
        "outputId": "76d7b2cb-dcf0-4fc7-ab18-ac98458680ff"
      },
      "execution_count": null,
      "outputs": [
        {
          "output_type": "stream",
          "name": "stdout",
          "text": [
            "[2. 4. 6. 5.]\n"
          ]
        }
      ]
    },
    {
      "cell_type": "markdown",
      "source": [
        "My own example 131"
      ],
      "metadata": {
        "id": "kychkN8GIGKJ"
      }
    },
    {
      "cell_type": "code",
      "source": [
        "print (np.nanmean(v))"
      ],
      "metadata": {
        "colab": {
          "base_uri": "https://localhost:8080/"
        },
        "id": "_oiwk9lCOQe_",
        "outputId": "4b5161b7-b569-46bf-c4f8-9a71f65cf6ab"
      },
      "execution_count": null,
      "outputs": [
        {
          "output_type": "stream",
          "name": "stdout",
          "text": [
            "4.25\n"
          ]
        }
      ]
    },
    {
      "cell_type": "markdown",
      "source": [
        "My own example 132"
      ],
      "metadata": {
        "id": "ToN0ZuWSIGRb"
      }
    },
    {
      "cell_type": "code",
      "source": [
        "A = np.array([\n",
        "        [1, 2, 3, 12, 6],\n",
        "        [4, 5, 6, 15, 20],\n",
        "        [7, 8, 9, 10, 10]\n",
        "    ])\n",
        "B = np.array([\n",
        "        [4, 4, 2],\n",
        "        [2, 3, 1],\n",
        "        [6, 5, 8],\n",
        "        [9, 9, 9]\n",
        "    ])"
      ],
      "metadata": {
        "id": "NKU7RQCBOUAn"
      },
      "execution_count": null,
      "outputs": []
    },
    {
      "cell_type": "markdown",
      "source": [
        "# Lectura 4"
      ],
      "metadata": {
        "id": "ul_Vy8bnOVpX"
      }
    },
    {
      "cell_type": "markdown",
      "source": [
        "My own example 133"
      ],
      "metadata": {
        "id": "Nz0rVd-pOcHR"
      }
    },
    {
      "cell_type": "code",
      "source": [
        "import matplotlib.pyplot as plt"
      ],
      "metadata": {
        "id": "QmSLsxEjP3ua"
      },
      "execution_count": null,
      "outputs": []
    },
    {
      "cell_type": "markdown",
      "source": [
        "My own example 134"
      ],
      "metadata": {
        "id": "XYYpb1UzOfN-"
      }
    },
    {
      "cell_type": "code",
      "source": [
        "returns = pd.DataFrame(np.random.normal(1.5, 0.2, (100, 10)))\n",
        "prices = returns.cumprod()\n",
        "prices.plot()\n",
        "plt.title('Precios aleatorios')\n",
        "plt.xlabel('Tiempo')\n",
        "plt.ylabel('Precio')\n",
        "plt.legend(loc=0);"
      ],
      "metadata": {
        "colab": {
          "base_uri": "https://localhost:8080/",
          "height": 295
        },
        "id": "AaPtRqCpP-gJ",
        "outputId": "1a4520cc-b469-4362-9620-4b5d4bb8d5ea"
      },
      "execution_count": null,
      "outputs": [
        {
          "output_type": "display_data",
          "data": {
            "text/plain": [
              "<Figure size 432x288 with 1 Axes>"
            ],
            "image/png": "[encoded data removed]"
          },
          "metadata": {
            "needs_background": "light"
          }
        }
      ]
    },
    {
      "cell_type": "markdown",
      "source": [
        "My own example 135"
      ],
      "metadata": {
        "id": "PUo6w4TQOfRL"
      }
    },
    {
      "cell_type": "code",
      "source": [
        "s = pd.Series([2, 4, np.nan, 6, 5])\n",
        "print (s)"
      ],
      "metadata": {
        "colab": {
          "base_uri": "https://localhost:8080/"
        },
        "id": "_eQ8ORu4QIY-",
        "outputId": "7bf4c90d-8ae1-42e4-9af3-96b73e49462e"
      },
      "execution_count": null,
      "outputs": [
        {
          "output_type": "stream",
          "name": "stdout",
          "text": [
            "0    2.0\n",
            "1    4.0\n",
            "2    NaN\n",
            "3    6.0\n",
            "4    5.0\n",
            "dtype: float64\n"
          ]
        }
      ]
    },
    {
      "cell_type": "markdown",
      "source": [
        "My own example 136"
      ],
      "metadata": {
        "id": "YtnV026HOfT6"
      }
    },
    {
      "cell_type": "code",
      "source": [
        "print (s.name)"
      ],
      "metadata": {
        "colab": {
          "base_uri": "https://localhost:8080/"
        },
        "id": "18yiI-QmQP89",
        "outputId": "0dbc6533-b75e-436f-c061-f46821cf1c2e"
      },
      "execution_count": null,
      "outputs": [
        {
          "output_type": "stream",
          "name": "stdout",
          "text": [
            "None\n"
          ]
        }
      ]
    },
    {
      "cell_type": "markdown",
      "source": [
        "My own example 137"
      ],
      "metadata": {
        "id": "VIuzkQE2OfWp"
      }
    },
    {
      "cell_type": "code",
      "source": [
        "s.name = \"Nombre de s\"\n",
        "print (s.name)"
      ],
      "metadata": {
        "colab": {
          "base_uri": "https://localhost:8080/"
        },
        "id": "4J3nHrAIQT3J",
        "outputId": "2610c14a-1d15-439b-ca67-bfe512552539"
      },
      "execution_count": null,
      "outputs": [
        {
          "output_type": "stream",
          "name": "stdout",
          "text": [
            "Nombre de s\n"
          ]
        }
      ]
    },
    {
      "cell_type": "markdown",
      "source": [
        "My own example 138"
      ],
      "metadata": {
        "id": "SvTK0Gm2OfZJ"
      }
    },
    {
      "cell_type": "code",
      "source": [
        "print (s.index)"
      ],
      "metadata": {
        "colab": {
          "base_uri": "https://localhost:8080/"
        },
        "id": "QytVJbMxQZAp",
        "outputId": "ad0b8b27-b8c8-41bc-83f9-b74e0de1a66d"
      },
      "execution_count": null,
      "outputs": [
        {
          "output_type": "stream",
          "name": "stdout",
          "text": [
            "RangeIndex(start=0, stop=5, step=1)\n"
          ]
        }
      ]
    },
    {
      "cell_type": "markdown",
      "source": [
        "My own example 139"
      ],
      "metadata": {
        "id": "He5Y2GruOgdY"
      }
    },
    {
      "cell_type": "code",
      "source": [
        "new_index = pd.date_range(\"2022-01-01\", periods=len(s), freq=\"D\")\n",
        "print (new_index)"
      ],
      "metadata": {
        "colab": {
          "base_uri": "https://localhost:8080/"
        },
        "id": "HvYfMl2UQdBs",
        "outputId": "c55ab0ba-627e-44bb-b362-3efcf09abc67"
      },
      "execution_count": null,
      "outputs": [
        {
          "output_type": "stream",
          "name": "stdout",
          "text": [
            "DatetimeIndex(['2022-01-01', '2022-01-02', '2022-01-03', '2022-01-04',\n",
            "               '2022-01-05'],\n",
            "              dtype='datetime64[ns]', freq='D')\n"
          ]
        }
      ]
    },
    {
      "cell_type": "markdown",
      "source": [
        "My own example 140"
      ],
      "metadata": {
        "id": "tcJQafhyOgm7"
      }
    },
    {
      "cell_type": "code",
      "source": [
        "s.index = new_index\n",
        "print (s.index)"
      ],
      "metadata": {
        "colab": {
          "base_uri": "https://localhost:8080/"
        },
        "id": "BIlWh-ftQk4h",
        "outputId": "c9dcf10a-475b-4c21-b362-381e4329ee78"
      },
      "execution_count": null,
      "outputs": [
        {
          "output_type": "stream",
          "name": "stdout",
          "text": [
            "DatetimeIndex(['2022-01-01', '2022-01-02', '2022-01-03', '2022-01-04',\n",
            "               '2022-01-05'],\n",
            "              dtype='datetime64[ns]', freq='D')\n"
          ]
        }
      ]
    },
    {
      "cell_type": "markdown",
      "source": [
        "My own example 141"
      ],
      "metadata": {
        "id": "V9cbQ9GOOgwY"
      }
    },
    {
      "cell_type": "code",
      "source": [
        "print (\"ultimo elemtno de s: \", s.iloc[4])\n",
        "print (\"Penultimo elemtno de s: \", s.iloc[len(s)-2])"
      ],
      "metadata": {
        "colab": {
          "base_uri": "https://localhost:8080/"
        },
        "id": "QXoXqXTgQoJg",
        "outputId": "2c9e0bb2-3d66-4d1d-c205-7d8366af0185"
      },
      "execution_count": null,
      "outputs": [
        {
          "output_type": "stream",
          "name": "stdout",
          "text": [
            "ultimo elemtno de s:  5.0\n",
            "Penultimo elemtno de s:  6.0\n"
          ]
        }
      ]
    },
    {
      "cell_type": "markdown",
      "source": [
        "My own example 142"
      ],
      "metadata": {
        "id": "REPpu6b1Og8J"
      }
    },
    {
      "cell_type": "code",
      "source": [
        "s.iloc[:1]"
      ],
      "metadata": {
        "colab": {
          "base_uri": "https://localhost:8080/"
        },
        "id": "A68XsJ7FQ7Ny",
        "outputId": "0173acf8-ea55-4d20-c079-af36f2508ed8"
      },
      "execution_count": null,
      "outputs": [
        {
          "output_type": "execute_result",
          "data": {
            "text/plain": [
              "2022-01-01    2.0\n",
              "Freq: D, Name: Nombre de s, dtype: float64"
            ]
          },
          "metadata": {},
          "execution_count": 183
        }
      ]
    },
    {
      "cell_type": "markdown",
      "source": [
        "My own example 143"
      ],
      "metadata": {
        "id": "4wSd_Dd_OhGH"
      }
    },
    {
      "cell_type": "code",
      "source": [
        "start = 0\n",
        "end = len(s) - 2\n",
        "step = 1\n",
        "\n",
        "s.iloc[start:end:step]"
      ],
      "metadata": {
        "colab": {
          "base_uri": "https://localhost:8080/"
        },
        "id": "oLFFMMl2Q9YS",
        "outputId": "346d99ec-52e7-4792-f154-a64134cded8a"
      },
      "execution_count": null,
      "outputs": [
        {
          "output_type": "execute_result",
          "data": {
            "text/plain": [
              "2022-01-01    2.0\n",
              "2022-01-02    4.0\n",
              "2022-01-03    NaN\n",
              "Freq: D, Name: Nombre de s, dtype: float64"
            ]
          },
          "metadata": {},
          "execution_count": 185
        }
      ]
    },
    {
      "cell_type": "markdown",
      "source": [
        "My own example 144"
      ],
      "metadata": {
        "id": "-8imtkyqOhPN"
      }
    },
    {
      "cell_type": "code",
      "source": [
        "s.iloc[::-1]"
      ],
      "metadata": {
        "colab": {
          "base_uri": "https://localhost:8080/"
        },
        "id": "XJaDLa-YRB1t",
        "outputId": "1cd4fd4e-2ca4-4cf8-e5d2-02a4ab177560"
      },
      "execution_count": null,
      "outputs": [
        {
          "output_type": "execute_result",
          "data": {
            "text/plain": [
              "2022-01-05    5.0\n",
              "2022-01-04    6.0\n",
              "2022-01-03    NaN\n",
              "2022-01-02    4.0\n",
              "2022-01-01    2.0\n",
              "Freq: -1D, Name: Nombre de s, dtype: float64"
            ]
          },
          "metadata": {},
          "execution_count": 186
        }
      ]
    },
    {
      "cell_type": "markdown",
      "source": [
        "My own example 145"
      ],
      "metadata": {
        "id": "XbL8fpK5OhY1"
      }
    },
    {
      "cell_type": "code",
      "source": [
        "s.iloc[2:-4:1]"
      ],
      "metadata": {
        "colab": {
          "base_uri": "https://localhost:8080/"
        },
        "id": "sRLXIyPrRD2p",
        "outputId": "07c6b788-a1e9-4716-caa6-69148f53c283"
      },
      "execution_count": null,
      "outputs": [
        {
          "output_type": "execute_result",
          "data": {
            "text/plain": [
              "Series([], Freq: D, Name: Nombre de s, dtype: float64)"
            ]
          },
          "metadata": {},
          "execution_count": 187
        }
      ]
    },
    {
      "cell_type": "markdown",
      "source": [
        "My own example 146"
      ],
      "metadata": {
        "id": "y3faifFmOhhr"
      }
    },
    {
      "cell_type": "code",
      "source": [
        "s.loc['2022-01-01']"
      ],
      "metadata": {
        "colab": {
          "base_uri": "https://localhost:8080/"
        },
        "id": "bhDve33TRG6q",
        "outputId": "c50e823d-122d-4be0-df6e-17c84af6617b"
      },
      "execution_count": null,
      "outputs": [
        {
          "output_type": "execute_result",
          "data": {
            "text/plain": [
              "2.0"
            ]
          },
          "metadata": {},
          "execution_count": 192
        }
      ]
    },
    {
      "cell_type": "markdown",
      "source": [
        "My own example 147"
      ],
      "metadata": {
        "id": "c6CCWMBQOhqf"
      }
    },
    {
      "cell_type": "code",
      "source": [
        "s.loc['2012-01-02':'2012-01-04']"
      ],
      "metadata": {
        "colab": {
          "base_uri": "https://localhost:8080/"
        },
        "id": "FD3cJnpDRSSn",
        "outputId": "cb3c4b14-29c9-49da-d7fa-a5f0550e441e"
      },
      "execution_count": null,
      "outputs": [
        {
          "output_type": "execute_result",
          "data": {
            "text/plain": [
              "Series([], Freq: D, Name: Nombre de s, dtype: float64)"
            ]
          },
          "metadata": {},
          "execution_count": 193
        }
      ]
    },
    {
      "cell_type": "markdown",
      "source": [
        "My own example 148"
      ],
      "metadata": {
        "id": "ElIz5cFyOhzX"
      }
    },
    {
      "cell_type": "code",
      "source": [
        "print (s < 4)"
      ],
      "metadata": {
        "colab": {
          "base_uri": "https://localhost:8080/"
        },
        "id": "E5aBI8GZRVyg",
        "outputId": "68d401b7-8eee-4150-f0c2-081b6cdb22a7"
      },
      "execution_count": null,
      "outputs": [
        {
          "output_type": "stream",
          "name": "stdout",
          "text": [
            "2022-01-01     True\n",
            "2022-01-02    False\n",
            "2022-01-03    False\n",
            "2022-01-04    False\n",
            "2022-01-05    False\n",
            "Freq: D, Name: Nombre de s, dtype: bool\n"
          ]
        }
      ]
    },
    {
      "cell_type": "markdown",
      "source": [
        "My own example 149"
      ],
      "metadata": {
        "id": "FwFuCeCXOh8G"
      }
    },
    {
      "cell_type": "code",
      "source": [
        "print (s.loc[s < 2])"
      ],
      "metadata": {
        "colab": {
          "base_uri": "https://localhost:8080/"
        },
        "id": "A5FoEO1JRaty",
        "outputId": "e9c1fc0e-616b-4929-ebdd-a4a99076f4c1"
      },
      "execution_count": null,
      "outputs": [
        {
          "output_type": "stream",
          "name": "stdout",
          "text": [
            "Series([], Freq: D, Name: Nombre de s, dtype: float64)\n"
          ]
        }
      ]
    },
    {
      "cell_type": "markdown",
      "source": [
        "My own example 150"
      ],
      "metadata": {
        "id": "UP5qqdAxOiEd"
      }
    },
    {
      "cell_type": "code",
      "source": [
        "print (s.loc[(s < 2) & (s > 1)])"
      ],
      "metadata": {
        "colab": {
          "base_uri": "https://localhost:8080/"
        },
        "id": "PfZwta5pRfVg",
        "outputId": "8b6a6962-6803-439f-97b2-0fbb3127cd2b"
      },
      "execution_count": null,
      "outputs": [
        {
          "output_type": "stream",
          "name": "stdout",
          "text": [
            "Series([], Freq: D, Name: Nombre de s, dtype: float64)\n"
          ]
        }
      ]
    },
    {
      "cell_type": "markdown",
      "source": [
        "My own example 151"
      ],
      "metadata": {
        "id": "UvVt0w1pOiM7"
      }
    },
    {
      "cell_type": "code",
      "source": [
        "calendar_dates = pd.date_range(start=start, end=end, freq='D', tz='UTC')\n",
        "print (calendar_dates)"
      ],
      "metadata": {
        "colab": {
          "base_uri": "https://localhost:8080/"
        },
        "id": "Zp1hl2RWRjkz",
        "outputId": "2f59e966-6818-4d26-f2bf-4827901f6c4e"
      },
      "execution_count": null,
      "outputs": [
        {
          "output_type": "stream",
          "name": "stdout",
          "text": [
            "DatetimeIndex(['2012-01-01 00:00:00+00:00', '2012-01-02 00:00:00+00:00',\n",
            "               '2012-01-03 00:00:00+00:00', '2012-01-04 00:00:00+00:00',\n",
            "               '2012-01-05 00:00:00+00:00', '2012-01-06 00:00:00+00:00',\n",
            "               '2012-01-07 00:00:00+00:00', '2012-01-08 00:00:00+00:00',\n",
            "               '2012-01-09 00:00:00+00:00', '2012-01-10 00:00:00+00:00',\n",
            "               ...\n",
            "               '2015-12-23 00:00:00+00:00', '2015-12-24 00:00:00+00:00',\n",
            "               '2015-12-25 00:00:00+00:00', '2015-12-26 00:00:00+00:00',\n",
            "               '2015-12-27 00:00:00+00:00', '2015-12-28 00:00:00+00:00',\n",
            "               '2015-12-29 00:00:00+00:00', '2015-12-30 00:00:00+00:00',\n",
            "               '2015-12-31 00:00:00+00:00', '2016-01-01 00:00:00+00:00'],\n",
            "              dtype='datetime64[ns, UTC]', length=1462, freq='D')\n"
          ]
        }
      ]
    },
    {
      "cell_type": "markdown",
      "source": [
        "My own example 152"
      ],
      "metadata": {
        "id": "PIZ5IJQFOiV5"
      }
    },
    {
      "cell_type": "code",
      "source": [
        "prices.plot();\n",
        "plt.title(symbol + \" Precios\")\n",
        "plt.ylabel(\"Precio\")\n",
        "plt.xlabel(\"Fecha\");"
      ],
      "metadata": {
        "colab": {
          "base_uri": "https://localhost:8080/",
          "height": 295
        },
        "id": "dH9Rk2RESPAI",
        "outputId": "bb34f615-2741-49fd-fc51-09d956749847"
      },
      "execution_count": null,
      "outputs": [
        {
          "output_type": "display_data",
          "data": {
            "text/plain": [
              "<Figure size 432x288 with 1 Axes>"
            ],
            "image/png": "[encoded data removed]"
          },
          "metadata": {
            "needs_background": "light"
          }
        }
      ]
    },
    {
      "cell_type": "markdown",
      "source": [
        "My own example 153"
      ],
      "metadata": {
        "id": "wRrlrS2QOieh"
      }
    },
    {
      "cell_type": "code",
      "source": [
        "dict_data = {\n",
        "    'a' : [0, 2, 4, 6, 5],\n",
        "    'b' : ['L', 'J', 'M', 'Z'],\n",
        "    'c' : np.random.normal(0, 1, 5)\n",
        "}\n",
        "print (dict_data)"
      ],
      "metadata": {
        "colab": {
          "base_uri": "https://localhost:8080/"
        },
        "id": "sAatzHJpSihR",
        "outputId": "de65aa2e-01b4-4d65-e66b-eddae360334c"
      },
      "execution_count": null,
      "outputs": [
        {
          "output_type": "stream",
          "name": "stdout",
          "text": [
            "{'a': [0, 2, 4, 6, 5], 'b': ['L', 'J', 'M', 'Z'], 'c': array([ 1.12685339,  0.70502061, -0.15197051,  0.45569115,  2.47635132])}\n"
          ]
        }
      ]
    },
    {
      "cell_type": "markdown",
      "source": [
        "My own example 154"
      ],
      "metadata": {
        "id": "R6KCdbUNOilj"
      }
    },
    {
      "cell_type": "code",
      "source": [
        "s_1 = pd.Series([0, 2, 4, 6, 8], name='Pares')\n",
        "s_2 = pd.Series([1, 3, 5, 7, 9], name=\"Impares\")\n",
        "numbers = pd.concat([s_1, s_2], axis=1)\n",
        "print (numbers)"
      ],
      "metadata": {
        "colab": {
          "base_uri": "https://localhost:8080/"
        },
        "id": "T7unC81MOZRO",
        "outputId": "df04d660-e111-4da0-fff4-88172d63ba64"
      },
      "execution_count": null,
      "outputs": [
        {
          "output_type": "stream",
          "name": "stdout",
          "text": [
            "   Pares  Impares\n",
            "0      0        1\n",
            "1      2        3\n",
            "2      4        5\n",
            "3      6        7\n",
            "4      8        9\n"
          ]
        }
      ]
    },
    {
      "cell_type": "markdown",
      "source": [
        "# Tutorial 4"
      ],
      "metadata": {
        "id": "IFHdDDkCTGNP"
      }
    },
    {
      "cell_type": "markdown",
      "source": [
        "My own example 155"
      ],
      "metadata": {
        "id": "MVeCf8IbTb4S"
      }
    },
    {
      "cell_type": "code",
      "source": [
        "price_list = [1433, 15.83, 13.68, 1424.02, 1413.5]\n",
        "price_array = np.array(price_list)\n",
        "print(price_array, type(price_array))"
      ],
      "metadata": {
        "colab": {
          "base_uri": "https://localhost:8080/"
        },
        "id": "Ck4u4VSlUPzx",
        "outputId": "65681b00-eeac-4561-c2a9-08e181145079"
      },
      "execution_count": null,
      "outputs": [
        {
          "output_type": "stream",
          "name": "stdout",
          "text": [
            "[1433.     15.83   13.68 1424.02 1413.5 ] <class 'numpy.ndarray'>\n"
          ]
        }
      ]
    },
    {
      "cell_type": "markdown",
      "source": [
        "My own example 156"
      ],
      "metadata": {
        "id": "kzO24QgiTeuF"
      }
    },
    {
      "cell_type": "code",
      "source": [
        "Ar = np.array([[1,4],[1,4]])\n",
        "print(Ar, type(Ar))"
      ],
      "metadata": {
        "colab": {
          "base_uri": "https://localhost:8080/"
        },
        "id": "e1axqd3kUXus",
        "outputId": "c98cfe03-e370-4a4f-8c43-d813030b45ee"
      },
      "execution_count": null,
      "outputs": [
        {
          "output_type": "stream",
          "name": "stdout",
          "text": [
            "[[1 4]\n",
            " [1 4]] <class 'numpy.ndarray'>\n"
          ]
        }
      ]
    },
    {
      "cell_type": "markdown",
      "source": [
        "My own example 157"
      ],
      "metadata": {
        "id": "Vppj1R3GTfIz"
      }
    },
    {
      "cell_type": "code",
      "source": [
        "print(Ar.shape)"
      ],
      "metadata": {
        "colab": {
          "base_uri": "https://localhost:8080/"
        },
        "id": "1WTfUwxHUbkt",
        "outputId": "a3a44bfd-7955-4d56-ae6f-900d25f3b2b5"
      },
      "execution_count": null,
      "outputs": [
        {
          "output_type": "stream",
          "name": "stdout",
          "text": [
            "(2, 2)\n"
          ]
        }
      ]
    },
    {
      "cell_type": "markdown",
      "source": [
        "My own example 158"
      ],
      "metadata": {
        "id": "SpO26ie5TfQ2"
      }
    },
    {
      "cell_type": "code",
      "source": [
        "print(Ar[1])\n",
        "print(Ar[0])"
      ],
      "metadata": {
        "colab": {
          "base_uri": "https://localhost:8080/"
        },
        "id": "gCs88mHCUgoI",
        "outputId": "77f68b17-669a-4c46-d71a-85ed39a545d4"
      },
      "execution_count": null,
      "outputs": [
        {
          "output_type": "stream",
          "name": "stdout",
          "text": [
            "[1 4]\n",
            "[1 4]\n"
          ]
        }
      ]
    },
    {
      "cell_type": "markdown",
      "source": [
        "My own example 159"
      ],
      "metadata": {
        "id": "b_6uC0THTfZo"
      }
    },
    {
      "cell_type": "code",
      "source": [
        "print('Primera columna: ', Ar[:,0])\n",
        "print('segunda columna: ', Ar[:,1])"
      ],
      "metadata": {
        "colab": {
          "base_uri": "https://localhost:8080/"
        },
        "id": "uzKHvMhMUlEA",
        "outputId": "f5163ecb-5bea-409f-a033-62ca67167bd9"
      },
      "execution_count": null,
      "outputs": [
        {
          "output_type": "stream",
          "name": "stdout",
          "text": [
            "Primera columna:  [1 1]\n",
            "segunda columna:  [4 4]\n"
          ]
        }
      ]
    },
    {
      "cell_type": "markdown",
      "source": [
        "My own example 160"
      ],
      "metadata": {
        "id": "ayzBmz-HTfid"
      }
    },
    {
      "cell_type": "code",
      "source": [
        "print(np.log(price_array))"
      ],
      "metadata": {
        "colab": {
          "base_uri": "https://localhost:8080/"
        },
        "id": "eMAxsJrgUssH",
        "outputId": "0fa17028-39a2-4c97-f1c1-57ee466fbfa0"
      },
      "execution_count": null,
      "outputs": [
        {
          "output_type": "stream",
          "name": "stdout",
          "text": [
            "[7.26752543 2.76190687 2.61593491 7.26123914 7.25382418]\n"
          ]
        }
      ]
    },
    {
      "cell_type": "markdown",
      "source": [
        "My own example 161"
      ],
      "metadata": {
        "id": "_3UC4X5TTfrY"
      }
    },
    {
      "cell_type": "code",
      "source": [
        "print(np.mean(price_array))\n",
        "print(np.std(price_array))"
      ],
      "metadata": {
        "colab": {
          "base_uri": "https://localhost:8080/"
        },
        "id": "bcl1BDR8UvZF",
        "outputId": "c78adef4-d97c-4bee-cc05-e5a3488774bb"
      },
      "execution_count": null,
      "outputs": [
        {
          "output_type": "stream",
          "name": "stdout",
          "text": [
            "860.006\n",
            "690.1724917033423\n"
          ]
        }
      ]
    },
    {
      "cell_type": "markdown",
      "source": [
        "My own example 162"
      ],
      "metadata": {
        "id": "MIT5MYJ6Tf0d"
      }
    },
    {
      "cell_type": "code",
      "source": [
        "print(np.sum(price_array))\n",
        "print(np.max(price_array))"
      ],
      "metadata": {
        "colab": {
          "base_uri": "https://localhost:8080/"
        },
        "id": "AZ_uVe2rUxOd",
        "outputId": "7fec20b7-2697-4edc-be67-c456c21d3bec"
      },
      "execution_count": null,
      "outputs": [
        {
          "output_type": "stream",
          "name": "stdout",
          "text": [
            "4300.03\n",
            "1433.0\n"
          ]
        }
      ]
    },
    {
      "cell_type": "markdown",
      "source": [
        "My own example 163"
      ],
      "metadata": {
        "id": "AasiDO3bTf8W"
      }
    },
    {
      "cell_type": "code",
      "source": [
        "price = [143.73, 14.83, 143.68, 1414.02, 143.5, 12.62]\n",
        "s = pd.Series(price)\n",
        "s"
      ],
      "metadata": {
        "colab": {
          "base_uri": "https://localhost:8080/"
        },
        "id": "8x3CuUPDU2Xx",
        "outputId": "e1305e82-b380-49ef-9a45-054617a48d3c"
      },
      "execution_count": null,
      "outputs": [
        {
          "output_type": "execute_result",
          "data": {
            "text/plain": [
              "0     143.73\n",
              "1      14.83\n",
              "2     143.68\n",
              "3    1414.02\n",
              "4     143.50\n",
              "5      12.62\n",
              "dtype: float64"
            ]
          },
          "metadata": {},
          "execution_count": 234
        }
      ]
    },
    {
      "cell_type": "markdown",
      "source": [
        "My own example 164"
      ],
      "metadata": {
        "id": "jYLYFYBUTgEK"
      }
    },
    {
      "cell_type": "code",
      "source": [
        "s = pd.Series(price,index = ['a','e','i','o','u','f'])\n",
        "s"
      ],
      "metadata": {
        "colab": {
          "base_uri": "https://localhost:8080/"
        },
        "id": "kPSAiiXrU4oY",
        "outputId": "646bc81f-fbb1-4856-eb20-2dd81eacfd6d"
      },
      "execution_count": null,
      "outputs": [
        {
          "output_type": "execute_result",
          "data": {
            "text/plain": [
              "a     143.73\n",
              "e      14.83\n",
              "i     143.68\n",
              "o    1414.02\n",
              "u     143.50\n",
              "f      12.62\n",
              "dtype: float64"
            ]
          },
          "metadata": {},
          "execution_count": 235
        }
      ]
    },
    {
      "cell_type": "markdown",
      "source": [
        "My own example 165"
      ],
      "metadata": {
        "id": "3Frv84bMTgMx"
      }
    },
    {
      "cell_type": "code",
      "source": [
        "s.index = [6,0,4,1,2,1]\n",
        "s"
      ],
      "metadata": {
        "colab": {
          "base_uri": "https://localhost:8080/"
        },
        "id": "HAV_fcn4VCrq",
        "outputId": "b178b527-a916-4003-830d-297b72fc9049"
      },
      "execution_count": null,
      "outputs": [
        {
          "output_type": "execute_result",
          "data": {
            "text/plain": [
              "6     143.73\n",
              "0      14.83\n",
              "4     143.68\n",
              "1    1414.02\n",
              "2     143.50\n",
              "1      12.62\n",
              "dtype: float64"
            ]
          },
          "metadata": {},
          "execution_count": 236
        }
      ]
    },
    {
      "cell_type": "markdown",
      "source": [
        "My own example 166"
      ],
      "metadata": {
        "id": "WbkyAxgbTgVO"
      }
    },
    {
      "cell_type": "code",
      "source": [
        "print(s[3:])"
      ],
      "metadata": {
        "colab": {
          "base_uri": "https://localhost:8080/"
        },
        "id": "frUDoSnJVG71",
        "outputId": "d164c910-6a1a-4062-db0d-dd1b4c49441a"
      },
      "execution_count": null,
      "outputs": [
        {
          "output_type": "stream",
          "name": "stdout",
          "text": [
            "1    1414.02\n",
            "2     143.50\n",
            "1      12.62\n",
            "dtype: float64\n"
          ]
        }
      ]
    },
    {
      "cell_type": "markdown",
      "source": [
        "My own example 167"
      ],
      "metadata": {
        "id": "8X_ao-AyTgdw"
      }
    },
    {
      "cell_type": "code",
      "source": [
        "print(s[:-1])"
      ],
      "metadata": {
        "colab": {
          "base_uri": "https://localhost:8080/"
        },
        "id": "606PH7ZTVJpx",
        "outputId": "bc59d7b1-52e2-463c-8b39-45784f61ce7a"
      },
      "execution_count": null,
      "outputs": [
        {
          "output_type": "stream",
          "name": "stdout",
          "text": [
            "6     143.73\n",
            "0      14.83\n",
            "4     143.68\n",
            "1    1414.02\n",
            "2     143.50\n",
            "dtype: float64\n"
          ]
        }
      ]
    },
    {
      "cell_type": "markdown",
      "source": [
        "My own example 168"
      ],
      "metadata": {
        "id": "mO2nJoZXTgmM"
      }
    },
    {
      "cell_type": "code",
      "source": [
        "print(s[4])\n",
        "s[4] = 0\n",
        "print(s)"
      ],
      "metadata": {
        "colab": {
          "base_uri": "https://localhost:8080/"
        },
        "id": "TOE-JeCxVNOb",
        "outputId": "fba6b763-b117-467a-d63c-19fd29bc63c8"
      },
      "execution_count": null,
      "outputs": [
        {
          "output_type": "stream",
          "name": "stdout",
          "text": [
            "143.68\n",
            "6     143.73\n",
            "0      14.83\n",
            "4       0.00\n",
            "1    1414.02\n",
            "2     143.50\n",
            "1      12.62\n",
            "dtype: float64\n"
          ]
        }
      ]
    },
    {
      "cell_type": "markdown",
      "source": [
        "My own example 169"
      ],
      "metadata": {
        "id": "LASzgJg1Tgua"
      }
    },
    {
      "cell_type": "code",
      "source": [
        "s = pd.Series(price, name = 'Lista de precios')\n",
        "print(s)\n",
        "print(s.name)"
      ],
      "metadata": {
        "colab": {
          "base_uri": "https://localhost:8080/"
        },
        "id": "arMHy0SZVP_V",
        "outputId": "29a7bfb7-2353-4ca3-d87d-0ecdaf1fc494"
      },
      "execution_count": null,
      "outputs": [
        {
          "output_type": "stream",
          "name": "stdout",
          "text": [
            "0     143.73\n",
            "1      14.83\n",
            "2     143.68\n",
            "3    1414.02\n",
            "4     143.50\n",
            "5      12.62\n",
            "Name: Lista de precios, dtype: float64\n",
            "Lista de precios\n"
          ]
        }
      ]
    },
    {
      "cell_type": "markdown",
      "source": [
        "My own example 170"
      ],
      "metadata": {
        "id": "js7S6dAETg23"
      }
    },
    {
      "cell_type": "code",
      "source": [
        "print(s.describe())"
      ],
      "metadata": {
        "colab": {
          "base_uri": "https://localhost:8080/"
        },
        "id": "qs2Au63iVUWU",
        "outputId": "a38abb0e-f0c9-47f2-c5c3-33b705864bde"
      },
      "execution_count": null,
      "outputs": [
        {
          "output_type": "stream",
          "name": "stdout",
          "text": [
            "count       6.000000\n",
            "mean      312.063333\n",
            "std       543.585341\n",
            "min        12.620000\n",
            "25%        46.997500\n",
            "50%       143.590000\n",
            "75%       143.717500\n",
            "max      1414.020000\n",
            "Name: Lista de precios, dtype: float64\n"
          ]
        }
      ]
    },
    {
      "cell_type": "markdown",
      "source": [
        "My own example 171"
      ],
      "metadata": {
        "id": "45Bc77HuTg-1"
      }
    },
    {
      "cell_type": "code",
      "source": [
        "time_index = pd.date_range('2017-01-01',periods = len(s),freq = 'D')\n",
        "print(time_index)"
      ],
      "metadata": {
        "colab": {
          "base_uri": "https://localhost:8080/"
        },
        "id": "P5-OUdc3VWjH",
        "outputId": "c9e697cf-0d71-47f5-9e21-1cbdad8f1c77"
      },
      "execution_count": null,
      "outputs": [
        {
          "output_type": "stream",
          "name": "stdout",
          "text": [
            "DatetimeIndex(['2017-01-01', '2017-01-02', '2017-01-03', '2017-01-04',\n",
            "               '2017-01-05', '2017-01-06'],\n",
            "              dtype='datetime64[ns]', freq='D')\n"
          ]
        }
      ]
    },
    {
      "cell_type": "markdown",
      "source": [
        "My own example 172"
      ],
      "metadata": {
        "id": "v7zKmgHuThHr"
      }
    },
    {
      "cell_type": "code",
      "source": [
        "s.index = time_index\n",
        "print(s)"
      ],
      "metadata": {
        "colab": {
          "base_uri": "https://localhost:8080/"
        },
        "id": "J3Zl1ULrVYZr",
        "outputId": "74f89229-833e-4a8d-d523-5c8d0887df70"
      },
      "execution_count": null,
      "outputs": [
        {
          "output_type": "stream",
          "name": "stdout",
          "text": [
            "2017-01-01     143.73\n",
            "2017-01-02      14.83\n",
            "2017-01-03     143.68\n",
            "2017-01-04    1414.02\n",
            "2017-01-05     143.50\n",
            "2017-01-06      12.62\n",
            "Freq: D, Name: Lista de precios, dtype: float64\n"
          ]
        }
      ]
    },
    {
      "cell_type": "markdown",
      "source": [
        "My own example 173"
      ],
      "metadata": {
        "id": "pXmgZDtiThQO"
      }
    },
    {
      "cell_type": "code",
      "source": [
        "s.index = [6,5,0,3,2,1]\n",
        "print(s)\n",
        "print(s[1])"
      ],
      "metadata": {
        "colab": {
          "base_uri": "https://localhost:8080/"
        },
        "id": "75AWe5h6VcaG",
        "outputId": "32ab8d70-1540-4e5c-95cc-f4c20352782c"
      },
      "execution_count": null,
      "outputs": [
        {
          "output_type": "stream",
          "name": "stdout",
          "text": [
            "6     143.73\n",
            "5      14.83\n",
            "0     143.68\n",
            "3    1414.02\n",
            "2     143.50\n",
            "1      12.62\n",
            "Name: Lista de precios, dtype: float64\n",
            "12.62\n"
          ]
        }
      ]
    },
    {
      "cell_type": "markdown",
      "source": [
        "My own example 174"
      ],
      "metadata": {
        "id": "bCE9SA_7ThYZ"
      }
    },
    {
      "cell_type": "code",
      "source": [
        "print(s.iloc[2])"
      ],
      "metadata": {
        "colab": {
          "base_uri": "https://localhost:8080/"
        },
        "id": "QM5lOZp9Vhr_",
        "outputId": "a092d1db-6b6e-4587-cc89-6dd9f986b1bd"
      },
      "execution_count": null,
      "outputs": [
        {
          "output_type": "stream",
          "name": "stdout",
          "text": [
            "143.68\n"
          ]
        }
      ]
    },
    {
      "cell_type": "markdown",
      "source": [
        "My own example 175"
      ],
      "metadata": {
        "id": "lHShzWhIThfr"
      }
    },
    {
      "cell_type": "code",
      "source": [
        "s.index = time_index\n",
        "print(s['2017-01-03'])"
      ],
      "metadata": {
        "colab": {
          "base_uri": "https://localhost:8080/"
        },
        "id": "tJB7Fq43Vkzp",
        "outputId": "6ca131e8-8e7d-4379-9562-f338389881d3"
      },
      "execution_count": null,
      "outputs": [
        {
          "output_type": "stream",
          "name": "stdout",
          "text": [
            "143.68\n"
          ]
        }
      ]
    },
    {
      "cell_type": "markdown",
      "source": [
        "My own example 176"
      ],
      "metadata": {
        "id": "ZFh68K5MThlP"
      }
    },
    {
      "cell_type": "code",
      "source": [
        "print(s[s < np.mean(s)] )\n",
        "print([(s > np.mean(s)) & (s < np.mean(s) + 1.4*np.std(s))])"
      ],
      "metadata": {
        "colab": {
          "base_uri": "https://localhost:8080/"
        },
        "id": "nfIo_Yz2TIcR",
        "outputId": "c088b975-aea4-4135-866a-21145997a701"
      },
      "execution_count": null,
      "outputs": [
        {
          "output_type": "stream",
          "name": "stdout",
          "text": [
            "2017-01-01    143.73\n",
            "2017-01-02     14.83\n",
            "2017-01-03    143.68\n",
            "2017-01-05    143.50\n",
            "2017-01-06     12.62\n",
            "Name: Lista de precios, dtype: float64\n",
            "[2017-01-01    False\n",
            "2017-01-02    False\n",
            "2017-01-03    False\n",
            "2017-01-04    False\n",
            "2017-01-05    False\n",
            "2017-01-06    False\n",
            "Freq: D, Name: Lista de precios, dtype: bool]\n"
          ]
        }
      ]
    },
    {
      "cell_type": "markdown",
      "source": [
        "# Tutorial 5"
      ],
      "metadata": {
        "id": "FOctr1qcVqBC"
      }
    },
    {
      "cell_type": "markdown",
      "source": [
        "My own example 177"
      ],
      "metadata": {
        "id": "BRSExTn8VvmE"
      }
    },
    {
      "cell_type": "code",
      "source": [
        "aapl = yf.Ticker(\"AAPL\")\n",
        "\n",
        "# get stock info\n",
        "print(aapl.info)"
      ],
      "metadata": {
        "colab": {
          "base_uri": "https://localhost:8080/"
        },
        "id": "F2iDuPPTWiqc",
        "outputId": "bd161bde-a36c-4f1b-884c-0ab3e21cefa2"
      },
      "execution_count": null,
      "outputs": [
        {
          "output_type": "stream",
          "name": "stdout",
          "text": [
            "{'zip': '95014', 'sector': 'Technology', 'fullTimeEmployees': 154000, 'longBusinessSummary': 'Apple Inc. designs, manufactures, and markets smartphones, personal computers, tablets, wearables, and accessories worldwide. It also sells various related services. In addition, the company offers iPhone, a line of smartphones; Mac, a line of personal computers; iPad, a line of multi-purpose tablets; AirPods Max, an over-ear wireless headphone; and wearables, home, and accessories comprising AirPods, Apple TV, Apple Watch, Beats products, HomePod, and iPod touch. Further, it provides AppleCare support services; cloud services store services; and operates various platforms, including the App Store that allow customers to discover and download applications and digital content, such as books, music, video, games, and podcasts. Additionally, the company offers various services, such as Apple Arcade, a game subscription service; Apple Music, which offers users a curated listening experience with on-demand radio stations; Apple News+, a subscription news and magazine service; Apple TV+, which offers exclusive original content; Apple Card, a co-branded credit card; and Apple Pay, a cashless payment service, as well as licenses its intellectual property. The company serves consumers, and small and mid-sized businesses; and the education, enterprise, and government markets. It distributes third-party applications for its products through the App Store. The company also sells its products through its retail and online stores, and direct sales force; and third-party cellular network carriers, wholesalers, retailers, and resellers. Apple Inc. was incorporated in 1977 and is headquartered in Cupertino, California.', 'city': 'Cupertino', 'phone': '408 996 1010', 'state': 'CA', 'country': 'United States', 'companyOfficers': [], 'website': 'https://www.apple.com', 'maxAge': 1, 'address1': 'One Apple Park Way', 'industry': 'Consumer Electronics', 'ebitdaMargins': 0.3343, 'profitMargins': 0.25709, 'grossMargins': 0.43313998, 'operatingCashflow': 118224003072, 'revenueGrowth': 0.019, 'operatingMargins': 0.30533, 'ebitda': 129556996096, 'targetLowPrice': 130, 'recommendationKey': 'buy', 'grossProfits': 152836000000, 'freeCashflow': 83344621568, 'targetMedianPrice': 185, 'currentPrice': 163.43, 'earningsGrowth': -0.077, 'currentRatio': 0.865, 'returnOnAssets': 0.22204, 'numberOfAnalystOpinions': 44, 'targetMeanPrice': 182.81, 'debtToEquity': 205.984, 'returnOnEquity': 1.62816, 'targetHighPrice': 220, 'totalCash': 48230998016, 'totalDebt': 119691001856, 'totalRevenue': 387541991424, 'totalCashPerShare': 3.001, 'financialCurrency': 'USD', 'revenuePerShare': 23.732, 'quickRatio': 0.697, 'recommendationMean': 1.9, 'exchange': 'NMS', 'shortName': 'Apple Inc.', 'longName': 'Apple Inc.', 'exchangeTimezoneName': 'America/New_York', 'exchangeTimezoneShortName': 'EDT', 'isEsgPopulated': False, 'gmtOffSetMilliseconds': '-14400000', 'quoteType': 'EQUITY', 'symbol': 'AAPL', 'messageBoardId': 'finmb_24937', 'market': 'us_market', 'annualHoldingsTurnover': None, 'enterpriseToRevenue': 6.735, 'beta3Year': None, 'enterpriseToEbitda': 20.146, '52WeekChange': 0.062449336, 'morningStarRiskRating': None, 'forwardEps': 6.46, 'revenueQuarterlyGrowth': None, 'sharesOutstanding': 16070800384, 'fundInceptionDate': None, 'annualReportExpenseRatio': None, 'totalAssets': None, 'bookValue': 3.61, 'sharesShort': 115400891, 'sharesPercentSharesOut': 0.0072000003, 'fundFamily': None, 'lastFiscalYearEnd': 1632528000, 'heldPercentInstitutions': 0.59784, 'netIncomeToCommon': 99632996352, 'trailingEps': 6.05, 'lastDividendValue': 0.23, 'SandP52WeekChange': -0.08455676, 'priceToBook': 45.27147, 'heldPercentInsiders': 0.00068999996, 'nextFiscalYearEnd': 1695600000, 'yield': None, 'mostRecentQuarter': 1656115200, 'shortRatio': 1.69, 'sharesShortPreviousMonthDate': 1657843200, 'floatShares': 16054038418, 'beta': 1.230174, 'enterpriseValue': 2609996103680, 'priceHint': 2, 'threeYearAverageReturn': None, 'lastSplitDate': 1598832000, 'lastSplitFactor': '4:1', 'legalType': None, 'lastDividendDate': 1659657600, 'morningStarOverallRating': None, 'earningsQuarterlyGrowth': -0.106, 'priceToSalesTrailing12Months': 6.7772036, 'dateShortInterest': 1660521600, 'pegRatio': 2.67, 'ytdReturn': None, 'forwardPE': 25.29876, 'lastCapGain': None, 'shortPercentOfFloat': 0.0072000003, 'sharesShortPriorMonth': 104993162, 'impliedSharesOutstanding': 0, 'category': None, 'fiveYearAverageReturn': None, 'previousClose': 157.37, 'regularMarketOpen': 159.59, 'twoHundredDayAverage': 161.03545, 'trailingAnnualDividendYield': 0.005655462, 'payoutRatio': 0.1471, 'volume24Hr': None, 'regularMarketDayHigh': 164.26, 'navPrice': None, 'averageDailyVolume10Day': 78342440, 'regularMarketPreviousClose': 157.37, 'fiftyDayAverage': 158.0916, 'trailingAnnualDividendRate': 0.89, 'open': 159.59, 'toCurrency': None, 'averageVolume10days': 78342440, 'expireDate': None, 'algorithm': None, 'dividendRate': 0.92, 'exDividendDate': 1659657600, 'circulatingSupply': None, 'startDate': None, 'regularMarketDayLow': 159.41, 'currency': 'USD', 'trailingPE': 27.013222, 'regularMarketVolume': 104955962, 'lastMarket': None, 'maxSupply': None, 'openInterest': None, 'marketCap': 2626450882560, 'volumeAllCurrencies': None, 'strikePrice': None, 'averageVolume': 73115362, 'dayLow': 159.41, 'ask': 0, 'askSize': 800, 'volume': 104955962, 'fiftyTwoWeekHigh': 182.94, 'fromCurrency': None, 'fiveYearAvgDividendYield': 1.03, 'fiftyTwoWeekLow': 129.04, 'bid': 0, 'tradeable': False, 'dividendYield': 0.0058, 'bidSize': 900, 'dayHigh': 164.26, 'coinMarketCapLink': None, 'regularMarketPrice': 163.43, 'preMarketPrice': None, 'logo_url': 'https://logo.clearbit.com/apple.com', 'trailingPegRatio': 2.8299}\n"
          ]
        }
      ]
    },
    {
      "cell_type": "markdown",
      "source": [
        "My own example 178"
      ],
      "metadata": {
        "id": "m_5RSDTTVy47"
      }
    },
    {
      "cell_type": "code",
      "source": [
        "aapl_table = aapl.history(start=\"2016-01-01\",  end=\"2017-12-31\")\n",
        "aapl_table"
      ],
      "metadata": {
        "colab": {
          "base_uri": "https://localhost:8080/",
          "height": 690
        },
        "id": "du3LOSzCXLPE",
        "outputId": "f6a6945a-37a0-4eaf-c1c4-6ea530d7122c"
      },
      "execution_count": null,
      "outputs": [
        {
          "output_type": "execute_result",
          "data": {
            "text/plain": [
              "                 Open       High        Low      Close     Volume  Dividends  \\\n",
              "Date                                                                           \n",
              "2016-01-04  23.523354  24.156085  23.383511  24.151499  270597600        0.0   \n",
              "2016-01-05  24.243200  24.266125  23.477506  23.546280  223164000        0.0   \n",
              "2016-01-06  23.053383  23.468327  22.895202  23.085478  273829600        0.0   \n",
              "2016-01-07  22.622394  22.954806  22.106582  22.111166  324377600        0.0   \n",
              "2016-01-08  22.592595  22.720974  22.182237  22.228086  283192000        0.0   \n",
              "...               ...        ...        ...        ...        ...        ...   \n",
              "2017-12-22  41.594672  41.770882  41.551813  41.673252   65397600        0.0   \n",
              "2017-12-26  40.670775  40.830315  40.404079  40.616009  132742000        0.0   \n",
              "2017-12-27  40.504086  40.666006  40.411220  40.623146   85992800        0.0   \n",
              "2017-12-28  40.718392  40.920795  40.594569  40.737442   65920800        0.0   \n",
              "2017-12-29  40.604097  40.620763  40.294541  40.296921  103999600        0.0   \n",
              "\n",
              "            Stock Splits  \n",
              "Date                      \n",
              "2016-01-04             0  \n",
              "2016-01-05             0  \n",
              "2016-01-06             0  \n",
              "2016-01-07             0  \n",
              "2016-01-08             0  \n",
              "...                  ...  \n",
              "2017-12-22             0  \n",
              "2017-12-26             0  \n",
              "2017-12-27             0  \n",
              "2017-12-28             0  \n",
              "2017-12-29             0  \n",
              "\n",
              "[503 rows x 7 columns]"
            ],
            "text/html": [
              "\n",
              "  <div id=\"df-ccc34e87-cc57-4e55-8b8a-b4ead1b9e9b2\">\n",
              "    <div class=\"colab-df-container\">\n",
              "      <div>\n",
              "<style scoped>\n",
              "    .dataframe tbody tr th:only-of-type {\n",
              "        vertical-align: middle;\n",
              "    }\n",
              "\n",
              "    .dataframe tbody tr th {\n",
              "        vertical-align: top;\n",
              "    }\n",
              "\n",
              "    .dataframe thead th {\n",
              "        text-align: right;\n",
              "    }\n",
              "</style>\n",
              "<table border=\"1\" class=\"dataframe\">\n",
              "  <thead>\n",
              "    <tr style=\"text-align: right;\">\n",
              "      <th></th>\n",
              "      <th>Open</th>\n",
              "      <th>High</th>\n",
              "      <th>Low</th>\n",
              "      <th>Close</th>\n",
              "      <th>Volume</th>\n",
              "      <th>Dividends</th>\n",
              "      <th>Stock Splits</th>\n",
              "    </tr>\n",
              "    <tr>\n",
              "      <th>Date</th>\n",
              "      <th></th>\n",
              "      <th></th>\n",
              "      <th></th>\n",
              "      <th></th>\n",
              "      <th></th>\n",
              "      <th></th>\n",
              "      <th></th>\n",
              "    </tr>\n",
              "  </thead>\n",
              "  <tbody>\n",
              "    <tr>\n",
              "      <th>2016-01-04</th>\n",
              "      <td>23.523354</td>\n",
              "      <td>24.156085</td>\n",
              "      <td>23.383511</td>\n",
              "      <td>24.151499</td>\n",
              "      <td>270597600</td>\n",
              "      <td>0.0</td>\n",
              "      <td>0</td>\n",
              "    </tr>\n",
              "    <tr>\n",
              "      <th>2016-01-05</th>\n",
              "      <td>24.243200</td>\n",
              "      <td>24.266125</td>\n",
              "      <td>23.477506</td>\n",
              "      <td>23.546280</td>\n",
              "      <td>223164000</td>\n",
              "      <td>0.0</td>\n",
              "      <td>0</td>\n",
              "    </tr>\n",
              "    <tr>\n",
              "      <th>2016-01-06</th>\n",
              "      <td>23.053383</td>\n",
              "      <td>23.468327</td>\n",
              "      <td>22.895202</td>\n",
              "      <td>23.085478</td>\n",
              "      <td>273829600</td>\n",
              "      <td>0.0</td>\n",
              "      <td>0</td>\n",
              "    </tr>\n",
              "    <tr>\n",
              "      <th>2016-01-07</th>\n",
              "      <td>22.622394</td>\n",
              "      <td>22.954806</td>\n",
              "      <td>22.106582</td>\n",
              "      <td>22.111166</td>\n",
              "      <td>324377600</td>\n",
              "      <td>0.0</td>\n",
              "      <td>0</td>\n",
              "    </tr>\n",
              "    <tr>\n",
              "      <th>2016-01-08</th>\n",
              "      <td>22.592595</td>\n",
              "      <td>22.720974</td>\n",
              "      <td>22.182237</td>\n",
              "      <td>22.228086</td>\n",
              "      <td>283192000</td>\n",
              "      <td>0.0</td>\n",
              "      <td>0</td>\n",
              "    </tr>\n",
              "    <tr>\n",
              "      <th>...</th>\n",
              "      <td>...</td>\n",
              "      <td>...</td>\n",
              "      <td>...</td>\n",
              "      <td>...</td>\n",
              "      <td>...</td>\n",
              "      <td>...</td>\n",
              "      <td>...</td>\n",
              "    </tr>\n",
              "    <tr>\n",
              "      <th>2017-12-22</th>\n",
              "      <td>41.594672</td>\n",
              "      <td>41.770882</td>\n",
              "      <td>41.551813</td>\n",
              "      <td>41.673252</td>\n",
              "      <td>65397600</td>\n",
              "      <td>0.0</td>\n",
              "      <td>0</td>\n",
              "    </tr>\n",
              "    <tr>\n",
              "      <th>2017-12-26</th>\n",
              "      <td>40.670775</td>\n",
              "      <td>40.830315</td>\n",
              "      <td>40.404079</td>\n",
              "      <td>40.616009</td>\n",
              "      <td>132742000</td>\n",
              "      <td>0.0</td>\n",
              "      <td>0</td>\n",
              "    </tr>\n",
              "    <tr>\n",
              "      <th>2017-12-27</th>\n",
              "      <td>40.504086</td>\n",
              "      <td>40.666006</td>\n",
              "      <td>40.411220</td>\n",
              "      <td>40.623146</td>\n",
              "      <td>85992800</td>\n",
              "      <td>0.0</td>\n",
              "      <td>0</td>\n",
              "    </tr>\n",
              "    <tr>\n",
              "      <th>2017-12-28</th>\n",
              "      <td>40.718392</td>\n",
              "      <td>40.920795</td>\n",
              "      <td>40.594569</td>\n",
              "      <td>40.737442</td>\n",
              "      <td>65920800</td>\n",
              "      <td>0.0</td>\n",
              "      <td>0</td>\n",
              "    </tr>\n",
              "    <tr>\n",
              "      <th>2017-12-29</th>\n",
              "      <td>40.604097</td>\n",
              "      <td>40.620763</td>\n",
              "      <td>40.294541</td>\n",
              "      <td>40.296921</td>\n",
              "      <td>103999600</td>\n",
              "      <td>0.0</td>\n",
              "      <td>0</td>\n",
              "    </tr>\n",
              "  </tbody>\n",
              "</table>\n",
              "<p>503 rows × 7 columns</p>\n",
              "</div>\n",
              "      <button class=\"colab-df-convert\" onclick=\"convertToInteractive('df-ccc34e87-cc57-4e55-8b8a-b4ead1b9e9b2')\"\n",
              "              title=\"Convert this dataframe to an interactive table.\"\n",
              "              style=\"display:none;\">\n",
              "        \n",
              "  <svg xmlns=\"http://www.w3.org/2000/svg\" height=\"24px\"viewBox=\"0 0 24 24\"\n",
              "       width=\"24px\">\n",
              "    <path d=\"M0 0h24v24H0V0z\" fill=\"none\"/>\n",
              "    <path d=\"M18.56 5.44l.94 2.06.94-2.06 2.06-.94-2.06-.94-.94-2.06-.94 2.06-2.06.94zm-11 1L8.5 8.5l.94-2.06 2.06-.94-2.06-.94L8.5 2.5l-.94 2.06-2.06.94zm10 10l.94 2.06.94-2.06 2.06-.94-2.06-.94-.94-2.06-.94 2.06-2.06.94z\"/><path d=\"M17.41 7.96l-1.37-1.37c-.4-.4-.92-.59-1.43-.59-.52 0-1.04.2-1.43.59L10.3 9.45l-7.72 7.72c-.78.78-.78 2.05 0 2.83L4 21.41c.39.39.9.59 1.41.59.51 0 1.02-.2 1.41-.59l7.78-7.78 2.81-2.81c.8-.78.8-2.07 0-2.86zM5.41 20L4 18.59l7.72-7.72 1.47 1.35L5.41 20z\"/>\n",
              "  </svg>\n",
              "      </button>\n",
              "      \n",
              "  <style>\n",
              "    .colab-df-container {\n",
              "      display:flex;\n",
              "      flex-wrap:wrap;\n",
              "      gap: 12px;\n",
              "    }\n",
              "\n",
              "    .colab-df-convert {\n",
              "      background-color: #E8F0FE;\n",
              "      border: none;\n",
              "      border-radius: 50%;\n",
              "      cursor: pointer;\n",
              "      display: none;\n",
              "      fill: #1967D2;\n",
              "      height: 32px;\n",
              "      padding: 0 0 0 0;\n",
              "      width: 32px;\n",
              "    }\n",
              "\n",
              "    .colab-df-convert:hover {\n",
              "      background-color: #E2EBFA;\n",
              "      box-shadow: 0px 1px 2px rgba(60, 64, 67, 0.3), 0px 1px 3px 1px rgba(60, 64, 67, 0.15);\n",
              "      fill: #174EA6;\n",
              "    }\n",
              "\n",
              "    [theme=dark] .colab-df-convert {\n",
              "      background-color: #3B4455;\n",
              "      fill: #D2E3FC;\n",
              "    }\n",
              "\n",
              "    [theme=dark] .colab-df-convert:hover {\n",
              "      background-color: #434B5C;\n",
              "      box-shadow: 0px 1px 3px 1px rgba(0, 0, 0, 0.15);\n",
              "      filter: drop-shadow(0px 1px 2px rgba(0, 0, 0, 0.3));\n",
              "      fill: #FFFFFF;\n",
              "    }\n",
              "  </style>\n",
              "\n",
              "      <script>\n",
              "        const buttonEl =\n",
              "          document.querySelector('#df-ccc34e87-cc57-4e55-8b8a-b4ead1b9e9b2 button.colab-df-convert');\n",
              "        buttonEl.style.display =\n",
              "          google.colab.kernel.accessAllowed ? 'block' : 'none';\n",
              "\n",
              "        async function convertToInteractive(key) {\n",
              "          const element = document.querySelector('#df-ccc34e87-cc57-4e55-8b8a-b4ead1b9e9b2');\n",
              "          const dataTable =\n",
              "            await google.colab.kernel.invokeFunction('convertToInteractive',\n",
              "                                                     [key], {});\n",
              "          if (!dataTable) return;\n",
              "\n",
              "          const docLinkHtml = 'Like what you see? Visit the ' +\n",
              "            '<a target=\"_blank\" href=https://colab.research.google.com/notebooks/data_table.ipynb>data table notebook</a>'\n",
              "            + ' to learn more about interactive tables.';\n",
              "          element.innerHTML = '';\n",
              "          dataTable['output_type'] = 'display_data';\n",
              "          await google.colab.output.renderOutput(dataTable, element);\n",
              "          const docLink = document.createElement('div');\n",
              "          docLink.innerHTML = docLinkHtml;\n",
              "          element.appendChild(docLink);\n",
              "        }\n",
              "      </script>\n",
              "    </div>\n",
              "  </div>\n",
              "  "
            ]
          },
          "metadata": {},
          "execution_count": 258
        }
      ]
    },
    {
      "cell_type": "markdown",
      "source": [
        "My own example 179"
      ],
      "metadata": {
        "id": "PRp_R-LAVzLD"
      }
    },
    {
      "cell_type": "code",
      "source": [
        "aapl = aapl_table['Close']['2017']\n",
        "print(aapl)"
      ],
      "metadata": {
        "colab": {
          "base_uri": "https://localhost:8080/"
        },
        "id": "CR5HxHC4YOkO",
        "outputId": "c2fdc5e4-41dc-4199-900b-1606e98e23a9"
      },
      "execution_count": null,
      "outputs": [
        {
          "output_type": "stream",
          "name": "stdout",
          "text": [
            "Date\n",
            "2017-01-03    27.219833\n",
            "2017-01-04    27.189363\n",
            "2017-01-05    27.327637\n",
            "2017-01-06    27.632294\n",
            "2017-01-09    27.885391\n",
            "                ...    \n",
            "2017-12-22    41.673252\n",
            "2017-12-26    40.616009\n",
            "2017-12-27    40.623146\n",
            "2017-12-28    40.737442\n",
            "2017-12-29    40.296921\n",
            "Name: Close, Length: 251, dtype: float64\n"
          ]
        }
      ]
    },
    {
      "cell_type": "markdown",
      "source": [
        "My own example 180"
      ],
      "metadata": {
        "id": "k1vfoMh2VzWn"
      }
    },
    {
      "cell_type": "code",
      "source": [
        "print(aapl['2017-3'])"
      ],
      "metadata": {
        "colab": {
          "base_uri": "https://localhost:8080/"
        },
        "id": "fXOBGO5OYUM8",
        "outputId": "4c68969c-0e9b-4b42-a359-b9746a4cc890"
      },
      "execution_count": null,
      "outputs": [
        {
          "output_type": "stream",
          "name": "stdout",
          "text": [
            "Date\n",
            "2017-03-01    32.901909\n",
            "2017-03-02    32.706573\n",
            "2017-03-03    32.899555\n",
            "2017-03-06    32.796009\n",
            "2017-03-07    32.838375\n",
            "2017-03-08    32.715977\n",
            "2017-03-09    32.640663\n",
            "2017-03-10    32.748928\n",
            "2017-03-13    32.763054\n",
            "2017-03-14    32.713634\n",
            "2017-03-15    33.059612\n",
            "2017-03-16    33.113739\n",
            "2017-03-17    32.948990\n",
            "2017-03-20    33.294987\n",
            "2017-03-21    32.913681\n",
            "2017-03-22    33.285568\n",
            "2017-03-23    33.167885\n",
            "2017-03-24    33.101978\n",
            "2017-03-27    33.158470\n",
            "2017-03-28    33.845741\n",
            "2017-03-29    33.921055\n",
            "2017-03-30    33.876335\n",
            "2017-03-31    33.812794\n",
            "Name: Close, dtype: float64\n"
          ]
        }
      ]
    },
    {
      "cell_type": "markdown",
      "source": [
        "My own example 181"
      ],
      "metadata": {
        "id": "UX_rcU1dVzjx"
      }
    },
    {
      "cell_type": "code",
      "source": [
        "aapl['2017-2':'2017-4']\n",
        "print(aapl.head(5))\n",
        "print(aapl.tail(10))"
      ],
      "metadata": {
        "colab": {
          "base_uri": "https://localhost:8080/"
        },
        "id": "6E14q4_KYWk3",
        "outputId": "294b60b4-e7b3-4411-ba12-90b8187471b1"
      },
      "execution_count": null,
      "outputs": [
        {
          "output_type": "stream",
          "name": "stdout",
          "text": [
            "Date\n",
            "2017-01-03    27.219833\n",
            "2017-01-04    27.189363\n",
            "2017-01-05    27.327637\n",
            "2017-01-06    27.632294\n",
            "2017-01-09    27.885391\n",
            "Name: Close, dtype: float64\n",
            "Date\n",
            "2017-12-15    41.425617\n",
            "2017-12-18    42.009010\n",
            "2017-12-19    41.561340\n",
            "2017-12-20    41.516098\n",
            "2017-12-21    41.673252\n",
            "2017-12-22    41.673252\n",
            "2017-12-26    40.616009\n",
            "2017-12-27    40.623146\n",
            "2017-12-28    40.737442\n",
            "2017-12-29    40.296921\n",
            "Name: Close, dtype: float64\n"
          ]
        }
      ]
    },
    {
      "cell_type": "markdown",
      "source": [
        "My own example 182"
      ],
      "metadata": {
        "id": "Sm47mWQLVztJ"
      }
    },
    {
      "cell_type": "code",
      "source": [
        "by_month = aapl.resample('M').mean()\n",
        "print(by_month)"
      ],
      "metadata": {
        "colab": {
          "base_uri": "https://localhost:8080/"
        },
        "id": "vQECkeydYcRx",
        "outputId": "ea1a7595-7c9e-49a0-aa6f-99b3b778608a"
      },
      "execution_count": null,
      "outputs": [
        {
          "output_type": "stream",
          "name": "stdout",
          "text": [
            "Date\n",
            "2017-01-31    28.021313\n",
            "2017-02-28    31.430157\n",
            "2017-03-31    33.096761\n",
            "2017-04-30    33.630811\n",
            "2017-05-31    35.924380\n",
            "2017-06-30    34.938204\n",
            "2017-07-31    35.048842\n",
            "2017-08-31    37.686053\n",
            "2017-09-30    37.395191\n",
            "2017-10-31    37.444728\n",
            "2017-11-30    41.004147\n",
            "2017-12-31    40.930681\n",
            "Freq: M, Name: Close, dtype: float64\n"
          ]
        }
      ]
    },
    {
      "cell_type": "markdown",
      "source": [
        "My own example 183"
      ],
      "metadata": {
        "id": "rq-hiGGQVz2y"
      }
    },
    {
      "cell_type": "code",
      "source": [
        "by_week = aapl.resample('W').mean()\n",
        "print(by_week.head())"
      ],
      "metadata": {
        "colab": {
          "base_uri": "https://localhost:8080/"
        },
        "id": "JmHSZjjWYeO5",
        "outputId": "cad8457b-9994-4fed-c757-f89cd514ef4d"
      },
      "execution_count": null,
      "outputs": [
        {
          "output_type": "stream",
          "name": "stdout",
          "text": [
            "Date\n",
            "2017-01-08    27.342282\n",
            "2017-01-15    27.941166\n",
            "2017-01-22    28.108608\n",
            "2017-01-29    28.394870\n",
            "2017-02-05    29.497252\n",
            "Freq: W-SUN, Name: Close, dtype: float64\n"
          ]
        }
      ]
    },
    {
      "cell_type": "markdown",
      "source": [
        "My own example 184"
      ],
      "metadata": {
        "id": "QFdXJfepV0Ai"
      }
    },
    {
      "cell_type": "code",
      "source": [
        "aapl.resample('M').max()"
      ],
      "metadata": {
        "colab": {
          "base_uri": "https://localhost:8080/"
        },
        "id": "xNC3nuY1Yf02",
        "outputId": "0e044bed-575e-4696-9038-c6964b2de2f2"
      },
      "execution_count": null,
      "outputs": [
        {
          "output_type": "execute_result",
          "data": {
            "text/plain": [
              "Date\n",
              "2017-01-31    28.579071\n",
              "2017-02-28    32.271137\n",
              "2017-03-31    33.921055\n",
              "2017-04-30    34.074043\n",
              "2017-05-31    36.892403\n",
              "2017-06-30    36.738785\n",
              "2017-07-31    36.268467\n",
              "2017-08-31    38.911678\n",
              "2017-09-30    38.923542\n",
              "2017-10-31    40.107510\n",
              "2017-11-30    41.815819\n",
              "2017-12-31    42.009010\n",
              "Freq: M, Name: Close, dtype: float64"
            ]
          },
          "metadata": {},
          "execution_count": 265
        }
      ]
    },
    {
      "cell_type": "markdown",
      "source": [
        "My own example 185"
      ],
      "metadata": {
        "id": "SFSp_ZxmV0JO"
      }
    },
    {
      "cell_type": "code",
      "source": [
        "three_day = aapl.resample('3D').mean()\n",
        "two_week = aapl.resample('2W').mean()\n",
        "two_month = aapl.resample('2M').mean()\n",
        "\n",
        "\n",
        "print(three_day)\n",
        "print(two_week)\n",
        "print(two_month )"
      ],
      "metadata": {
        "colab": {
          "base_uri": "https://localhost:8080/"
        },
        "id": "351ZhxadYiLi",
        "outputId": "742787a7-459f-427b-b835-97bffc67a293"
      },
      "execution_count": null,
      "outputs": [
        {
          "output_type": "stream",
          "name": "stdout",
          "text": [
            "Date\n",
            "2017-01-03    27.245611\n",
            "2017-01-06    27.632294\n",
            "2017-01-09    27.954132\n",
            "2017-01-12    27.921716\n",
            "2017-01-15    28.122086\n",
            "                ...    \n",
            "2017-12-17    41.785175\n",
            "2017-12-20    41.620867\n",
            "2017-12-23          NaN\n",
            "2017-12-26    40.658866\n",
            "2017-12-29    40.296921\n",
            "Freq: 3D, Name: Close, Length: 121, dtype: float64\n",
            "Date\n",
            "2017-01-08    27.342282\n",
            "2017-01-22    28.015584\n",
            "2017-02-05    28.946061\n",
            "2017-02-19    31.341197\n",
            "2017-03-05    32.413924\n",
            "2017-03-19    32.833898\n",
            "2017-04-02    33.437849\n",
            "2017-04-16    33.661108\n",
            "2017-04-30    33.603543\n",
            "2017-05-14    35.498714\n",
            "2017-05-28    36.292809\n",
            "2017-06-11    36.311532\n",
            "2017-06-25    34.336637\n",
            "2017-07-09    34.074194\n",
            "2017-07-23    35.082285\n",
            "2017-08-06    36.070652\n",
            "2017-08-20    37.692906\n",
            "2017-09-03    38.244489\n",
            "2017-09-17    38.069382\n",
            "2017-10-01    36.635583\n",
            "2017-10-15    36.865022\n",
            "2017-10-29    37.546925\n",
            "2017-11-12    40.803594\n",
            "2017-11-26    40.974773\n",
            "2017-12-10    40.639342\n",
            "2017-12-24    41.388942\n",
            "2018-01-07    40.568379\n",
            "Freq: 2W-SUN, Name: Close, dtype: float64\n",
            "Date\n",
            "2017-01-31    28.021313\n",
            "2017-03-31    32.342821\n",
            "2017-05-31    34.861506\n",
            "2017-07-31    34.990889\n",
            "2017-09-30    37.550768\n",
            "2017-11-30    39.183049\n",
            "2018-01-31    40.930681\n",
            "Freq: 2M, Name: Close, dtype: float64\n"
          ]
        }
      ]
    },
    {
      "cell_type": "markdown",
      "source": [
        "My own example 186"
      ],
      "metadata": {
        "id": "L-8a_HNrV0SM"
      }
    },
    {
      "cell_type": "code",
      "source": [
        "std = aapl.resample('W').std()\n",
        "max = aapl.resample('W').max()\n",
        "min = aapl.resample('W').min()\n",
        "\n",
        "\n",
        "print(std)\n",
        "print(max)\n",
        "print(min)"
      ],
      "metadata": {
        "colab": {
          "base_uri": "https://localhost:8080/"
        },
        "id": "Mx_FFKycYj6D",
        "outputId": "51df9db1-ed07-490c-bb60-dbf6413cb69f"
      },
      "execution_count": null,
      "outputs": [
        {
          "output_type": "stream",
          "name": "stdout",
          "text": [
            "Date\n",
            "2017-01-08    0.202237\n",
            "2017-01-15    0.072125\n",
            "2017-01-22    0.025416\n",
            "2017-01-29    0.243920\n",
            "2017-02-05    0.938005\n",
            "2017-02-12    0.250598\n",
            "2017-02-19    0.230103\n",
            "2017-02-26    0.059014\n",
            "2017-03-05    0.338190\n",
            "2017-03-12    0.075862\n",
            "2017-03-19    0.176837\n",
            "2017-03-26    0.156391\n",
            "2017-04-02    0.318025\n",
            "2017-04-09    0.127969\n",
            "2017-04-16    0.211295\n",
            "2017-04-23    0.173698\n",
            "2017-04-30    0.089529\n",
            "2017-05-07    0.234325\n",
            "2017-05-14    0.351013\n",
            "2017-05-21    0.533108\n",
            "2017-05-28    0.060053\n",
            "2017-06-04    0.279662\n",
            "2017-06-11    0.616575\n",
            "2017-06-18    0.380435\n",
            "2017-06-25    0.128179\n",
            "2017-07-02    0.262643\n",
            "2017-07-09    0.158001\n",
            "2017-07-16    0.402030\n",
            "2017-07-23    0.124292\n",
            "2017-07-30    0.382300\n",
            "2017-08-06    0.919238\n",
            "2017-08-13    0.464862\n",
            "2017-08-20    0.432824\n",
            "2017-08-27    0.274232\n",
            "2017-09-03    0.250321\n",
            "2017-09-10    0.379509\n",
            "2017-09-17    0.292499\n",
            "2017-09-24    0.731096\n",
            "2017-10-01    0.352861\n",
            "2017-10-08    0.203715\n",
            "2017-10-15    0.118070\n",
            "2017-10-22    0.514119\n",
            "2017-10-29    0.676665\n",
            "2017-11-05    0.557559\n",
            "2017-11-12    0.189904\n",
            "2017-11-19    0.433771\n",
            "2017-11-26    0.559912\n",
            "2017-12-03    0.425066\n",
            "2017-12-10    0.072724\n",
            "2017-12-17    0.204123\n",
            "2017-12-24    0.193045\n",
            "2017-12-31    0.189332\n",
            "Freq: W-SUN, Name: Close, dtype: float64\n",
            "Date\n",
            "2017-01-08    27.632294\n",
            "2017-01-15    28.063496\n",
            "2017-01-22    28.122086\n",
            "2017-01-29    28.579071\n",
            "2017-02-05    30.249987\n",
            "2017-02-12    31.167263\n",
            "2017-02-19    31.943979\n",
            "2017-02-26    32.271137\n",
            "2017-03-05    32.901909\n",
            "2017-03-12    32.838375\n",
            "2017-03-19    33.113739\n",
            "2017-03-26    33.294987\n",
            "2017-04-02    33.921055\n",
            "2017-04-09    34.074043\n",
            "2017-04-16    33.697464\n",
            "2017-04-23    33.525639\n",
            "2017-04-30    34.017563\n",
            "2017-05-07    35.060234\n",
            "2017-05-14    36.892403\n",
            "2017-05-21    36.797863\n",
            "2017-05-28    36.393719\n",
            "2017-06-04    36.738785\n",
            "2017-06-11    36.719868\n",
            "2017-06-18    34.644825\n",
            "2017-06-25    34.585739\n",
            "2017-07-02    34.465210\n",
            "2017-07-09    34.075241\n",
            "2017-07-16    35.223850\n",
            "2017-07-23    35.691799\n",
            "2017-07-30    36.268467\n",
            "2017-08-06    37.138187\n",
            "2017-08-13    38.064640\n",
            "2017-08-20    38.342243\n",
            "2017-08-27    37.957870\n",
            "2017-09-03    38.923542\n",
            "2017-09-10    38.456120\n",
            "2017-09-17    38.318508\n",
            "2017-09-24    37.661285\n",
            "2017-10-01    36.593586\n",
            "2017-10-08    36.868809\n",
            "2017-10-15    37.248447\n",
            "2017-10-22    38.074131\n",
            "2017-10-29    38.686279\n",
            "2017-11-05    40.928444\n",
            "2017-11-12    41.815819\n",
            "2017-11-19    41.425617\n",
            "2017-11-26    41.663734\n",
            "2017-12-03    41.454193\n",
            "2017-12-10    40.432655\n",
            "2017-12-17    41.425617\n",
            "2017-12-24    42.009010\n",
            "2017-12-31    40.737442\n",
            "Freq: W-SUN, Name: Close, dtype: float64\n",
            "Date\n",
            "2017-01-08    27.189363\n",
            "2017-01-15    27.885391\n",
            "2017-01-22    28.070520\n",
            "2017-01-29    28.115057\n",
            "2017-02-05    28.438454\n",
            "2017-02-12    30.533550\n",
            "2017-02-19    31.372036\n",
            "2017-02-26    32.134628\n",
            "2017-03-05    32.228771\n",
            "2017-03-12    32.640663\n",
            "2017-03-19    32.713634\n",
            "2017-03-26    32.913681\n",
            "2017-04-02    33.158470\n",
            "2017-04-09    33.737469\n",
            "2017-04-16    33.198479\n",
            "2017-04-23    33.111393\n",
            "2017-04-30    33.808075\n",
            "2017-05-07    34.488289\n",
            "2017-05-14    36.013470\n",
            "2017-05-21    35.509819\n",
            "2017-05-28    36.240105\n",
            "2017-06-04    36.103024\n",
            "2017-06-11    35.209679\n",
            "2017-06-18    33.623840\n",
            "2017-06-25    34.271393\n",
            "2017-07-02    33.957073\n",
            "2017-07-09    33.732559\n",
            "2017-07-16    34.283230\n",
            "2017-07-23    35.346748\n",
            "2017-07-30    35.332569\n",
            "2017-08-06    35.150593\n",
            "2017-08-13    36.852215\n",
            "2017-08-20    37.369457\n",
            "2017-08-27    37.300640\n",
            "2017-09-03    38.311398\n",
            "2017-09-10    37.637562\n",
            "2017-09-17    37.554516\n",
            "2017-09-24    36.038380\n",
            "2017-10-01    35.720459\n",
            "2017-10-08    36.415634\n",
            "2017-10-15    36.975590\n",
            "2017-10-22    37.008801\n",
            "2017-10-29    37.053879\n",
            "2017-11-05    39.557045\n",
            "2017-11-12    41.343666\n",
            "2017-11-19    40.261204\n",
            "2017-11-26    40.475510\n",
            "2017-12-03    40.356453\n",
            "2017-12-10    40.244534\n",
            "2017-12-17    40.885082\n",
            "2017-12-24    41.516098\n",
            "2017-12-31    40.296921\n",
            "Freq: W-SUN, Name: Close, dtype: float64\n"
          ]
        }
      ]
    },
    {
      "cell_type": "markdown",
      "source": [
        "My own example 187"
      ],
      "metadata": {
        "id": "OmXiI6MDV0bN"
      }
    },
    {
      "cell_type": "code",
      "source": [
        "last_day = aapl.resample('M').agg(lambda x: x[-1])\n",
        "print(last_day)"
      ],
      "metadata": {
        "colab": {
          "base_uri": "https://localhost:8080/"
        },
        "id": "FVoIdKYVYl2n",
        "outputId": "e777a674-db13-436d-dc1f-049928192bf7"
      },
      "execution_count": null,
      "outputs": [
        {
          "output_type": "stream",
          "name": "stdout",
          "text": [
            "Date\n",
            "2017-01-31    28.438454\n",
            "2017-02-28    32.242897\n",
            "2017-03-31    33.812794\n",
            "2017-04-30    33.810425\n",
            "2017-05-31    36.103024\n",
            "2017-06-30    34.037422\n",
            "2017-07-31    35.150593\n",
            "2017-08-31    38.911678\n",
            "2017-09-30    36.567482\n",
            "2017-10-31    40.107510\n",
            "2017-11-30    40.920799\n",
            "2017-12-31    40.296921\n",
            "Freq: M, Name: Close, dtype: float64\n"
          ]
        }
      ]
    },
    {
      "cell_type": "markdown",
      "source": [
        "My own example 188"
      ],
      "metadata": {
        "id": "9fx-mgRuV0kW"
      }
    },
    {
      "cell_type": "code",
      "source": [
        "monthly_return = aapl.resample('M').agg(lambda x: x[-1]/x[0] - 1)\n",
        "print(monthly_return)"
      ],
      "metadata": {
        "colab": {
          "base_uri": "https://localhost:8080/"
        },
        "id": "BlOxsvybYnTf",
        "outputId": "d50f57bf-0918-48c8-835c-c57e8a355bb6"
      },
      "execution_count": null,
      "outputs": [
        {
          "output_type": "stream",
          "name": "stdout",
          "text": [
            "Date\n",
            "2017-01-31    0.044770\n",
            "2017-02-28    0.068613\n",
            "2017-03-31    0.027685\n",
            "2017-04-30   -0.000348\n",
            "2017-05-31    0.046462\n",
            "2017-06-30   -0.059799\n",
            "2017-07-31    0.036446\n",
            "2017-08-31    0.097261\n",
            "2017-09-30   -0.060530\n",
            "2017-10-31    0.099019\n",
            "2017-11-30    0.033422\n",
            "2017-12-31   -0.010640\n",
            "Freq: M, Name: Close, dtype: float64\n"
          ]
        }
      ]
    },
    {
      "cell_type": "markdown",
      "source": [
        "My own example 189"
      ],
      "metadata": {
        "id": "AFyjNhOEV0su"
      }
    },
    {
      "cell_type": "code",
      "source": [
        "print(monthly_return.mean())\n",
        "print(monthly_return.std())\n",
        "print(monthly_return.max())"
      ],
      "metadata": {
        "colab": {
          "base_uri": "https://localhost:8080/"
        },
        "id": "6Op7B9cyYoyH",
        "outputId": "74939479-192b-45fa-d618-d8924d9f702e"
      },
      "execution_count": null,
      "outputs": [
        {
          "output_type": "stream",
          "name": "stdout",
          "text": [
            "0.02686333677050276\n",
            "0.05225861044529844\n",
            "0.09901850864240469\n"
          ]
        }
      ]
    },
    {
      "cell_type": "markdown",
      "source": [
        "My own example 190"
      ],
      "metadata": {
        "id": "zECCVdAjV02V"
      }
    },
    {
      "cell_type": "code",
      "source": [
        "print(last_day.diff())\n",
        "print(last_day.pct_change())"
      ],
      "metadata": {
        "colab": {
          "base_uri": "https://localhost:8080/"
        },
        "id": "h1c7xxcRYq2v",
        "outputId": "260125a4-bbac-4134-dcff-58368a11bbbf"
      },
      "execution_count": null,
      "outputs": [
        {
          "output_type": "stream",
          "name": "stdout",
          "text": [
            "Date\n",
            "2017-01-31         NaN\n",
            "2017-02-28    3.804443\n",
            "2017-03-31    1.569897\n",
            "2017-04-30   -0.002369\n",
            "2017-05-31    2.292599\n",
            "2017-06-30   -2.065601\n",
            "2017-07-31    1.113171\n",
            "2017-08-31    3.761086\n",
            "2017-09-30   -2.344196\n",
            "2017-10-31    3.540028\n",
            "2017-11-30    0.813290\n",
            "2017-12-31   -0.623878\n",
            "Freq: M, Name: Close, dtype: float64\n",
            "Date\n",
            "2017-01-31         NaN\n",
            "2017-02-28    0.133778\n",
            "2017-03-31    0.048690\n",
            "2017-04-30   -0.000070\n",
            "2017-05-31    0.067807\n",
            "2017-06-30   -0.057214\n",
            "2017-07-31    0.032704\n",
            "2017-08-31    0.106999\n",
            "2017-09-30   -0.060244\n",
            "2017-10-31    0.096808\n",
            "2017-11-30    0.020278\n",
            "2017-12-31   -0.015246\n",
            "Freq: M, Name: Close, dtype: float64\n"
          ]
        }
      ]
    },
    {
      "cell_type": "markdown",
      "source": [
        "My own example 191"
      ],
      "metadata": {
        "id": "n5V1UinRV1AA"
      }
    },
    {
      "cell_type": "code",
      "source": [
        "daily_return = last_day.pct_change()\n",
        "print(daily_return.fillna(3))"
      ],
      "metadata": {
        "colab": {
          "base_uri": "https://localhost:8080/"
        },
        "id": "Tai0ku6PYs5I",
        "outputId": "0e68d4ca-c50b-4670-fe8a-87f1650cc615"
      },
      "execution_count": null,
      "outputs": [
        {
          "output_type": "stream",
          "name": "stdout",
          "text": [
            "Date\n",
            "2017-01-31    3.000000\n",
            "2017-02-28    0.133778\n",
            "2017-03-31    0.048690\n",
            "2017-04-30   -0.000070\n",
            "2017-05-31    0.067807\n",
            "2017-06-30   -0.057214\n",
            "2017-07-31    0.032704\n",
            "2017-08-31    0.106999\n",
            "2017-09-30   -0.060244\n",
            "2017-10-31    0.096808\n",
            "2017-11-30    0.020278\n",
            "2017-12-31   -0.015246\n",
            "Freq: M, Name: Close, dtype: float64\n"
          ]
        }
      ]
    },
    {
      "cell_type": "markdown",
      "source": [
        "My own example 192"
      ],
      "metadata": {
        "id": "wbVgj6TAV1Hy"
      }
    },
    {
      "cell_type": "code",
      "source": [
        "daily_return = last_day.pct_change()\n",
        "print(daily_return.fillna(method = 'bfill'))"
      ],
      "metadata": {
        "colab": {
          "base_uri": "https://localhost:8080/"
        },
        "id": "F_diDfqxYv3l",
        "outputId": "9292a047-0d7a-4a95-b45f-50f4418b058a"
      },
      "execution_count": null,
      "outputs": [
        {
          "output_type": "stream",
          "name": "stdout",
          "text": [
            "Date\n",
            "2017-01-31    0.133778\n",
            "2017-02-28    0.133778\n",
            "2017-03-31    0.048690\n",
            "2017-04-30   -0.000070\n",
            "2017-05-31    0.067807\n",
            "2017-06-30   -0.057214\n",
            "2017-07-31    0.032704\n",
            "2017-08-31    0.106999\n",
            "2017-09-30   -0.060244\n",
            "2017-10-31    0.096808\n",
            "2017-11-30    0.020278\n",
            "2017-12-31   -0.015246\n",
            "Freq: M, Name: Close, dtype: float64\n"
          ]
        }
      ]
    },
    {
      "cell_type": "markdown",
      "source": [
        "My own example 193"
      ],
      "metadata": {
        "id": "8CgmtjozV1RG"
      }
    },
    {
      "cell_type": "code",
      "source": [
        "daily_return = last_day.pct_change()\n",
        "daily_return.dropna()"
      ],
      "metadata": {
        "colab": {
          "base_uri": "https://localhost:8080/"
        },
        "id": "h5meE00fYxdp",
        "outputId": "7f8ebde0-a836-4328-a988-e5fd2365c491"
      },
      "execution_count": null,
      "outputs": [
        {
          "output_type": "execute_result",
          "data": {
            "text/plain": [
              "Date\n",
              "2017-02-28    0.133778\n",
              "2017-03-31    0.048690\n",
              "2017-04-30   -0.000070\n",
              "2017-05-31    0.067807\n",
              "2017-06-30   -0.057214\n",
              "2017-07-31    0.032704\n",
              "2017-08-31    0.106999\n",
              "2017-09-30   -0.060244\n",
              "2017-10-31    0.096808\n",
              "2017-11-30    0.020278\n",
              "2017-12-31   -0.015246\n",
              "Freq: M, Name: Close, dtype: float64"
            ]
          },
          "metadata": {},
          "execution_count": 275
        }
      ]
    },
    {
      "cell_type": "markdown",
      "source": [
        "My own example 194"
      ],
      "metadata": {
        "id": "J-W1wCBrV1Z8"
      }
    },
    {
      "cell_type": "code",
      "source": [
        "dict = {'AAPL': [14.5, 144.29, 12.73, 1244.18, 143.77],'GOOG':[898.7, 911.71, 906.69, 918.59, 926.99],\n",
        "        'IBM':[155.58, 153.67, 152.36, 152.94, 153.49]}\n",
        "data_index = pd.date_range('2017-07-03',periods = 5, freq = 'D')\n",
        "df = pd.DataFrame(dict, index = data_index)\n",
        "print(df)"
      ],
      "metadata": {
        "colab": {
          "base_uri": "https://localhost:8080/"
        },
        "id": "YHRnRsWVY7w1",
        "outputId": "c6157b6a-8fb6-4099-9efe-9a171bd353d4"
      },
      "execution_count": null,
      "outputs": [
        {
          "output_type": "stream",
          "name": "stdout",
          "text": [
            "               AAPL    GOOG     IBM\n",
            "2017-07-03    14.50  898.70  155.58\n",
            "2017-07-04   144.29  911.71  153.67\n",
            "2017-07-05    12.73  906.69  152.36\n",
            "2017-07-06  1244.18  918.59  152.94\n",
            "2017-07-07   143.77  926.99  153.49\n"
          ]
        }
      ]
    },
    {
      "cell_type": "markdown",
      "source": [
        "My own example 195"
      ],
      "metadata": {
        "id": "6JgNOJ4rV1i6"
      }
    },
    {
      "cell_type": "code",
      "source": [
        "df = aapl_table\n",
        "print(df.Close.tail(3))\n",
        "print(df['Volume'].tail(4))"
      ],
      "metadata": {
        "colab": {
          "base_uri": "https://localhost:8080/"
        },
        "id": "tvnZ0wYSY9sV",
        "outputId": "4fb377ce-2f2e-42a1-a72d-1e98988fa883"
      },
      "execution_count": null,
      "outputs": [
        {
          "output_type": "stream",
          "name": "stdout",
          "text": [
            "Date\n",
            "2017-12-27    40.623146\n",
            "2017-12-28    40.737442\n",
            "2017-12-29    40.296921\n",
            "Name: Close, dtype: float64\n",
            "Date\n",
            "2017-12-26    132742000\n",
            "2017-12-27     85992800\n",
            "2017-12-28     65920800\n",
            "2017-12-29    103999600\n",
            "Name: Volume, dtype: int64\n"
          ]
        }
      ]
    },
    {
      "cell_type": "markdown",
      "source": [
        "My own example 196"
      ],
      "metadata": {
        "id": "VzBOAxL2V1r_"
      }
    },
    {
      "cell_type": "code",
      "source": [
        "s1 = pd.Series([143.5, 144.09, 142.73, 144.18, 143.77], name = 'APP')\n",
        "s2 = pd.Series([898.7, 911.71, 906.69, 918.59, 926.99], name = 'GO')\n",
        "data_frame = pd.concat([s1,s2], axis = 1)\n",
        "print(data_frame)"
      ],
      "metadata": {
        "colab": {
          "base_uri": "https://localhost:8080/"
        },
        "id": "79RoLoxFZIPy",
        "outputId": "4d45be84-44ed-4859-a7b9-f29bacb1686b"
      },
      "execution_count": null,
      "outputs": [
        {
          "output_type": "stream",
          "name": "stdout",
          "text": [
            "      APP      GO\n",
            "0  143.50  898.70\n",
            "1  144.09  911.71\n",
            "2  142.73  906.69\n",
            "3  144.18  918.59\n",
            "4  143.77  926.99\n"
          ]
        }
      ]
    },
    {
      "cell_type": "markdown",
      "source": [
        "My own example 197"
      ],
      "metadata": {
        "id": "10ywnrNkV11O"
      }
    },
    {
      "cell_type": "code",
      "source": [
        "s1 = pd.Series([143.5, 144.09, 142.73, 144.18, 143.77], name = 'APP')\n",
        "s2 = pd.Series([898.7, 911.71, 906.69, 918.59, 926.99], name = 'GO')\n",
        "data_frame = pd.concat([s1,s2], axis = 1)\n",
        "print(s1)"
      ],
      "metadata": {
        "colab": {
          "base_uri": "https://localhost:8080/"
        },
        "id": "1V6EEOnGZl2t",
        "outputId": "438b6612-540e-408d-c992-061ef767c04d"
      },
      "execution_count": null,
      "outputs": [
        {
          "output_type": "stream",
          "name": "stdout",
          "text": [
            "0    143.50\n",
            "1    144.09\n",
            "2    142.73\n",
            "3    144.18\n",
            "4    143.77\n",
            "Name: APP, dtype: float64\n"
          ]
        }
      ]
    },
    {
      "cell_type": "markdown",
      "source": [
        "My own example 198"
      ],
      "metadata": {
        "id": "9KBkiL3YV1-A"
      }
    },
    {
      "cell_type": "code",
      "source": [
        "data_frame = pd.concat([s1,s2], axis = 0)\n",
        "print(data_frame)"
      ],
      "metadata": {
        "colab": {
          "base_uri": "https://localhost:8080/"
        },
        "id": "C4RMiTyeVtji",
        "outputId": "1ed7583b-1000-41ff-f693-e0ab65b77b1b"
      },
      "execution_count": null,
      "outputs": [
        {
          "output_type": "stream",
          "name": "stdout",
          "text": [
            "0    143.50\n",
            "1    144.09\n",
            "2    142.73\n",
            "3    144.18\n",
            "4    143.77\n",
            "0    898.70\n",
            "1    911.71\n",
            "2    906.69\n",
            "3    918.59\n",
            "4    926.99\n",
            "dtype: float64\n"
          ]
        }
      ]
    },
    {
      "cell_type": "markdown",
      "source": [
        "# Lectura 5\n"
      ],
      "metadata": {
        "id": "ZyzUvFExZ-3x"
      }
    },
    {
      "cell_type": "markdown",
      "source": [
        "My own example 199"
      ],
      "metadata": {
        "id": "ktYptdEOaGAu"
      }
    },
    {
      "cell_type": "code",
      "source": [
        "data_all = yf.download(\"AAPL,MSFT\", start=\"2014-01-01\", end=\"2015-01-01\")\n",
        "data_all.head()"
      ],
      "metadata": {
        "colab": {
          "base_uri": "https://localhost:8080/",
          "height": 437
        },
        "id": "4P3cqSxQazU-",
        "outputId": "adf399bc-c896-45ea-d980-321eca1ccfd5"
      },
      "execution_count": null,
      "outputs": [
        {
          "output_type": "stream",
          "name": "stdout",
          "text": [
            "[*********************100%***********************]  2 of 2 completed\n"
          ]
        },
        {
          "output_type": "execute_result",
          "data": {
            "text/plain": [
              "            Adj Close                 Close                  High             \\\n",
              "                 AAPL       MSFT       AAPL       MSFT       AAPL       MSFT   \n",
              "Date                                                                           \n",
              "2014-01-02  17.444427  31.657236  19.754642  37.160000  19.893929  37.400002   \n",
              "2014-01-03  17.061241  31.444260  19.320715  36.910000  19.775000  37.220001   \n",
              "2014-01-06  17.154278  30.779762  19.426071  36.130001  19.528570  36.889999   \n",
              "2014-01-07  17.031591  31.018301  19.287144  36.410000  19.498571  36.490002   \n",
              "2014-01-08  17.139456  30.464558  19.409286  35.759998  19.484285  36.139999   \n",
              "\n",
              "                  Low                  Open                Volume            \n",
              "                 AAPL       MSFT       AAPL       MSFT       AAPL      MSFT  \n",
              "Date                                                                         \n",
              "2014-01-02  19.715000  37.099998  19.845715  37.349998  234684800  30632200  \n",
              "2014-01-03  19.301071  36.599998  19.745001  37.200001  392467600  31134800  \n",
              "2014-01-06  19.057142  36.110001  19.194643  36.849998  412610800  43603700  \n",
              "2014-01-07  19.211430  36.209999  19.440001  36.330002  317209200  35802800  \n",
              "2014-01-08  19.238930  35.580002  19.243214  36.000000  258529600  59971700  "
            ],
            "text/html": [
              "\n",
              "  <div id=\"df-f28c22c8-e7ce-45ca-b4ee-a0568ebe99cb\">\n",
              "    <div class=\"colab-df-container\">\n",
              "      <div>\n",
              "<style scoped>\n",
              "    .dataframe tbody tr th:only-of-type {\n",
              "        vertical-align: middle;\n",
              "    }\n",
              "\n",
              "    .dataframe tbody tr th {\n",
              "        vertical-align: top;\n",
              "    }\n",
              "\n",
              "    .dataframe thead tr th {\n",
              "        text-align: left;\n",
              "    }\n",
              "\n",
              "    .dataframe thead tr:last-of-type th {\n",
              "        text-align: right;\n",
              "    }\n",
              "</style>\n",
              "<table border=\"1\" class=\"dataframe\">\n",
              "  <thead>\n",
              "    <tr>\n",
              "      <th></th>\n",
              "      <th colspan=\"2\" halign=\"left\">Adj Close</th>\n",
              "      <th colspan=\"2\" halign=\"left\">Close</th>\n",
              "      <th colspan=\"2\" halign=\"left\">High</th>\n",
              "      <th colspan=\"2\" halign=\"left\">Low</th>\n",
              "      <th colspan=\"2\" halign=\"left\">Open</th>\n",
              "      <th colspan=\"2\" halign=\"left\">Volume</th>\n",
              "    </tr>\n",
              "    <tr>\n",
              "      <th></th>\n",
              "      <th>AAPL</th>\n",
              "      <th>MSFT</th>\n",
              "      <th>AAPL</th>\n",
              "      <th>MSFT</th>\n",
              "      <th>AAPL</th>\n",
              "      <th>MSFT</th>\n",
              "      <th>AAPL</th>\n",
              "      <th>MSFT</th>\n",
              "      <th>AAPL</th>\n",
              "      <th>MSFT</th>\n",
              "      <th>AAPL</th>\n",
              "      <th>MSFT</th>\n",
              "    </tr>\n",
              "    <tr>\n",
              "      <th>Date</th>\n",
              "      <th></th>\n",
              "      <th></th>\n",
              "      <th></th>\n",
              "      <th></th>\n",
              "      <th></th>\n",
              "      <th></th>\n",
              "      <th></th>\n",
              "      <th></th>\n",
              "      <th></th>\n",
              "      <th></th>\n",
              "      <th></th>\n",
              "      <th></th>\n",
              "    </tr>\n",
              "  </thead>\n",
              "  <tbody>\n",
              "    <tr>\n",
              "      <th>2014-01-02</th>\n",
              "      <td>17.444427</td>\n",
              "      <td>31.657236</td>\n",
              "      <td>19.754642</td>\n",
              "      <td>37.160000</td>\n",
              "      <td>19.893929</td>\n",
              "      <td>37.400002</td>\n",
              "      <td>19.715000</td>\n",
              "      <td>37.099998</td>\n",
              "      <td>19.845715</td>\n",
              "      <td>37.349998</td>\n",
              "      <td>234684800</td>\n",
              "      <td>30632200</td>\n",
              "    </tr>\n",
              "    <tr>\n",
              "      <th>2014-01-03</th>\n",
              "      <td>17.061241</td>\n",
              "      <td>31.444260</td>\n",
              "      <td>19.320715</td>\n",
              "      <td>36.910000</td>\n",
              "      <td>19.775000</td>\n",
              "      <td>37.220001</td>\n",
              "      <td>19.301071</td>\n",
              "      <td>36.599998</td>\n",
              "      <td>19.745001</td>\n",
              "      <td>37.200001</td>\n",
              "      <td>392467600</td>\n",
              "      <td>31134800</td>\n",
              "    </tr>\n",
              "    <tr>\n",
              "      <th>2014-01-06</th>\n",
              "      <td>17.154278</td>\n",
              "      <td>30.779762</td>\n",
              "      <td>19.426071</td>\n",
              "      <td>36.130001</td>\n",
              "      <td>19.528570</td>\n",
              "      <td>36.889999</td>\n",
              "      <td>19.057142</td>\n",
              "      <td>36.110001</td>\n",
              "      <td>19.194643</td>\n",
              "      <td>36.849998</td>\n",
              "      <td>412610800</td>\n",
              "      <td>43603700</td>\n",
              "    </tr>\n",
              "    <tr>\n",
              "      <th>2014-01-07</th>\n",
              "      <td>17.031591</td>\n",
              "      <td>31.018301</td>\n",
              "      <td>19.287144</td>\n",
              "      <td>36.410000</td>\n",
              "      <td>19.498571</td>\n",
              "      <td>36.490002</td>\n",
              "      <td>19.211430</td>\n",
              "      <td>36.209999</td>\n",
              "      <td>19.440001</td>\n",
              "      <td>36.330002</td>\n",
              "      <td>317209200</td>\n",
              "      <td>35802800</td>\n",
              "    </tr>\n",
              "    <tr>\n",
              "      <th>2014-01-08</th>\n",
              "      <td>17.139456</td>\n",
              "      <td>30.464558</td>\n",
              "      <td>19.409286</td>\n",
              "      <td>35.759998</td>\n",
              "      <td>19.484285</td>\n",
              "      <td>36.139999</td>\n",
              "      <td>19.238930</td>\n",
              "      <td>35.580002</td>\n",
              "      <td>19.243214</td>\n",
              "      <td>36.000000</td>\n",
              "      <td>258529600</td>\n",
              "      <td>59971700</td>\n",
              "    </tr>\n",
              "  </tbody>\n",
              "</table>\n",
              "</div>\n",
              "      <button class=\"colab-df-convert\" onclick=\"convertToInteractive('df-f28c22c8-e7ce-45ca-b4ee-a0568ebe99cb')\"\n",
              "              title=\"Convert this dataframe to an interactive table.\"\n",
              "              style=\"display:none;\">\n",
              "        \n",
              "  <svg xmlns=\"http://www.w3.org/2000/svg\" height=\"24px\"viewBox=\"0 0 24 24\"\n",
              "       width=\"24px\">\n",
              "    <path d=\"M0 0h24v24H0V0z\" fill=\"none\"/>\n",
              "    <path d=\"M18.56 5.44l.94 2.06.94-2.06 2.06-.94-2.06-.94-.94-2.06-.94 2.06-2.06.94zm-11 1L8.5 8.5l.94-2.06 2.06-.94-2.06-.94L8.5 2.5l-.94 2.06-2.06.94zm10 10l.94 2.06.94-2.06 2.06-.94-2.06-.94-.94-2.06-.94 2.06-2.06.94z\"/><path d=\"M17.41 7.96l-1.37-1.37c-.4-.4-.92-.59-1.43-.59-.52 0-1.04.2-1.43.59L10.3 9.45l-7.72 7.72c-.78.78-.78 2.05 0 2.83L4 21.41c.39.39.9.59 1.41.59.51 0 1.02-.2 1.41-.59l7.78-7.78 2.81-2.81c.8-.78.8-2.07 0-2.86zM5.41 20L4 18.59l7.72-7.72 1.47 1.35L5.41 20z\"/>\n",
              "  </svg>\n",
              "      </button>\n",
              "      \n",
              "  <style>\n",
              "    .colab-df-container {\n",
              "      display:flex;\n",
              "      flex-wrap:wrap;\n",
              "      gap: 12px;\n",
              "    }\n",
              "\n",
              "    .colab-df-convert {\n",
              "      background-color: #E8F0FE;\n",
              "      border: none;\n",
              "      border-radius: 50%;\n",
              "      cursor: pointer;\n",
              "      display: none;\n",
              "      fill: #1967D2;\n",
              "      height: 32px;\n",
              "      padding: 0 0 0 0;\n",
              "      width: 32px;\n",
              "    }\n",
              "\n",
              "    .colab-df-convert:hover {\n",
              "      background-color: #E2EBFA;\n",
              "      box-shadow: 0px 1px 2px rgba(60, 64, 67, 0.3), 0px 1px 3px 1px rgba(60, 64, 67, 0.15);\n",
              "      fill: #174EA6;\n",
              "    }\n",
              "\n",
              "    [theme=dark] .colab-df-convert {\n",
              "      background-color: #3B4455;\n",
              "      fill: #D2E3FC;\n",
              "    }\n",
              "\n",
              "    [theme=dark] .colab-df-convert:hover {\n",
              "      background-color: #434B5C;\n",
              "      box-shadow: 0px 1px 3px 1px rgba(0, 0, 0, 0.15);\n",
              "      filter: drop-shadow(0px 1px 2px rgba(0, 0, 0, 0.3));\n",
              "      fill: #FFFFFF;\n",
              "    }\n",
              "  </style>\n",
              "\n",
              "      <script>\n",
              "        const buttonEl =\n",
              "          document.querySelector('#df-f28c22c8-e7ce-45ca-b4ee-a0568ebe99cb button.colab-df-convert');\n",
              "        buttonEl.style.display =\n",
              "          google.colab.kernel.accessAllowed ? 'block' : 'none';\n",
              "\n",
              "        async function convertToInteractive(key) {\n",
              "          const element = document.querySelector('#df-f28c22c8-e7ce-45ca-b4ee-a0568ebe99cb');\n",
              "          const dataTable =\n",
              "            await google.colab.kernel.invokeFunction('convertToInteractive',\n",
              "                                                     [key], {});\n",
              "          if (!dataTable) return;\n",
              "\n",
              "          const docLinkHtml = 'Like what you see? Visit the ' +\n",
              "            '<a target=\"_blank\" href=https://colab.research.google.com/notebooks/data_table.ipynb>data table notebook</a>'\n",
              "            + ' to learn more about interactive tables.';\n",
              "          element.innerHTML = '';\n",
              "          dataTable['output_type'] = 'display_data';\n",
              "          await google.colab.output.renderOutput(dataTable, element);\n",
              "          const docLink = document.createElement('div');\n",
              "          docLink.innerHTML = docLinkHtml;\n",
              "          element.appendChild(docLink);\n",
              "        }\n",
              "      </script>\n",
              "    </div>\n",
              "  </div>\n",
              "  "
            ]
          },
          "metadata": {},
          "execution_count": 295
        }
      ]
    },
    {
      "cell_type": "markdown",
      "source": [
        "My own example 200"
      ],
      "metadata": {
        "id": "DYp46j_CaGIE"
      }
    },
    {
      "cell_type": "code",
      "source": [
        "data = data_all[\"Close\"]\n",
        "data.head()"
      ],
      "metadata": {
        "colab": {
          "base_uri": "https://localhost:8080/",
          "height": 238
        },
        "id": "suFghx48bJPY",
        "outputId": "5b8a82ef-acac-442e-b8a0-6c271766ff7a"
      },
      "execution_count": null,
      "outputs": [
        {
          "output_type": "execute_result",
          "data": {
            "text/plain": [
              "                 AAPL       MSFT\n",
              "Date                            \n",
              "2014-01-02  19.754642  37.160000\n",
              "2014-01-03  19.320715  36.910000\n",
              "2014-01-06  19.426071  36.130001\n",
              "2014-01-07  19.287144  36.410000\n",
              "2014-01-08  19.409286  35.759998"
            ],
            "text/html": [
              "\n",
              "  <div id=\"df-de038509-f2cf-42a8-a0d8-66af64ffcb25\">\n",
              "    <div class=\"colab-df-container\">\n",
              "      <div>\n",
              "<style scoped>\n",
              "    .dataframe tbody tr th:only-of-type {\n",
              "        vertical-align: middle;\n",
              "    }\n",
              "\n",
              "    .dataframe tbody tr th {\n",
              "        vertical-align: top;\n",
              "    }\n",
              "\n",
              "    .dataframe thead th {\n",
              "        text-align: right;\n",
              "    }\n",
              "</style>\n",
              "<table border=\"1\" class=\"dataframe\">\n",
              "  <thead>\n",
              "    <tr style=\"text-align: right;\">\n",
              "      <th></th>\n",
              "      <th>AAPL</th>\n",
              "      <th>MSFT</th>\n",
              "    </tr>\n",
              "    <tr>\n",
              "      <th>Date</th>\n",
              "      <th></th>\n",
              "      <th></th>\n",
              "    </tr>\n",
              "  </thead>\n",
              "  <tbody>\n",
              "    <tr>\n",
              "      <th>2014-01-02</th>\n",
              "      <td>19.754642</td>\n",
              "      <td>37.160000</td>\n",
              "    </tr>\n",
              "    <tr>\n",
              "      <th>2014-01-03</th>\n",
              "      <td>19.320715</td>\n",
              "      <td>36.910000</td>\n",
              "    </tr>\n",
              "    <tr>\n",
              "      <th>2014-01-06</th>\n",
              "      <td>19.426071</td>\n",
              "      <td>36.130001</td>\n",
              "    </tr>\n",
              "    <tr>\n",
              "      <th>2014-01-07</th>\n",
              "      <td>19.287144</td>\n",
              "      <td>36.410000</td>\n",
              "    </tr>\n",
              "    <tr>\n",
              "      <th>2014-01-08</th>\n",
              "      <td>19.409286</td>\n",
              "      <td>35.759998</td>\n",
              "    </tr>\n",
              "  </tbody>\n",
              "</table>\n",
              "</div>\n",
              "      <button class=\"colab-df-convert\" onclick=\"convertToInteractive('df-de038509-f2cf-42a8-a0d8-66af64ffcb25')\"\n",
              "              title=\"Convert this dataframe to an interactive table.\"\n",
              "              style=\"display:none;\">\n",
              "        \n",
              "  <svg xmlns=\"http://www.w3.org/2000/svg\" height=\"24px\"viewBox=\"0 0 24 24\"\n",
              "       width=\"24px\">\n",
              "    <path d=\"M0 0h24v24H0V0z\" fill=\"none\"/>\n",
              "    <path d=\"M18.56 5.44l.94 2.06.94-2.06 2.06-.94-2.06-.94-.94-2.06-.94 2.06-2.06.94zm-11 1L8.5 8.5l.94-2.06 2.06-.94-2.06-.94L8.5 2.5l-.94 2.06-2.06.94zm10 10l.94 2.06.94-2.06 2.06-.94-2.06-.94-.94-2.06-.94 2.06-2.06.94z\"/><path d=\"M17.41 7.96l-1.37-1.37c-.4-.4-.92-.59-1.43-.59-.52 0-1.04.2-1.43.59L10.3 9.45l-7.72 7.72c-.78.78-.78 2.05 0 2.83L4 21.41c.39.39.9.59 1.41.59.51 0 1.02-.2 1.41-.59l7.78-7.78 2.81-2.81c.8-.78.8-2.07 0-2.86zM5.41 20L4 18.59l7.72-7.72 1.47 1.35L5.41 20z\"/>\n",
              "  </svg>\n",
              "      </button>\n",
              "      \n",
              "  <style>\n",
              "    .colab-df-container {\n",
              "      display:flex;\n",
              "      flex-wrap:wrap;\n",
              "      gap: 12px;\n",
              "    }\n",
              "\n",
              "    .colab-df-convert {\n",
              "      background-color: #E8F0FE;\n",
              "      border: none;\n",
              "      border-radius: 50%;\n",
              "      cursor: pointer;\n",
              "      display: none;\n",
              "      fill: #1967D2;\n",
              "      height: 32px;\n",
              "      padding: 0 0 0 0;\n",
              "      width: 32px;\n",
              "    }\n",
              "\n",
              "    .colab-df-convert:hover {\n",
              "      background-color: #E2EBFA;\n",
              "      box-shadow: 0px 1px 2px rgba(60, 64, 67, 0.3), 0px 1px 3px 1px rgba(60, 64, 67, 0.15);\n",
              "      fill: #174EA6;\n",
              "    }\n",
              "\n",
              "    [theme=dark] .colab-df-convert {\n",
              "      background-color: #3B4455;\n",
              "      fill: #D2E3FC;\n",
              "    }\n",
              "\n",
              "    [theme=dark] .colab-df-convert:hover {\n",
              "      background-color: #434B5C;\n",
              "      box-shadow: 0px 1px 3px 1px rgba(0, 0, 0, 0.15);\n",
              "      filter: drop-shadow(0px 1px 2px rgba(0, 0, 0, 0.3));\n",
              "      fill: #FFFFFF;\n",
              "    }\n",
              "  </style>\n",
              "\n",
              "      <script>\n",
              "        const buttonEl =\n",
              "          document.querySelector('#df-de038509-f2cf-42a8-a0d8-66af64ffcb25 button.colab-df-convert');\n",
              "        buttonEl.style.display =\n",
              "          google.colab.kernel.accessAllowed ? 'block' : 'none';\n",
              "\n",
              "        async function convertToInteractive(key) {\n",
              "          const element = document.querySelector('#df-de038509-f2cf-42a8-a0d8-66af64ffcb25');\n",
              "          const dataTable =\n",
              "            await google.colab.kernel.invokeFunction('convertToInteractive',\n",
              "                                                     [key], {});\n",
              "          if (!dataTable) return;\n",
              "\n",
              "          const docLinkHtml = 'Like what you see? Visit the ' +\n",
              "            '<a target=\"_blank\" href=https://colab.research.google.com/notebooks/data_table.ipynb>data table notebook</a>'\n",
              "            + ' to learn more about interactive tables.';\n",
              "          element.innerHTML = '';\n",
              "          dataTable['output_type'] = 'display_data';\n",
              "          await google.colab.output.renderOutput(dataTable, element);\n",
              "          const docLink = document.createElement('div');\n",
              "          docLink.innerHTML = docLinkHtml;\n",
              "          element.appendChild(docLink);\n",
              "        }\n",
              "      </script>\n",
              "    </div>\n",
              "  </div>\n",
              "  "
            ]
          },
          "metadata": {},
          "execution_count": 296
        }
      ]
    },
    {
      "cell_type": "markdown",
      "source": [
        "My own example 201"
      ],
      "metadata": {
        "id": "Bp47gGoeaGRD"
      }
    },
    {
      "cell_type": "code",
      "source": [
        "data['MSFT'].head()"
      ],
      "metadata": {
        "colab": {
          "base_uri": "https://localhost:8080/"
        },
        "id": "S7Ic_XiCbLZb",
        "outputId": "f05911ba-5cd2-4493-ddea-aa5dd093e26f"
      },
      "execution_count": null,
      "outputs": [
        {
          "output_type": "execute_result",
          "data": {
            "text/plain": [
              "Date\n",
              "2014-01-02    37.160000\n",
              "2014-01-03    36.910000\n",
              "2014-01-06    36.130001\n",
              "2014-01-07    36.410000\n",
              "2014-01-08    35.759998\n",
              "Name: MSFT, dtype: float64"
            ]
          },
          "metadata": {},
          "execution_count": 297
        }
      ]
    },
    {
      "cell_type": "markdown",
      "source": [
        "My own example 202"
      ],
      "metadata": {
        "id": "2EGZhnm7aGbV"
      }
    },
    {
      "cell_type": "code",
      "source": [
        "plt.hist(data['MSFT'], bins=20)\n",
        "plt.xlabel('Precio')\n",
        "plt.ylabel('Numero de dias de observación')\n",
        "plt.title('Frecuencia de dsitribución MSFT precios, 2014');"
      ],
      "metadata": {
        "colab": {
          "base_uri": "https://localhost:8080/",
          "height": 295
        },
        "id": "eX0_E4GVbNnM",
        "outputId": "bffb6c06-f0d5-4f99-e79b-1c77ea992597"
      },
      "execution_count": null,
      "outputs": [
        {
          "output_type": "display_data",
          "data": {
            "text/plain": [
              "<Figure size 432x288 with 1 Axes>"
            ],
            "image/png": "[encoded data removed]"
          },
          "metadata": {
            "needs_background": "light"
          }
        }
      ]
    },
    {
      "cell_type": "markdown",
      "source": [
        "My own example 203"
      ],
      "metadata": {
        "id": "Q-h_zMUeaGl3"
      }
    },
    {
      "cell_type": "code",
      "source": [
        "R = data['MSFT'].pct_change()[1:]"
      ],
      "metadata": {
        "id": "bYmWYQd3bZ5D"
      },
      "execution_count": null,
      "outputs": []
    },
    {
      "cell_type": "markdown",
      "source": [
        "My own example 204"
      ],
      "metadata": {
        "id": "5XSFNDIkaGva"
      }
    },
    {
      "cell_type": "code",
      "source": [
        "plt.hist(R, bins=20)\n",
        "plt.xlabel('Devuelve')\n",
        "plt.ylabel('Numero de dias observados')\n",
        "plt.title('Frecuencia que MSFT devuelve, 2014');"
      ],
      "metadata": {
        "colab": {
          "base_uri": "https://localhost:8080/",
          "height": 295
        },
        "id": "_ihuN1eKbcss",
        "outputId": "5d7583dc-d889-4244-cc4c-1f10aa4377ba"
      },
      "execution_count": null,
      "outputs": [
        {
          "output_type": "display_data",
          "data": {
            "text/plain": [
              "<Figure size 432x288 with 1 Axes>"
            ],
            "image/png": "[encoded data removed]"
          },
          "metadata": {
            "needs_background": "light"
          }
        }
      ]
    },
    {
      "cell_type": "markdown",
      "source": [
        "My own example 205"
      ],
      "metadata": {
        "id": "ybn0cay6aG4L"
      }
    },
    {
      "cell_type": "code",
      "source": [
        "R = data['MSFT'].pct_change()[1:]"
      ],
      "metadata": {
        "id": "SWl--QlObp1o"
      },
      "execution_count": null,
      "outputs": []
    },
    {
      "cell_type": "markdown",
      "source": [
        "My own example 206"
      ],
      "metadata": {
        "id": "-kUwecL0aG_Y"
      }
    },
    {
      "cell_type": "code",
      "source": [
        "plt.hist(R, bins=10, cumulative=True)\n",
        "plt.xlabel('Devuelve')\n",
        "plt.ylabel('Numero de dias observados')\n",
        "plt.title('Frecuencia que MSFT devuelve, 2014');"
      ],
      "metadata": {
        "colab": {
          "base_uri": "https://localhost:8080/",
          "height": 295
        },
        "id": "qTwEnApLbscz",
        "outputId": "0d261272-2012-4112-fb6b-01d2e0a7c511"
      },
      "execution_count": null,
      "outputs": [
        {
          "output_type": "display_data",
          "data": {
            "text/plain": [
              "<Figure size 432x288 with 1 Axes>"
            ],
            "image/png": "[encoded data removed]"
          },
          "metadata": {
            "needs_background": "light"
          }
        }
      ]
    },
    {
      "cell_type": "markdown",
      "source": [
        "My own example 207"
      ],
      "metadata": {
        "id": "5PQjC0PZaHHW"
      }
    },
    {
      "cell_type": "code",
      "source": [
        "plt.hist(R, bins=100, cumulative=False)\n",
        "plt.xlabel('Devuelve')\n",
        "plt.ylabel('Numero de dias observados')\n",
        "plt.title('Frecuencia que MSFT devuelve, 2014');"
      ],
      "metadata": {
        "colab": {
          "base_uri": "https://localhost:8080/",
          "height": 295
        },
        "id": "Dq9FueExb0_9",
        "outputId": "84fa41f3-ea36-452e-a9ba-badfa21dd683"
      },
      "execution_count": null,
      "outputs": [
        {
          "output_type": "display_data",
          "data": {
            "text/plain": [
              "<Figure size 432x288 with 1 Axes>"
            ],
            "image/png": "[encoded data removed]"
          },
          "metadata": {
            "needs_background": "light"
          }
        }
      ]
    },
    {
      "cell_type": "markdown",
      "source": [
        "My own example 208"
      ],
      "metadata": {
        "id": "hKEgz0HbaHO3"
      }
    },
    {
      "cell_type": "code",
      "source": [
        "R_msft = data['MSFT'].pct_change()[2:]\n",
        "\n"
      ],
      "metadata": {
        "id": "HUVDcgL6b_h_"
      },
      "execution_count": null,
      "outputs": []
    },
    {
      "cell_type": "markdown",
      "source": [
        "My own example 209"
      ],
      "metadata": {
        "id": "MLlHqHbpaHXO"
      }
    },
    {
      "cell_type": "code",
      "source": [
        "R_aapl = data['AAPL'].pct_change()[2:]\n",
        "\n"
      ],
      "metadata": {
        "id": "gUotZ0jpcBLo"
      },
      "execution_count": null,
      "outputs": []
    },
    {
      "cell_type": "markdown",
      "source": [
        "My own example 210"
      ],
      "metadata": {
        "id": "xSctjY3naHep"
      }
    },
    {
      "cell_type": "code",
      "source": [
        "plt.scatter(R_msft, R_aapl)\n",
        "plt.xlabel('MSFT')\n",
        "plt.ylabel('AAPL')\n",
        "plt.title('Dias en 2014');"
      ],
      "metadata": {
        "colab": {
          "base_uri": "https://localhost:8080/",
          "height": 295
        },
        "id": "N9ge5VGacFtd",
        "outputId": "8ec9c07d-d603-4451-dd80-235bd1f7a3d2"
      },
      "execution_count": null,
      "outputs": [
        {
          "output_type": "display_data",
          "data": {
            "text/plain": [
              "<Figure size 432x288 with 1 Axes>"
            ],
            "image/png": "[encoded data removed]"
          },
          "metadata": {
            "needs_background": "light"
          }
        }
      ]
    },
    {
      "cell_type": "markdown",
      "source": [
        "My own example 211"
      ],
      "metadata": {
        "id": "nHGhY68SaHmF"
      }
    },
    {
      "cell_type": "code",
      "source": [
        "R_msft = data['MSFT'].pct_change()[:4]"
      ],
      "metadata": {
        "id": "UCRK1gaccRAO"
      },
      "execution_count": null,
      "outputs": []
    },
    {
      "cell_type": "markdown",
      "source": [
        "My own example 212"
      ],
      "metadata": {
        "id": "uPOZcwC6aHuG"
      }
    },
    {
      "cell_type": "code",
      "source": [
        "R_aapl = data['AAPL'].pct_change()[:4]\n"
      ],
      "metadata": {
        "id": "ke5VcZLIcTt8"
      },
      "execution_count": null,
      "outputs": []
    },
    {
      "cell_type": "markdown",
      "source": [
        "My own example 213"
      ],
      "metadata": {
        "id": "N1Tp9JueaH1f"
      }
    },
    {
      "cell_type": "code",
      "source": [
        "plt.scatter(R_msft, R_aapl)\n",
        "plt.xlabel('MSFT')\n",
        "plt.ylabel('AAPL')\n",
        "plt.title('Dias en 2014');"
      ],
      "metadata": {
        "colab": {
          "base_uri": "https://localhost:8080/",
          "height": 295
        },
        "id": "CDIf62deca3R",
        "outputId": "a131ab0b-4fe5-4fe3-aefa-03b2a6ae0de6"
      },
      "execution_count": null,
      "outputs": [
        {
          "output_type": "display_data",
          "data": {
            "text/plain": [
              "<Figure size 432x288 with 1 Axes>"
            ],
            "image/png": "[encoded data removed]"
          },
          "metadata": {
            "needs_background": "light"
          }
        }
      ]
    },
    {
      "cell_type": "markdown",
      "source": [
        "My own example 214"
      ],
      "metadata": {
        "id": "i_6y4w2JaH98"
      }
    },
    {
      "cell_type": "code",
      "source": [
        "R_msft = data['MSFT'].pct_change()[:]"
      ],
      "metadata": {
        "id": "I76oixxwcj2M"
      },
      "execution_count": null,
      "outputs": []
    },
    {
      "cell_type": "markdown",
      "source": [
        "My own example 215"
      ],
      "metadata": {
        "id": "9DYHKHrdaIFB"
      }
    },
    {
      "cell_type": "code",
      "source": [
        "R_aapl = data['AAPL'].pct_change()[:]\n"
      ],
      "metadata": {
        "id": "K0YdFnoocmOg"
      },
      "execution_count": null,
      "outputs": []
    },
    {
      "cell_type": "markdown",
      "source": [
        "My own example 216"
      ],
      "metadata": {
        "id": "PFU9bV0OaIMU"
      }
    },
    {
      "cell_type": "code",
      "source": [
        "plt.scatter(R_msft, R_aapl)\n",
        "plt.xlabel('MSFT')\n",
        "plt.ylabel('AAPL')\n",
        "plt.title('Dias en 2014');"
      ],
      "metadata": {
        "colab": {
          "base_uri": "https://localhost:8080/",
          "height": 295
        },
        "id": "xxNGk0E5co-W",
        "outputId": "2fb32cc2-074c-494c-be81-a6d76c2b0ea4"
      },
      "execution_count": null,
      "outputs": [
        {
          "output_type": "display_data",
          "data": {
            "text/plain": [
              "<Figure size 432x288 with 1 Axes>"
            ],
            "image/png": "[encoded data removed]"
          },
          "metadata": {
            "needs_background": "light"
          }
        }
      ]
    },
    {
      "cell_type": "markdown",
      "source": [
        "My own example 217"
      ],
      "metadata": {
        "id": "3J-VCt6laIUT"
      }
    },
    {
      "cell_type": "code",
      "source": [
        "R = data['MSFT'].pct_change()[1:]"
      ],
      "metadata": {
        "id": "RIoqT271crdi"
      },
      "execution_count": null,
      "outputs": []
    },
    {
      "cell_type": "markdown",
      "source": [
        "My own example 218"
      ],
      "metadata": {
        "id": "hdrChhNZaIbz"
      }
    },
    {
      "cell_type": "code",
      "source": [
        "plt.plot(R)\n",
        "plt.ylabel('Respuestas')\n",
        "plt.title('MSFT respuestas');"
      ],
      "metadata": {
        "colab": {
          "base_uri": "https://localhost:8080/",
          "height": 281
        },
        "id": "MgmpNChrctZr",
        "outputId": "033a4b0b-3bed-40c9-e75d-4b29e28b10f2"
      },
      "execution_count": null,
      "outputs": [
        {
          "output_type": "display_data",
          "data": {
            "text/plain": [
              "<Figure size 432x288 with 1 Axes>"
            ],
            "image/png": "[encoded data removed]"
          },
          "metadata": {
            "needs_background": "light"
          }
        }
      ]
    },
    {
      "cell_type": "markdown",
      "source": [
        "My own example 219"
      ],
      "metadata": {
        "id": "EFrtyvCraIka"
      }
    },
    {
      "cell_type": "code",
      "source": [
        "R = data['MSFT'].pct_change()[:-1]"
      ],
      "metadata": {
        "id": "noVdqMODcvS5"
      },
      "execution_count": null,
      "outputs": []
    },
    {
      "cell_type": "markdown",
      "source": [
        "My own example 220"
      ],
      "metadata": {
        "id": "rJ4xsWEraIqq"
      }
    },
    {
      "cell_type": "code",
      "source": [
        "plt.plot(R)\n",
        "plt.ylabel('Respuestas')\n",
        "plt.title('MSFT respuestas');"
      ],
      "metadata": {
        "colab": {
          "base_uri": "https://localhost:8080/",
          "height": 281
        },
        "id": "uo5fXN0xaAy1",
        "outputId": "cd39ad79-ea22-4cdd-9199-dd43f3c7283e"
      },
      "execution_count": null,
      "outputs": [
        {
          "output_type": "display_data",
          "data": {
            "text/plain": [
              "<Figure size 432x288 with 1 Axes>"
            ],
            "image/png": "[encoded data removed]"
          },
          "metadata": {
            "needs_background": "light"
          }
        }
      ]
    }
  ],
  "metadata": {
    "colab": {
      "toc_visible": true,
      "provenance": [],
      "authorship_tag": "ABX9TyNRGHSouD2Uh0OBA/XAG8NE",
      "include_colab_link": true
    },
    "kernelspec": {
      "display_name": "Python 3",
      "name": "python3"
    },
    "language_info": {
      "name": "python"
    }
  },
  "nbformat": 4,
  "nbformat_minor": 0
}